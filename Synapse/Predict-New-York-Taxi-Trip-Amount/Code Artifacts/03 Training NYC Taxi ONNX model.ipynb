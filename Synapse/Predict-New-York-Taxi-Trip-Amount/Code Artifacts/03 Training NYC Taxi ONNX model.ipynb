{
  "metadata": {
    "saveOutput": true,
    "kernelspec": {
      "name": "SQL",
      "display_name": "SQL"
    },
    "language_info": {
      "name": "python"
    }
  },
  "nbformat": 4,
  "nbformat_minor": 2,
  "cells": [
    {
      "cell_type": "markdown",
      "metadata": {},
      "source": [
        "## Predict-New-York-Taxi-Trip-Amount\n",
        ""
      ],
      "attachments": {}
    },
    {
      "cell_type": "markdown",
      "metadata": {},
      "source": [
        "### Read data from open dataset"
      ],
      "attachments": {}
    },
    {
      "cell_type": "code",
      "execution_count": 4,
      "outputs": [
        {
          "output_type": "execute_result",
          "data": {
            "text/plain": "[Info] read from /tmp/tmpl2wjqn9k/https/azureopendatastorage.azurefd.net/nyctlc/green/puYear=2015/puMonth=1/part-00175-tid-4753095944193949832-fee7e113-666d-4114-9fcb-bcd3046479f3-2745-1.c000.snappy.parquet\n[Info] read from /tmp/tmp7jm3m5k8/https/azureopendatastorage.azurefd.net/nyctlc/green/puYear=2015/puMonth=2/part-00007-tid-4753095944193949832-fee7e113-666d-4114-9fcb-bcd3046479f3-2577-1.c000.snappy.parquet\n[Info] read from /tmp/tmpwsodnt2i/https/azureopendatastorage.azurefd.net/nyctlc/green/puYear=2015/puMonth=3/part-00133-tid-4753095944193949832-fee7e113-666d-4114-9fcb-bcd3046479f3-2703-1.c000.snappy.parquet\n[Info] read from /tmp/tmpcavk883v/https/azureopendatastorage.azurefd.net/nyctlc/green/puYear=2015/puMonth=4/part-00073-tid-4753095944193949832-fee7e113-666d-4114-9fcb-bcd3046479f3-2643-1.c000.snappy.parquet\n[Info] read from /tmp/tmp9erns6p4/https/azureopendatastorage.azurefd.net/nyctlc/green/puYear=2015/puMonth=5/part-00177-tid-4753095944193949832-fee7e113-666d-4114-9fcb-bcd3046479f3-2747-1.c000.snappy.parquet\n[Info] read from /tmp/tmpci0cjb32/https/azureopendatastorage.azurefd.net/nyctlc/green/puYear=2015/puMonth=6/part-00156-tid-4753095944193949832-fee7e113-666d-4114-9fcb-bcd3046479f3-2726-2.c000.snappy.parquet\n[Info] read from /tmp/tmpl1v65fn1/https/azureopendatastorage.azurefd.net/nyctlc/green/puYear=2015/puMonth=7/part-00147-tid-4753095944193949832-fee7e113-666d-4114-9fcb-bcd3046479f3-2717-1.c000.snappy.parquet\n[Info] read from /tmp/tmpsodsrf_f/https/azureopendatastorage.azurefd.net/nyctlc/green/puYear=2015/puMonth=8/part-00074-tid-4753095944193949832-fee7e113-666d-4114-9fcb-bcd3046479f3-2644-1.c000.snappy.parquet\n[Info] read from /tmp/tmpivy45x0i/https/azureopendatastorage.azurefd.net/nyctlc/green/puYear=2015/puMonth=9/part-00092-tid-4753095944193949832-fee7e113-666d-4114-9fcb-bcd3046479f3-2662-1.c000.snappy.parquet\n[Info] read from /tmp/tmp3vvgdc2z/https/azureopendatastorage.azurefd.net/nyctlc/green/puYear=2015/puMonth=10/part-00105-tid-4753095944193949832-fee7e113-666d-4114-9fcb-bcd3046479f3-2675-1.c000.snappy.parquet\n[Info] read from /tmp/tmpspn_klym/https/azureopendatastorage.azurefd.net/nyctlc/green/puYear=2015/puMonth=11/part-00089-tid-4753095944193949832-fee7e113-666d-4114-9fcb-bcd3046479f3-2659-1.c000.snappy.parquet\n[Info] read from /tmp/tmptdedvmgd/https/azureopendatastorage.azurefd.net/nyctlc/green/puYear=2015/puMonth=12/part-00020-tid-4753095944193949832-fee7e113-666d-4114-9fcb-bcd3046479f3-2590-1.c000.snappy.parquet"
          },
          "execution_count": 4,
          "metadata": {}
        }
      ],
      "metadata": {},
      "source": [
        "from azureml.opendatasets import NycTlcGreen\r\n",
        "import pandas as pd\r\n",
        "from datetime import datetime\r\n",
        "from dateutil.relativedelta import relativedelta\r\n",
        "\r\n",
        "green_taxi_df = pd.DataFrame([])\r\n",
        "\r\n",
        "start = datetime.strptime(\"1/1/2015\",\"%m/%d/%Y\")\r\n",
        "end = datetime.strptime(\"1/31/2015\",\"%m/%d/%Y\")\r\n",
        "\r\n",
        "for sample_month in range(12):\r\n",
        "    temp_df_green = NycTlcGreen(start + relativedelta(months=sample_month), end + relativedelta(months=sample_month)) \\\r\n",
        "        .to_pandas_dataframe()\r\n",
        "    green_taxi_df = green_taxi_df.append(temp_df_green.sample(2000))"
      ]
    },
    {
      "cell_type": "code",
      "execution_count": 5,
      "outputs": [
        {
          "output_type": "execute_result",
          "data": {
            "text/plain": "vendorID  lpepPickupDatetime   ...    puYear  puMonth\n644579          2 2015-01-04 05:33:54   ...      2015        1\n1198436         2 2015-01-25 18:21:25   ...      2015        1\n142680          2 2015-01-13 15:45:37   ...      2015        1\n891114          2 2015-01-05 22:47:11   ...      2015        1\n1086485         2 2015-01-03 10:33:20   ...      2015        1\n1340084         1 2015-01-20 20:28:55   ...      2015        1\n863879          1 2015-01-05 08:29:31   ...      2015        1\n844153          2 2015-01-04 22:39:36   ...      2015        1\n1425893         2 2015-01-13 07:16:38   ...      2015        1\n1346315         1 2015-01-20 23:06:03   ...      2015        1\n\n[10 rows x 25 columns]"
          },
          "execution_count": 5,
          "metadata": {}
        }
      ],
      "metadata": {},
      "source": [
        "green_taxi_df.head(10)"
      ]
    },
    {
      "cell_type": "markdown",
      "metadata": {},
      "source": [
        "### Data exploration and feature engineering\n",
        ""
      ],
      "attachments": {}
    },
    {
      "cell_type": "code",
      "execution_count": 7,
      "outputs": [
        {
          "output_type": "execute_result",
          "data": {
            "text/plain": "vendorID  lpepPickupDatetime     ...      day_of_week  day_of_hour\n644579          2 2015-01-04 05:33:54     ...                6            5\n1198436         2 2015-01-25 18:21:25     ...                6           18\n142680          2 2015-01-13 15:45:37     ...                1           15\n891114          2 2015-01-05 22:47:11     ...                0           22\n1086485         2 2015-01-03 10:33:20     ...                5           10\n1340084         1 2015-01-20 20:28:55     ...                1           20\n863879          1 2015-01-05 08:29:31     ...                0            8\n844153          2 2015-01-04 22:39:36     ...                6           22\n1425893         2 2015-01-13 07:16:38     ...                1            7\n1346315         1 2015-01-20 23:06:03     ...                1           23\n\n[10 rows x 29 columns]"
          },
          "execution_count": 7,
          "metadata": {}
        }
      ],
      "metadata": {},
      "source": [
        "def build_time_features(vector):\n",
        "    pickup_datetime = vector[0]\n",
        "    month_num = pickup_datetime.month\n",
        "    day_of_month = pickup_datetime.day\n",
        "    day_of_week = pickup_datetime.weekday()\n",
        "    day_of_hour = pickup_datetime.hour\n",
        "    return pd.Series((month_num, day_of_month, day_of_week, day_of_hour))\n",
        "\n",
        "green_taxi_df[[\"month_num\", \"day_of_month\",\"day_of_week\", \"day_of_hour\"]] = green_taxi_df[[\"lpepPickupDatetime\"]].apply(build_time_features, axis=1)\n",
        "\n",
        "green_taxi_df.head(10)"
      ]
    },
    {
      "cell_type": "code",
      "execution_count": 8,
      "outputs": [
        {
          "output_type": "execute_result",
          "data": {
            "text/plain": "vendorID  passengerCount     ...       day_of_week  day_of_hour\n644579          2               1     ...                 6            5\n1198436         2               1     ...                 6           18\n142680          2               1     ...                 1           15\n891114          2               1     ...                 0           22\n1086485         2               1     ...                 5           10\n\n[5 rows x 12 columns]"
          },
          "execution_count": 8,
          "metadata": {}
        }
      ],
      "metadata": {},
      "source": [
        "columns_to_remove = [\"lpepPickupDatetime\", \"lpepDropoffDatetime\", \"puLocationId\", \"doLocationId\", \"extra\", \"mtaTax\",\n",
        "                     \"improvementSurcharge\", \"tollsAmount\", \"ehailFee\", \"tripType\", \"rateCodeID\", \n",
        "                     \"storeAndFwdFlag\", \"paymentType\", \"fareAmount\", \"tipAmount\",\"puYear\", \"puMonth\"\n",
        "                    ]\n",
        "for col in columns_to_remove:\n",
        "    green_taxi_df.pop(col)\n",
        "    \n",
        "green_taxi_df.head(5)"
      ]
    },
    {
      "cell_type": "code",
      "execution_count": 9,
      "outputs": [
        {
          "output_type": "execute_result",
          "data": {
            "text/plain": "vendorID  passengerCount      ...        day_of_week   day_of_hour\ncount  24000.000000    24000.000000      ...       24000.000000  24000.000000\nmean       1.785917        1.381208      ...           3.254667     13.602458\nstd        0.410193        1.059608      ...           1.957861      6.816819\nmin        1.000000        0.000000      ...           0.000000      0.000000\n25%        2.000000        1.000000      ...           2.000000      9.000000\n50%        2.000000        1.000000      ...           3.000000     15.000000\n75%        2.000000        1.000000      ...           5.000000     19.000000\nmax        2.000000        9.000000      ...           6.000000     23.000000\n\n[8 rows x 12 columns]"
          },
          "execution_count": 9,
          "metadata": {}
        }
      ],
      "metadata": {},
      "source": [
        "green_taxi_df.describe()"
      ]
    },
    {
      "cell_type": "code",
      "execution_count": 10,
      "outputs": [
        {
          "output_type": "execute_result",
          "data": {
            "text/plain": "644579    -73.891006\n1198436   -73.953629\n142680    -73.946533\n891114    -73.910591\n1086485   -73.949898\n1340084   -73.945251\n863879    -73.889587\n844153    -73.954506\n1425893   -73.958076\n1346315   -73.863243\n304048    -73.976158\n1345746   -73.980453\n669120    -73.961884\n1486660   -73.938370\n1085787   -73.844276\n367270    -73.977875\n1018372   -73.956589\n353942    -73.966751\n1213590   -73.990524\n1256727   -73.956200\n1221411   -73.939064\n510193    -73.980919\n1219948   -73.974396\n1112821   -73.992294\n1400587   -73.983559\n737116    -73.964600\n237952    -73.963425\n1344762   -73.944901\n665210    -73.915962\n1217369   -73.948532\n             ...    \n1052970   -73.807533\n896787    -73.940079\n1460802   -73.951485\n1142015   -73.992432\n1339920   -73.943207\n563241    -73.953926\n1601722   -73.947716\n844857    -73.910439\n1267713   -73.974426\n393674    -73.937485\n1128870   -73.920326\n592633    -73.992271\n633992    -73.996613\n1373820   -73.927765\n1193259   -73.956650\n1545013   -73.957222\n333945    -73.952209\n159989    -73.806725\n569049    -73.947472\n49132     -73.948349\n348517    -73.808594\n30277     -73.949059\n1595448   -73.995071\n588189    -73.951302\n712870    -73.975967\n87673     -73.884659\n1331745   -73.939842\n1319174   -73.951645\n142538    -73.977966\n176615    -73.952263\nName: pickupLongitude, Length: 23268, dtype: float64\n644579     40.748966\n1198436    40.674637\n142680     40.749535\n891114     40.776058\n1086485    40.797161\n1340084    40.790791\n863879     40.819386\n844153     40.804047\n1425893    40.810600\n1346315    40.749863\n304048     40.687092\n1345746    40.688679\n669120     40.713398\n1486660    40.850788\n1085787    40.721344\n367270     40.684738\n1018372    40.682507\n353942     40.804317\n1213590    40.703396\n1256727    40.717281\n1221411    40.805046\n510193     40.675613\n1219948    40.686321\n1112821    40.689873\n1400587    40.676437\n737116     40.593185\n237952     40.682743\n1344762    40.807556\n665210     40.817257\n1217369    40.710430\n             ...    \n1052970    40.700382\n896787     40.840801\n1460802    40.786182\n1142015    40.689541\n1339920    40.810753\n563241     40.800503\n1601722    40.745167\n844857     40.775993\n1267713    40.645626\n393674     40.804272\n1128870    40.759563\n592633     40.689735\n633992     40.680817\n1373820    40.675457\n1193259    40.720921\n1545013    40.688469\n333945     40.803875\n159989     40.698647\n569049     40.748028\n49132      40.721268\n348517     40.719814\n30277      40.726059\n1595448    40.688705\n588189     40.688839\n712870     40.684017\n87673      40.747581\n1331745    40.694969\n1319174    40.812077\n142538     40.685349\n176615     40.789833\nName: pickupLatitude, Length: 23268, dtype: float64\n644579    -73.964935\n1198436   -73.938484\n142680    -73.914604\n891114    -73.894478\n1086485   -73.873169\n1340084   -73.939369\n863879    -73.907852\n844153    -73.945587\n1425893   -73.936440\n1346315   -73.872444\n304048    -73.954819\n1345746   -73.962677\n669120    -73.951675\n1486660   -73.942001\n1085787   -73.763809\n367270    -73.953156\n1018372   -73.978470\n353942    -73.981499\n1213590   -73.999634\n1256727   -73.942413\n1221411   -73.962761\n510193    -73.994644\n1219948   -74.000870\n1112821   -73.981834\n1400587   -73.980461\n737116    -73.993866\n237952    -73.952805\n1344762   -73.952339\n665210    -73.897346\n1217369   -73.910049\n             ...    \n1052970   -73.767105\n896787    -73.945282\n1460802   -73.970215\n1142015   -73.998154\n1339920   -73.934364\n563241    -73.944130\n1601722   -73.865868\n844857    -73.947609\n1267713   -73.990128\n393674    -73.948219\n1128870   -73.874527\n592633    -73.995468\n633992    -73.954971\n1373820   -73.901184\n1193259   -73.992302\n1545013   -73.968269\n333945    -73.975304\n159989    -73.788544\n569049    -73.920013\n49132     -73.934113\n348517    -73.812607\n30277     -73.913246\n1595448   -73.974091\n588189    -73.970314\n712870    -73.958275\n87673     -73.859741\n1331745   -73.928223\n1319174   -73.951424\n142538    -73.992912\n176615    -73.938095\nName: dropoffLongitude, Length: 23268, dtype: float64\n644579     40.768551\n1198436    40.677086\n142680     40.783356\n891114     40.766777\n1086485    40.774342\n1340084    40.801941\n863879     40.823677\n844153     40.798855\n1425893    40.806492\n1346315    40.752213\n304048     40.693123\n1345746    40.688534\n669120     40.713863\n1486660    40.842983\n1085787    40.669662\n367270     40.671333\n1018372    40.762951\n353942     40.780579\n1213590    40.693352\n1256727    40.702820\n1221411    40.801735\n510193     40.697525\n1219948    40.727539\n1112821    40.674484\n1400587    40.660484\n737116     40.701328\n237952     40.718475\n1344762    40.810707\n665210     40.858799\n1217369    40.773933\n             ...    \n1052970    40.669338\n896787     40.835056\n1460802    40.794163\n1142015    40.692036\n1339920    40.817940\n563241     40.788090\n1601722    40.851936\n844857     40.812000\n1267713    40.665966\n393674     40.789562\n1128870    40.747250\n592633     40.696083\n633992     40.788593\n1373820    40.676579\n1193259    40.700279\n1545013    40.799061\n333945     40.787094\n159989     40.681171\n569049     40.727398\n49132      40.709743\n348517     40.713478\n30277      40.686638\n1595448    40.672340\n588189     40.680603\n712870     40.676392\n87673      40.759998\n1331745    40.674030\n1319174    40.813526\n142538     40.668095\n176615     40.797062\nName: dropoffLatitude, Length: 23268, dtype: float64"
          },
          "execution_count": 10,
          "metadata": {}
        }
      ],
      "metadata": {
        "outputCollapsed": true
      },
      "source": [
        "final_df = green_taxi_df.query(\"pickupLatitude>=40.53 and pickupLatitude<=40.88\")\r\n",
        "final_df = final_df.query(\"pickupLongitude>=-74.09 and pickupLongitude<=-73.72\")\r\n",
        "final_df = final_df.query(\"tripDistance>=0.25 and tripDistance<31\")\r\n",
        "final_df = final_df.query(\"passengerCount>0 and totalAmount>0\")\r\n",
        "\r\n",
        "columns_to_remove_for_training = [\"pickupLongitude\", \"pickupLatitude\", \"dropoffLongitude\", \"dropoffLatitude\"]\r\n",
        "for col in columns_to_remove_for_training:\r\n",
        "    final_df.pop(col)"
      ]
    },
    {
      "cell_type": "code",
      "execution_count": 11,
      "outputs": [
        {
          "output_type": "execute_result",
          "data": {
            "text/plain": "vendorID  passengerCount      ...        day_of_week   day_of_hour\ncount  23268.000000    23268.000000      ...       23268.000000  23268.000000\nmean       1.787519        1.382070      ...           3.258939     13.631339\nstd        0.409072        1.059769      ...           1.956602      6.820333\nmin        1.000000        1.000000      ...           0.000000      0.000000\n25%        2.000000        1.000000      ...           2.000000      9.000000\n50%        2.000000        1.000000      ...           3.000000     15.000000\n75%        2.000000        1.000000      ...           5.000000     19.000000\nmax        2.000000        6.000000      ...           6.000000     23.000000\n\n[8 rows x 8 columns]"
          },
          "execution_count": 11,
          "metadata": {}
        }
      ],
      "metadata": {},
      "source": [
        "final_df.describe()"
      ]
    },
    {
      "cell_type": "code",
      "execution_count": 12,
      "outputs": [
        {
          "output_type": "execute_result",
          "data": {
            "application/json": {
              "table": {
                "rows": [
                  {
                    "passengerCount": 1,
                    "day_of_hour": 5,
                    "day_of_week": 6,
                    "tripDistance": 5.24,
                    "vendorID": 2,
                    "totalAmount": 18.8,
                    "day_of_month": 4,
                    "month_num": 1
                  },
                  {
                    "passengerCount": 1,
                    "day_of_hour": 18,
                    "day_of_week": 6,
                    "tripDistance": 1.14,
                    "vendorID": 2,
                    "totalAmount": 7.3,
                    "day_of_month": 25,
                    "month_num": 1
                  },
                  {
                    "passengerCount": 1,
                    "day_of_hour": 15,
                    "day_of_week": 1,
                    "tripDistance": 2.91,
                    "vendorID": 2,
                    "totalAmount": 12.3,
                    "day_of_month": 13,
                    "month_num": 1
                  },
                  {
                    "passengerCount": 1,
                    "day_of_hour": 22,
                    "day_of_week": 0,
                    "tripDistance": 1.45,
                    "vendorID": 2,
                    "totalAmount": 7.8,
                    "day_of_month": 5,
                    "month_num": 1
                  },
                  {
                    "passengerCount": 1,
                    "day_of_hour": 10,
                    "day_of_week": 5,
                    "tripDistance": 7.46,
                    "vendorID": 2,
                    "totalAmount": 28.63,
                    "day_of_month": 3,
                    "month_num": 1
                  },
                  {
                    "passengerCount": 1,
                    "day_of_hour": 20,
                    "day_of_week": 1,
                    "tripDistance": 0.9,
                    "vendorID": 1,
                    "totalAmount": 6.3,
                    "day_of_month": 20,
                    "month_num": 1
                  },
                  {
                    "passengerCount": 1,
                    "day_of_hour": 8,
                    "day_of_week": 0,
                    "tripDistance": 1,
                    "vendorID": 1,
                    "totalAmount": 8.3,
                    "day_of_month": 5,
                    "month_num": 1
                  },
                  {
                    "passengerCount": 1,
                    "day_of_hour": 22,
                    "day_of_week": 6,
                    "tripDistance": 0.88,
                    "vendorID": 2,
                    "totalAmount": 6.8,
                    "day_of_month": 4,
                    "month_num": 1
                  },
                  {
                    "passengerCount": 1,
                    "day_of_hour": 7,
                    "day_of_week": 1,
                    "tripDistance": 1.49,
                    "vendorID": 2,
                    "totalAmount": 12.2,
                    "day_of_month": 13,
                    "month_num": 1
                  },
                  {
                    "passengerCount": 1,
                    "day_of_hour": 23,
                    "day_of_week": 1,
                    "tripDistance": 0.6,
                    "vendorID": 1,
                    "totalAmount": 5.8,
                    "day_of_month": 20,
                    "month_num": 1
                  },
                  {
                    "passengerCount": 2,
                    "day_of_hour": 20,
                    "day_of_week": 5,
                    "tripDistance": 1.4,
                    "vendorID": 1,
                    "totalAmount": 7.8,
                    "day_of_month": 3,
                    "month_num": 1
                  },
                  {
                    "passengerCount": 1,
                    "day_of_hour": 22,
                    "day_of_week": 1,
                    "tripDistance": 0.97,
                    "vendorID": 2,
                    "totalAmount": 6.8,
                    "day_of_month": 20,
                    "month_num": 1
                  },
                  {
                    "passengerCount": 1,
                    "day_of_hour": 0,
                    "day_of_week": 5,
                    "tripDistance": 0.6,
                    "vendorID": 1,
                    "totalAmount": 6.3,
                    "day_of_month": 10,
                    "month_num": 1
                  },
                  {
                    "passengerCount": 1,
                    "day_of_hour": 8,
                    "day_of_week": 4,
                    "tripDistance": 0.57,
                    "vendorID": 2,
                    "totalAmount": 7.8,
                    "day_of_month": 30,
                    "month_num": 1
                  },
                  {
                    "passengerCount": 1,
                    "day_of_hour": 12,
                    "day_of_week": 5,
                    "tripDistance": 13.83,
                    "vendorID": 2,
                    "totalAmount": 48.2,
                    "day_of_month": 3,
                    "month_num": 1
                  },
                  {
                    "passengerCount": 1,
                    "day_of_hour": 16,
                    "day_of_week": 4,
                    "tripDistance": 2.5,
                    "vendorID": 1,
                    "totalAmount": 18.3,
                    "day_of_month": 16,
                    "month_num": 1
                  },
                  {
                    "passengerCount": 1,
                    "day_of_hour": 6,
                    "day_of_week": 3,
                    "tripDistance": 10.07,
                    "vendorID": 2,
                    "totalAmount": 38.6,
                    "day_of_month": 29,
                    "month_num": 1
                  },
                  {
                    "passengerCount": 6,
                    "day_of_hour": 21,
                    "day_of_week": 3,
                    "tripDistance": 1.82,
                    "vendorID": 2,
                    "totalAmount": 10.3,
                    "day_of_month": 29,
                    "month_num": 1
                  },
                  {
                    "passengerCount": 1,
                    "day_of_hour": 0,
                    "day_of_week": 0,
                    "tripDistance": 0.94,
                    "vendorID": 2,
                    "totalAmount": 7.3,
                    "day_of_month": 26,
                    "month_num": 1
                  },
                  {
                    "passengerCount": 1,
                    "day_of_hour": 1,
                    "day_of_week": 6,
                    "tripDistance": 1.83,
                    "vendorID": 2,
                    "totalAmount": 14,
                    "day_of_month": 11,
                    "month_num": 1
                  },
                  {
                    "passengerCount": 1,
                    "day_of_hour": 8,
                    "day_of_week": 0,
                    "tripDistance": 1.79,
                    "vendorID": 2,
                    "totalAmount": 11.8,
                    "day_of_month": 26,
                    "month_num": 1
                  },
                  {
                    "passengerCount": 1,
                    "day_of_hour": 11,
                    "day_of_week": 6,
                    "tripDistance": 2.49,
                    "vendorID": 2,
                    "totalAmount": 12.8,
                    "day_of_month": 18,
                    "month_num": 1
                  },
                  {
                    "passengerCount": 1,
                    "day_of_hour": 7,
                    "day_of_week": 0,
                    "tripDistance": 3.5,
                    "vendorID": 1,
                    "totalAmount": 17.15,
                    "day_of_month": 26,
                    "month_num": 1
                  },
                  {
                    "passengerCount": 1,
                    "day_of_hour": 17,
                    "day_of_week": 3,
                    "tripDistance": 2.06,
                    "vendorID": 2,
                    "totalAmount": 13.3,
                    "day_of_month": 8,
                    "month_num": 1
                  },
                  {
                    "passengerCount": 2,
                    "day_of_hour": 1,
                    "day_of_week": 3,
                    "tripDistance": 1.8,
                    "vendorID": 1,
                    "totalAmount": 9.3,
                    "day_of_month": 8,
                    "month_num": 1
                  },
                  {
                    "passengerCount": 1,
                    "day_of_hour": 0,
                    "day_of_week": 5,
                    "tripDistance": 8.3,
                    "vendorID": 1,
                    "totalAmount": 26.3,
                    "day_of_month": 17,
                    "month_num": 1
                  },
                  {
                    "passengerCount": 1,
                    "day_of_hour": 10,
                    "day_of_week": 0,
                    "tripDistance": 3.01,
                    "vendorID": 2,
                    "totalAmount": 12.8,
                    "day_of_month": 26,
                    "month_num": 1
                  },
                  {
                    "passengerCount": 1,
                    "day_of_hour": 23,
                    "day_of_week": 1,
                    "tripDistance": 0.45,
                    "vendorID": 2,
                    "totalAmount": 5.3,
                    "day_of_month": 20,
                    "month_num": 1
                  },
                  {
                    "passengerCount": 1,
                    "day_of_hour": 23,
                    "day_of_week": 4,
                    "tripDistance": 3.19,
                    "vendorID": 2,
                    "totalAmount": 13.8,
                    "day_of_month": 9,
                    "month_num": 1
                  },
                  {
                    "passengerCount": 3,
                    "day_of_hour": 5,
                    "day_of_week": 0,
                    "tripDistance": 6.65,
                    "vendorID": 2,
                    "totalAmount": 26,
                    "day_of_month": 26,
                    "month_num": 1
                  },
                  {
                    "passengerCount": 1,
                    "day_of_hour": 16,
                    "day_of_week": 6,
                    "tripDistance": 4,
                    "vendorID": 2,
                    "totalAmount": 16.8,
                    "day_of_month": 18,
                    "month_num": 1
                  },
                  {
                    "passengerCount": 1,
                    "day_of_hour": 17,
                    "day_of_week": 6,
                    "tripDistance": 3.47,
                    "vendorID": 2,
                    "totalAmount": 16.3,
                    "day_of_month": 25,
                    "month_num": 1
                  },
                  {
                    "passengerCount": 6,
                    "day_of_hour": 15,
                    "day_of_week": 6,
                    "tripDistance": 1.8,
                    "vendorID": 2,
                    "totalAmount": 11,
                    "day_of_month": 18,
                    "month_num": 1
                  },
                  {
                    "passengerCount": 1,
                    "day_of_hour": 21,
                    "day_of_week": 4,
                    "tripDistance": 3.27,
                    "vendorID": 2,
                    "totalAmount": 17.7,
                    "day_of_month": 9,
                    "month_num": 1
                  },
                  {
                    "passengerCount": 1,
                    "day_of_hour": 8,
                    "day_of_week": 0,
                    "tripDistance": 0.92,
                    "vendorID": 2,
                    "totalAmount": 6.8,
                    "day_of_month": 12,
                    "month_num": 1
                  },
                  {
                    "passengerCount": 1,
                    "day_of_hour": 15,
                    "day_of_week": 4,
                    "tripDistance": 7.45,
                    "vendorID": 2,
                    "totalAmount": 39.2,
                    "day_of_month": 23,
                    "month_num": 1
                  },
                  {
                    "passengerCount": 1,
                    "day_of_hour": 17,
                    "day_of_week": 4,
                    "tripDistance": 1.37,
                    "vendorID": 2,
                    "totalAmount": 11.6,
                    "day_of_month": 2,
                    "month_num": 1
                  },
                  {
                    "passengerCount": 1,
                    "day_of_hour": 18,
                    "day_of_week": 3,
                    "tripDistance": 0.5,
                    "vendorID": 1,
                    "totalAmount": 6.3,
                    "day_of_month": 15,
                    "month_num": 1
                  },
                  {
                    "passengerCount": 1,
                    "day_of_hour": 14,
                    "day_of_week": 5,
                    "tripDistance": 0.99,
                    "vendorID": 2,
                    "totalAmount": 7.4,
                    "day_of_month": 10,
                    "month_num": 1
                  },
                  {
                    "passengerCount": 1,
                    "day_of_hour": 11,
                    "day_of_week": 4,
                    "tripDistance": 3.78,
                    "vendorID": 2,
                    "totalAmount": 18.2,
                    "day_of_month": 9,
                    "month_num": 1
                  },
                  {
                    "passengerCount": 3,
                    "day_of_hour": 20,
                    "day_of_week": 6,
                    "tripDistance": 2.03,
                    "vendorID": 2,
                    "totalAmount": 11.8,
                    "day_of_month": 4,
                    "month_num": 1
                  },
                  {
                    "passengerCount": 1,
                    "day_of_hour": 0,
                    "day_of_week": 4,
                    "tripDistance": 0.8,
                    "vendorID": 1,
                    "totalAmount": 6.8,
                    "day_of_month": 30,
                    "month_num": 1
                  },
                  {
                    "passengerCount": 1,
                    "day_of_hour": 16,
                    "day_of_week": 3,
                    "tripDistance": 14.96,
                    "vendorID": 2,
                    "totalAmount": 53.8,
                    "day_of_month": 8,
                    "month_num": 1
                  },
                  {
                    "passengerCount": 1,
                    "day_of_hour": 15,
                    "day_of_week": 6,
                    "tripDistance": 2.92,
                    "vendorID": 2,
                    "totalAmount": 12.5,
                    "day_of_month": 4,
                    "month_num": 1
                  },
                  {
                    "passengerCount": 1,
                    "day_of_hour": 22,
                    "day_of_week": 5,
                    "tripDistance": 1.63,
                    "vendorID": 2,
                    "totalAmount": 11.76,
                    "day_of_month": 24,
                    "month_num": 1
                  },
                  {
                    "passengerCount": 1,
                    "day_of_hour": 14,
                    "day_of_week": 2,
                    "tripDistance": 2.3,
                    "vendorID": 1,
                    "totalAmount": 11.3,
                    "day_of_month": 7,
                    "month_num": 1
                  },
                  {
                    "passengerCount": 1,
                    "day_of_hour": 11,
                    "day_of_week": 0,
                    "tripDistance": 0.42,
                    "vendorID": 2,
                    "totalAmount": 4.8,
                    "day_of_month": 5,
                    "month_num": 1
                  },
                  {
                    "passengerCount": 2,
                    "day_of_hour": 21,
                    "day_of_week": 3,
                    "tripDistance": 2.55,
                    "vendorID": 2,
                    "totalAmount": 12.8,
                    "day_of_month": 8,
                    "month_num": 1
                  },
                  {
                    "passengerCount": 1,
                    "day_of_hour": 12,
                    "day_of_week": 1,
                    "tripDistance": 1.64,
                    "vendorID": 2,
                    "totalAmount": 12.8,
                    "day_of_month": 6,
                    "month_num": 1
                  },
                  {
                    "passengerCount": 1,
                    "day_of_hour": 17,
                    "day_of_week": 2,
                    "tripDistance": 0.4,
                    "vendorID": 1,
                    "totalAmount": 6.6,
                    "day_of_month": 14,
                    "month_num": 1
                  },
                  {
                    "passengerCount": 3,
                    "day_of_hour": 15,
                    "day_of_week": 1,
                    "tripDistance": 1.48,
                    "vendorID": 2,
                    "totalAmount": 7.8,
                    "day_of_month": 27,
                    "month_num": 1
                  },
                  {
                    "passengerCount": 5,
                    "day_of_hour": 22,
                    "day_of_week": 1,
                    "tripDistance": 1.45,
                    "vendorID": 2,
                    "totalAmount": 8.8,
                    "day_of_month": 27,
                    "month_num": 1
                  },
                  {
                    "passengerCount": 3,
                    "day_of_hour": 23,
                    "day_of_week": 1,
                    "tripDistance": 4.1,
                    "vendorID": 1,
                    "totalAmount": 19.8,
                    "day_of_month": 20,
                    "month_num": 1
                  },
                  {
                    "passengerCount": 1,
                    "day_of_hour": 12,
                    "day_of_week": 1,
                    "tripDistance": 7.12,
                    "vendorID": 2,
                    "totalAmount": 27.8,
                    "day_of_month": 6,
                    "month_num": 1
                  },
                  {
                    "passengerCount": 1,
                    "day_of_hour": 9,
                    "day_of_week": 5,
                    "tripDistance": 8.08,
                    "vendorID": 2,
                    "totalAmount": 25.3,
                    "day_of_month": 3,
                    "month_num": 1
                  },
                  {
                    "passengerCount": 5,
                    "day_of_hour": 1,
                    "day_of_week": 5,
                    "tripDistance": 7.64,
                    "vendorID": 2,
                    "totalAmount": 28.4,
                    "day_of_month": 10,
                    "month_num": 1
                  },
                  {
                    "passengerCount": 4,
                    "day_of_hour": 19,
                    "day_of_week": 3,
                    "tripDistance": 1.63,
                    "vendorID": 2,
                    "totalAmount": 8.8,
                    "day_of_month": 1,
                    "month_num": 1
                  },
                  {
                    "passengerCount": 1,
                    "day_of_hour": 16,
                    "day_of_week": 5,
                    "tripDistance": 0.78,
                    "vendorID": 2,
                    "totalAmount": 6.3,
                    "day_of_month": 3,
                    "month_num": 1
                  },
                  {
                    "passengerCount": 1,
                    "day_of_hour": 23,
                    "day_of_week": 5,
                    "tripDistance": 5,
                    "vendorID": 1,
                    "totalAmount": 24.35,
                    "day_of_month": 10,
                    "month_num": 1
                  },
                  {
                    "passengerCount": 1,
                    "day_of_hour": 22,
                    "day_of_week": 2,
                    "tripDistance": 2.1,
                    "vendorID": 1,
                    "totalAmount": 10.3,
                    "day_of_month": 14,
                    "month_num": 1
                  },
                  {
                    "passengerCount": 1,
                    "day_of_hour": 7,
                    "day_of_week": 0,
                    "tripDistance": 3.32,
                    "vendorID": 2,
                    "totalAmount": 16.8,
                    "day_of_month": 12,
                    "month_num": 1
                  },
                  {
                    "passengerCount": 1,
                    "day_of_hour": 4,
                    "day_of_week": 5,
                    "tripDistance": 1.44,
                    "vendorID": 2,
                    "totalAmount": 7.8,
                    "day_of_month": 10,
                    "month_num": 1
                  },
                  {
                    "passengerCount": 1,
                    "day_of_hour": 20,
                    "day_of_week": 4,
                    "tripDistance": 4.7,
                    "vendorID": 1,
                    "totalAmount": 17.8,
                    "day_of_month": 9,
                    "month_num": 1
                  },
                  {
                    "passengerCount": 1,
                    "day_of_hour": 0,
                    "day_of_week": 3,
                    "tripDistance": 0.91,
                    "vendorID": 2,
                    "totalAmount": 7.3,
                    "day_of_month": 1,
                    "month_num": 1
                  },
                  {
                    "passengerCount": 1,
                    "day_of_hour": 20,
                    "day_of_week": 6,
                    "tripDistance": 2.32,
                    "vendorID": 2,
                    "totalAmount": 15.3,
                    "day_of_month": 25,
                    "month_num": 1
                  },
                  {
                    "passengerCount": 1,
                    "day_of_hour": 20,
                    "day_of_week": 6,
                    "tripDistance": 0.7,
                    "vendorID": 1,
                    "totalAmount": 6.3,
                    "day_of_month": 25,
                    "month_num": 1
                  },
                  {
                    "passengerCount": 1,
                    "day_of_hour": 21,
                    "day_of_week": 2,
                    "tripDistance": 7.7,
                    "vendorID": 2,
                    "totalAmount": 33.2,
                    "day_of_month": 21,
                    "month_num": 1
                  },
                  {
                    "passengerCount": 1,
                    "day_of_hour": 3,
                    "day_of_week": 6,
                    "tripDistance": 1.95,
                    "vendorID": 2,
                    "totalAmount": 11.42,
                    "day_of_month": 18,
                    "month_num": 1
                  },
                  {
                    "passengerCount": 1,
                    "day_of_hour": 14,
                    "day_of_week": 6,
                    "tripDistance": 1.9,
                    "vendorID": 1,
                    "totalAmount": 11.75,
                    "day_of_month": 4,
                    "month_num": 1
                  },
                  {
                    "passengerCount": 1,
                    "day_of_hour": 15,
                    "day_of_week": 1,
                    "tripDistance": 1.46,
                    "vendorID": 2,
                    "totalAmount": 8.3,
                    "day_of_month": 20,
                    "month_num": 1
                  },
                  {
                    "passengerCount": 1,
                    "day_of_hour": 1,
                    "day_of_week": 6,
                    "tripDistance": 2.33,
                    "vendorID": 2,
                    "totalAmount": 11.3,
                    "day_of_month": 25,
                    "month_num": 1
                  },
                  {
                    "passengerCount": 1,
                    "day_of_hour": 18,
                    "day_of_week": 0,
                    "tripDistance": 3.36,
                    "vendorID": 2,
                    "totalAmount": 16.5,
                    "day_of_month": 19,
                    "month_num": 1
                  },
                  {
                    "passengerCount": 1,
                    "day_of_hour": 0,
                    "day_of_week": 6,
                    "tripDistance": 6.79,
                    "vendorID": 2,
                    "totalAmount": 28.3,
                    "day_of_month": 4,
                    "month_num": 1
                  },
                  {
                    "passengerCount": 1,
                    "day_of_hour": 0,
                    "day_of_week": 3,
                    "tripDistance": 3.96,
                    "vendorID": 2,
                    "totalAmount": 18.8,
                    "day_of_month": 15,
                    "month_num": 1
                  },
                  {
                    "passengerCount": 1,
                    "day_of_hour": 19,
                    "day_of_week": 3,
                    "tripDistance": 2.15,
                    "vendorID": 2,
                    "totalAmount": 14.76,
                    "day_of_month": 29,
                    "month_num": 1
                  },
                  {
                    "passengerCount": 1,
                    "day_of_hour": 11,
                    "day_of_week": 5,
                    "tripDistance": 2.22,
                    "vendorID": 2,
                    "totalAmount": 11.3,
                    "day_of_month": 24,
                    "month_num": 1
                  },
                  {
                    "passengerCount": 2,
                    "day_of_hour": 3,
                    "day_of_week": 6,
                    "tripDistance": 2.4,
                    "vendorID": 1,
                    "totalAmount": 12.3,
                    "day_of_month": 11,
                    "month_num": 1
                  },
                  {
                    "passengerCount": 1,
                    "day_of_hour": 22,
                    "day_of_week": 1,
                    "tripDistance": 4.9,
                    "vendorID": 2,
                    "totalAmount": 17.3,
                    "day_of_month": 27,
                    "month_num": 1
                  },
                  {
                    "passengerCount": 1,
                    "day_of_hour": 9,
                    "day_of_week": 4,
                    "tripDistance": 2.52,
                    "vendorID": 2,
                    "totalAmount": 14.3,
                    "day_of_month": 16,
                    "month_num": 1
                  },
                  {
                    "passengerCount": 1,
                    "day_of_hour": 21,
                    "day_of_week": 3,
                    "tripDistance": 1.32,
                    "vendorID": 2,
                    "totalAmount": 8.3,
                    "day_of_month": 29,
                    "month_num": 1
                  },
                  {
                    "passengerCount": 1,
                    "day_of_hour": 7,
                    "day_of_week": 3,
                    "tripDistance": 7.86,
                    "vendorID": 2,
                    "totalAmount": 25.3,
                    "day_of_month": 22,
                    "month_num": 1
                  },
                  {
                    "passengerCount": 1,
                    "day_of_hour": 0,
                    "day_of_week": 5,
                    "tripDistance": 3.2,
                    "vendorID": 1,
                    "totalAmount": 12.3,
                    "day_of_month": 17,
                    "month_num": 1
                  },
                  {
                    "passengerCount": 1,
                    "day_of_hour": 12,
                    "day_of_week": 2,
                    "tripDistance": 2.45,
                    "vendorID": 2,
                    "totalAmount": 11.8,
                    "day_of_month": 14,
                    "month_num": 1
                  },
                  {
                    "passengerCount": 1,
                    "day_of_hour": 9,
                    "day_of_week": 3,
                    "tripDistance": 3.69,
                    "vendorID": 2,
                    "totalAmount": 20.6,
                    "day_of_month": 8,
                    "month_num": 1
                  },
                  {
                    "passengerCount": 1,
                    "day_of_hour": 4,
                    "day_of_week": 3,
                    "tripDistance": 1.6,
                    "vendorID": 1,
                    "totalAmount": 9.95,
                    "day_of_month": 15,
                    "month_num": 1
                  },
                  {
                    "passengerCount": 1,
                    "day_of_hour": 19,
                    "day_of_week": 4,
                    "tripDistance": 11.96,
                    "vendorID": 2,
                    "totalAmount": 39.8,
                    "day_of_month": 30,
                    "month_num": 1
                  },
                  {
                    "passengerCount": 4,
                    "day_of_hour": 1,
                    "day_of_week": 5,
                    "tripDistance": 1.51,
                    "vendorID": 2,
                    "totalAmount": 9.8,
                    "day_of_month": 10,
                    "month_num": 1
                  },
                  {
                    "passengerCount": 1,
                    "day_of_hour": 1,
                    "day_of_week": 3,
                    "tripDistance": 1.22,
                    "vendorID": 2,
                    "totalAmount": 7.8,
                    "day_of_month": 1,
                    "month_num": 1
                  },
                  {
                    "passengerCount": 1,
                    "day_of_hour": 22,
                    "day_of_week": 2,
                    "tripDistance": 5.8,
                    "vendorID": 1,
                    "totalAmount": 23.3,
                    "day_of_month": 21,
                    "month_num": 1
                  },
                  {
                    "passengerCount": 1,
                    "day_of_hour": 19,
                    "day_of_week": 5,
                    "tripDistance": 5.61,
                    "vendorID": 2,
                    "totalAmount": 26.6,
                    "day_of_month": 24,
                    "month_num": 1
                  },
                  {
                    "passengerCount": 1,
                    "day_of_hour": 14,
                    "day_of_week": 4,
                    "tripDistance": 1.2,
                    "vendorID": 1,
                    "totalAmount": 9.8,
                    "day_of_month": 2,
                    "month_num": 1
                  },
                  {
                    "passengerCount": 1,
                    "day_of_hour": 19,
                    "day_of_week": 6,
                    "tripDistance": 0.91,
                    "vendorID": 2,
                    "totalAmount": 6.3,
                    "day_of_month": 4,
                    "month_num": 1
                  },
                  {
                    "passengerCount": 1,
                    "day_of_hour": 9,
                    "day_of_week": 6,
                    "tripDistance": 5.81,
                    "vendorID": 2,
                    "totalAmount": 20.3,
                    "day_of_month": 11,
                    "month_num": 1
                  },
                  {
                    "passengerCount": 1,
                    "day_of_hour": 15,
                    "day_of_week": 6,
                    "tripDistance": 1.97,
                    "vendorID": 2,
                    "totalAmount": 9.3,
                    "day_of_month": 18,
                    "month_num": 1
                  },
                  {
                    "passengerCount": 1,
                    "day_of_hour": 21,
                    "day_of_week": 3,
                    "tripDistance": 4.1,
                    "vendorID": 1,
                    "totalAmount": 22.8,
                    "day_of_month": 15,
                    "month_num": 1
                  },
                  {
                    "passengerCount": 1,
                    "day_of_hour": 0,
                    "day_of_week": 2,
                    "tripDistance": 3,
                    "vendorID": 1,
                    "totalAmount": 14.75,
                    "day_of_month": 14,
                    "month_num": 1
                  },
                  {
                    "passengerCount": 1,
                    "day_of_hour": 4,
                    "day_of_week": 5,
                    "tripDistance": 1.3,
                    "vendorID": 1,
                    "totalAmount": 7.8,
                    "day_of_month": 10,
                    "month_num": 1
                  },
                  {
                    "passengerCount": 1,
                    "day_of_hour": 23,
                    "day_of_week": 2,
                    "tripDistance": 1.05,
                    "vendorID": 2,
                    "totalAmount": 7.3,
                    "day_of_month": 7,
                    "month_num": 1
                  },
                  {
                    "passengerCount": 1,
                    "day_of_hour": 11,
                    "day_of_week": 2,
                    "tripDistance": 2.64,
                    "vendorID": 2,
                    "totalAmount": 12.3,
                    "day_of_month": 14,
                    "month_num": 1
                  },
                  {
                    "passengerCount": 1,
                    "day_of_hour": 13,
                    "day_of_week": 5,
                    "tripDistance": 4.47,
                    "vendorID": 2,
                    "totalAmount": 20.3,
                    "day_of_month": 24,
                    "month_num": 1
                  },
                  {
                    "passengerCount": 1,
                    "day_of_hour": 5,
                    "day_of_week": 6,
                    "tripDistance": 16.3,
                    "vendorID": 1,
                    "totalAmount": 54.3,
                    "day_of_month": 18,
                    "month_num": 1
                  },
                  {
                    "passengerCount": 1,
                    "day_of_hour": 1,
                    "day_of_week": 3,
                    "tripDistance": 2.9,
                    "vendorID": 2,
                    "totalAmount": 13.8,
                    "day_of_month": 1,
                    "month_num": 1
                  },
                  {
                    "passengerCount": 1,
                    "day_of_hour": 19,
                    "day_of_week": 2,
                    "tripDistance": 1.5,
                    "vendorID": 1,
                    "totalAmount": 9.8,
                    "day_of_month": 21,
                    "month_num": 1
                  },
                  {
                    "passengerCount": 1,
                    "day_of_hour": 14,
                    "day_of_week": 5,
                    "tripDistance": 2.53,
                    "vendorID": 2,
                    "totalAmount": 13.3,
                    "day_of_month": 10,
                    "month_num": 1
                  },
                  {
                    "passengerCount": 3,
                    "day_of_hour": 8,
                    "day_of_week": 3,
                    "tripDistance": 0.7,
                    "vendorID": 1,
                    "totalAmount": 6.8,
                    "day_of_month": 29,
                    "month_num": 1
                  },
                  {
                    "passengerCount": 1,
                    "day_of_hour": 18,
                    "day_of_week": 6,
                    "tripDistance": 0.9,
                    "vendorID": 1,
                    "totalAmount": 8.8,
                    "day_of_month": 4,
                    "month_num": 1
                  },
                  {
                    "passengerCount": 4,
                    "day_of_hour": 13,
                    "day_of_week": 3,
                    "tripDistance": 1,
                    "vendorID": 1,
                    "totalAmount": 6.8,
                    "day_of_month": 1,
                    "month_num": 1
                  },
                  {
                    "passengerCount": 1,
                    "day_of_hour": 15,
                    "day_of_week": 5,
                    "tripDistance": 1.73,
                    "vendorID": 2,
                    "totalAmount": 9.3,
                    "day_of_month": 17,
                    "month_num": 1
                  },
                  {
                    "passengerCount": 1,
                    "day_of_hour": 14,
                    "day_of_week": 5,
                    "tripDistance": 0.72,
                    "vendorID": 2,
                    "totalAmount": 8,
                    "day_of_month": 10,
                    "month_num": 1
                  },
                  {
                    "passengerCount": 1,
                    "day_of_hour": 18,
                    "day_of_week": 3,
                    "tripDistance": 0.82,
                    "vendorID": 2,
                    "totalAmount": 6.3,
                    "day_of_month": 29,
                    "month_num": 1
                  },
                  {
                    "passengerCount": 1,
                    "day_of_hour": 3,
                    "day_of_week": 6,
                    "tripDistance": 2.71,
                    "vendorID": 2,
                    "totalAmount": 12.8,
                    "day_of_month": 4,
                    "month_num": 1
                  },
                  {
                    "passengerCount": 1,
                    "day_of_hour": 22,
                    "day_of_week": 5,
                    "tripDistance": 2.8,
                    "vendorID": 1,
                    "totalAmount": 12.3,
                    "day_of_month": 17,
                    "month_num": 1
                  },
                  {
                    "passengerCount": 1,
                    "day_of_hour": 23,
                    "day_of_week": 1,
                    "tripDistance": 3.25,
                    "vendorID": 2,
                    "totalAmount": 17,
                    "day_of_month": 6,
                    "month_num": 1
                  },
                  {
                    "passengerCount": 1,
                    "day_of_hour": 11,
                    "day_of_week": 3,
                    "tripDistance": 0.67,
                    "vendorID": 2,
                    "totalAmount": 5.3,
                    "day_of_month": 1,
                    "month_num": 1
                  },
                  {
                    "passengerCount": 5,
                    "day_of_hour": 23,
                    "day_of_week": 3,
                    "tripDistance": 1.36,
                    "vendorID": 2,
                    "totalAmount": 9.96,
                    "day_of_month": 29,
                    "month_num": 1
                  },
                  {
                    "passengerCount": 1,
                    "day_of_hour": 19,
                    "day_of_week": 2,
                    "tripDistance": 1.6,
                    "vendorID": 1,
                    "totalAmount": 9.5,
                    "day_of_month": 21,
                    "month_num": 1
                  },
                  {
                    "passengerCount": 1,
                    "day_of_hour": 2,
                    "day_of_week": 3,
                    "tripDistance": 1.97,
                    "vendorID": 2,
                    "totalAmount": 11.85,
                    "day_of_month": 1,
                    "month_num": 1
                  },
                  {
                    "passengerCount": 2,
                    "day_of_hour": 23,
                    "day_of_week": 3,
                    "tripDistance": 1.61,
                    "vendorID": 2,
                    "totalAmount": 10,
                    "day_of_month": 29,
                    "month_num": 1
                  },
                  {
                    "passengerCount": 1,
                    "day_of_hour": 22,
                    "day_of_week": 6,
                    "tripDistance": 4.5,
                    "vendorID": 1,
                    "totalAmount": 17.3,
                    "day_of_month": 11,
                    "month_num": 1
                  },
                  {
                    "passengerCount": 2,
                    "day_of_hour": 22,
                    "day_of_week": 2,
                    "tripDistance": 1.56,
                    "vendorID": 2,
                    "totalAmount": 8.3,
                    "day_of_month": 7,
                    "month_num": 1
                  },
                  {
                    "passengerCount": 1,
                    "day_of_hour": 17,
                    "day_of_week": 5,
                    "tripDistance": 1.04,
                    "vendorID": 2,
                    "totalAmount": 7.8,
                    "day_of_month": 3,
                    "month_num": 1
                  },
                  {
                    "passengerCount": 1,
                    "day_of_hour": 22,
                    "day_of_week": 2,
                    "tripDistance": 5.49,
                    "vendorID": 2,
                    "totalAmount": 22.7,
                    "day_of_month": 21,
                    "month_num": 1
                  },
                  {
                    "passengerCount": 1,
                    "day_of_hour": 12,
                    "day_of_week": 2,
                    "tripDistance": 0.39,
                    "vendorID": 2,
                    "totalAmount": 7.3,
                    "day_of_month": 21,
                    "month_num": 1
                  },
                  {
                    "passengerCount": 1,
                    "day_of_hour": 17,
                    "day_of_week": 4,
                    "tripDistance": 1.27,
                    "vendorID": 2,
                    "totalAmount": 9.36,
                    "day_of_month": 30,
                    "month_num": 1
                  },
                  {
                    "passengerCount": 1,
                    "day_of_hour": 9,
                    "day_of_week": 3,
                    "tripDistance": 0.61,
                    "vendorID": 2,
                    "totalAmount": 5.3,
                    "day_of_month": 15,
                    "month_num": 1
                  },
                  {
                    "passengerCount": 1,
                    "day_of_hour": 0,
                    "day_of_week": 4,
                    "tripDistance": 3.1,
                    "vendorID": 1,
                    "totalAmount": 16.55,
                    "day_of_month": 30,
                    "month_num": 1
                  },
                  {
                    "passengerCount": 1,
                    "day_of_hour": 14,
                    "day_of_week": 4,
                    "tripDistance": 0.3,
                    "vendorID": 1,
                    "totalAmount": 4.5,
                    "day_of_month": 30,
                    "month_num": 1
                  },
                  {
                    "passengerCount": 1,
                    "day_of_hour": 21,
                    "day_of_week": 1,
                    "tripDistance": 0.8,
                    "vendorID": 1,
                    "totalAmount": 7.5,
                    "day_of_month": 13,
                    "month_num": 1
                  },
                  {
                    "passengerCount": 1,
                    "day_of_hour": 23,
                    "day_of_week": 4,
                    "tripDistance": 2.15,
                    "vendorID": 2,
                    "totalAmount": 10.8,
                    "day_of_month": 30,
                    "month_num": 1
                  },
                  {
                    "passengerCount": 5,
                    "day_of_hour": 23,
                    "day_of_week": 5,
                    "tripDistance": 1.11,
                    "vendorID": 2,
                    "totalAmount": 8.3,
                    "day_of_month": 10,
                    "month_num": 1
                  },
                  {
                    "passengerCount": 5,
                    "day_of_hour": 20,
                    "day_of_week": 1,
                    "tripDistance": 0.74,
                    "vendorID": 2,
                    "totalAmount": 5.8,
                    "day_of_month": 13,
                    "month_num": 1
                  },
                  {
                    "passengerCount": 1,
                    "day_of_hour": 13,
                    "day_of_week": 2,
                    "tripDistance": 2.36,
                    "vendorID": 2,
                    "totalAmount": 11.8,
                    "day_of_month": 7,
                    "month_num": 1
                  },
                  {
                    "passengerCount": 1,
                    "day_of_hour": 8,
                    "day_of_week": 4,
                    "tripDistance": 0.84,
                    "vendorID": 2,
                    "totalAmount": 7.3,
                    "day_of_month": 16,
                    "month_num": 1
                  },
                  {
                    "passengerCount": 1,
                    "day_of_hour": 3,
                    "day_of_week": 4,
                    "tripDistance": 0.36,
                    "vendorID": 2,
                    "totalAmount": 4.8,
                    "day_of_month": 9,
                    "month_num": 1
                  },
                  {
                    "passengerCount": 1,
                    "day_of_hour": 3,
                    "day_of_week": 6,
                    "tripDistance": 2,
                    "vendorID": 1,
                    "totalAmount": 11.75,
                    "day_of_month": 18,
                    "month_num": 1
                  },
                  {
                    "passengerCount": 1,
                    "day_of_hour": 13,
                    "day_of_week": 1,
                    "tripDistance": 1.07,
                    "vendorID": 2,
                    "totalAmount": 6.8,
                    "day_of_month": 20,
                    "month_num": 1
                  },
                  {
                    "passengerCount": 1,
                    "day_of_hour": 23,
                    "day_of_week": 4,
                    "tripDistance": 2.9,
                    "vendorID": 1,
                    "totalAmount": 14.8,
                    "day_of_month": 9,
                    "month_num": 1
                  },
                  {
                    "passengerCount": 1,
                    "day_of_hour": 20,
                    "day_of_week": 6,
                    "tripDistance": 2.65,
                    "vendorID": 2,
                    "totalAmount": 14.6,
                    "day_of_month": 4,
                    "month_num": 1
                  },
                  {
                    "passengerCount": 1,
                    "day_of_hour": 11,
                    "day_of_week": 3,
                    "tripDistance": 0.48,
                    "vendorID": 2,
                    "totalAmount": 4.3,
                    "day_of_month": 15,
                    "month_num": 1
                  },
                  {
                    "passengerCount": 2,
                    "day_of_hour": 12,
                    "day_of_week": 3,
                    "tripDistance": 3.2,
                    "vendorID": 1,
                    "totalAmount": 20.8,
                    "day_of_month": 22,
                    "month_num": 1
                  },
                  {
                    "passengerCount": 1,
                    "day_of_hour": 18,
                    "day_of_week": 1,
                    "tripDistance": 0.53,
                    "vendorID": 2,
                    "totalAmount": 7.4,
                    "day_of_month": 13,
                    "month_num": 1
                  },
                  {
                    "passengerCount": 1,
                    "day_of_hour": 23,
                    "day_of_week": 4,
                    "tripDistance": 2.82,
                    "vendorID": 2,
                    "totalAmount": 15.8,
                    "day_of_month": 30,
                    "month_num": 1
                  },
                  {
                    "passengerCount": 1,
                    "day_of_hour": 14,
                    "day_of_week": 6,
                    "tripDistance": 1.5,
                    "vendorID": 1,
                    "totalAmount": 11.15,
                    "day_of_month": 25,
                    "month_num": 1
                  },
                  {
                    "passengerCount": 1,
                    "day_of_hour": 15,
                    "day_of_week": 1,
                    "tripDistance": 1.2,
                    "vendorID": 1,
                    "totalAmount": 9.8,
                    "day_of_month": 13,
                    "month_num": 1
                  },
                  {
                    "passengerCount": 1,
                    "day_of_hour": 18,
                    "day_of_week": 0,
                    "tripDistance": 1.07,
                    "vendorID": 2,
                    "totalAmount": 6.8,
                    "day_of_month": 19,
                    "month_num": 1
                  },
                  {
                    "passengerCount": 1,
                    "day_of_hour": 15,
                    "day_of_week": 2,
                    "tripDistance": 2.62,
                    "vendorID": 2,
                    "totalAmount": 11.8,
                    "day_of_month": 21,
                    "month_num": 1
                  },
                  {
                    "passengerCount": 1,
                    "day_of_hour": 17,
                    "day_of_week": 5,
                    "tripDistance": 1.3,
                    "vendorID": 2,
                    "totalAmount": 7.8,
                    "day_of_month": 10,
                    "month_num": 1
                  },
                  {
                    "passengerCount": 1,
                    "day_of_hour": 11,
                    "day_of_week": 4,
                    "tripDistance": 0.86,
                    "vendorID": 2,
                    "totalAmount": 5.3,
                    "day_of_month": 23,
                    "month_num": 1
                  },
                  {
                    "passengerCount": 1,
                    "day_of_hour": 6,
                    "day_of_week": 3,
                    "tripDistance": 2.37,
                    "vendorID": 2,
                    "totalAmount": 12.3,
                    "day_of_month": 1,
                    "month_num": 1
                  },
                  {
                    "passengerCount": 1,
                    "day_of_hour": 11,
                    "day_of_week": 3,
                    "tripDistance": 2.4,
                    "vendorID": 1,
                    "totalAmount": 13.8,
                    "day_of_month": 29,
                    "month_num": 1
                  },
                  {
                    "passengerCount": 2,
                    "day_of_hour": 22,
                    "day_of_week": 4,
                    "tripDistance": 2.73,
                    "vendorID": 2,
                    "totalAmount": 13.8,
                    "day_of_month": 23,
                    "month_num": 1
                  },
                  {
                    "passengerCount": 1,
                    "day_of_hour": 21,
                    "day_of_week": 1,
                    "tripDistance": 1.74,
                    "vendorID": 2,
                    "totalAmount": 9.3,
                    "day_of_month": 6,
                    "month_num": 1
                  },
                  {
                    "passengerCount": 1,
                    "day_of_hour": 10,
                    "day_of_week": 2,
                    "tripDistance": 2.34,
                    "vendorID": 2,
                    "totalAmount": 8.8,
                    "day_of_month": 28,
                    "month_num": 1
                  },
                  {
                    "passengerCount": 1,
                    "day_of_hour": 19,
                    "day_of_week": 6,
                    "tripDistance": 2.31,
                    "vendorID": 2,
                    "totalAmount": 10.8,
                    "day_of_month": 4,
                    "month_num": 1
                  },
                  {
                    "passengerCount": 1,
                    "day_of_hour": 14,
                    "day_of_week": 3,
                    "tripDistance": 0.52,
                    "vendorID": 2,
                    "totalAmount": 8.3,
                    "day_of_month": 8,
                    "month_num": 1
                  },
                  {
                    "passengerCount": 1,
                    "day_of_hour": 15,
                    "day_of_week": 4,
                    "tripDistance": 8.12,
                    "vendorID": 2,
                    "totalAmount": 30.8,
                    "day_of_month": 2,
                    "month_num": 1
                  },
                  {
                    "passengerCount": 1,
                    "day_of_hour": 23,
                    "day_of_week": 3,
                    "tripDistance": 0.59,
                    "vendorID": 2,
                    "totalAmount": 5.8,
                    "day_of_month": 8,
                    "month_num": 1
                  },
                  {
                    "passengerCount": 1,
                    "day_of_hour": 3,
                    "day_of_week": 3,
                    "tripDistance": 2.25,
                    "vendorID": 2,
                    "totalAmount": 12.8,
                    "day_of_month": 1,
                    "month_num": 1
                  },
                  {
                    "passengerCount": 1,
                    "day_of_hour": 14,
                    "day_of_week": 3,
                    "tripDistance": 10.55,
                    "vendorID": 2,
                    "totalAmount": 45,
                    "day_of_month": 15,
                    "month_num": 1
                  },
                  {
                    "passengerCount": 1,
                    "day_of_hour": 14,
                    "day_of_week": 5,
                    "tripDistance": 6.22,
                    "vendorID": 2,
                    "totalAmount": 23.24,
                    "day_of_month": 3,
                    "month_num": 1
                  },
                  {
                    "passengerCount": 1,
                    "day_of_hour": 15,
                    "day_of_week": 4,
                    "tripDistance": 0.69,
                    "vendorID": 2,
                    "totalAmount": 6.8,
                    "day_of_month": 30,
                    "month_num": 1
                  },
                  {
                    "passengerCount": 1,
                    "day_of_hour": 1,
                    "day_of_week": 5,
                    "tripDistance": 0.53,
                    "vendorID": 2,
                    "totalAmount": 5.3,
                    "day_of_month": 3,
                    "month_num": 1
                  },
                  {
                    "passengerCount": 1,
                    "day_of_hour": 21,
                    "day_of_week": 3,
                    "tripDistance": 7.86,
                    "vendorID": 2,
                    "totalAmount": 25.8,
                    "day_of_month": 15,
                    "month_num": 1
                  },
                  {
                    "passengerCount": 1,
                    "day_of_hour": 23,
                    "day_of_week": 4,
                    "tripDistance": 3.9,
                    "vendorID": 1,
                    "totalAmount": 18.95,
                    "day_of_month": 2,
                    "month_num": 1
                  },
                  {
                    "passengerCount": 1,
                    "day_of_hour": 2,
                    "day_of_week": 0,
                    "tripDistance": 1.48,
                    "vendorID": 2,
                    "totalAmount": 10.5,
                    "day_of_month": 19,
                    "month_num": 1
                  },
                  {
                    "passengerCount": 1,
                    "day_of_hour": 11,
                    "day_of_week": 6,
                    "tripDistance": 1.51,
                    "vendorID": 2,
                    "totalAmount": 13,
                    "day_of_month": 11,
                    "month_num": 1
                  },
                  {
                    "passengerCount": 5,
                    "day_of_hour": 10,
                    "day_of_week": 6,
                    "tripDistance": 0.77,
                    "vendorID": 2,
                    "totalAmount": 5.8,
                    "day_of_month": 11,
                    "month_num": 1
                  },
                  {
                    "passengerCount": 2,
                    "day_of_hour": 21,
                    "day_of_week": 4,
                    "tripDistance": 9.41,
                    "vendorID": 2,
                    "totalAmount": 38.6,
                    "day_of_month": 30,
                    "month_num": 1
                  },
                  {
                    "passengerCount": 1,
                    "day_of_hour": 20,
                    "day_of_week": 1,
                    "tripDistance": 1.21,
                    "vendorID": 2,
                    "totalAmount": 10.4,
                    "day_of_month": 13,
                    "month_num": 1
                  },
                  {
                    "passengerCount": 1,
                    "day_of_hour": 15,
                    "day_of_week": 1,
                    "tripDistance": 1.5,
                    "vendorID": 2,
                    "totalAmount": 8.6,
                    "day_of_month": 20,
                    "month_num": 1
                  },
                  {
                    "passengerCount": 2,
                    "day_of_hour": 1,
                    "day_of_week": 6,
                    "tripDistance": 1.37,
                    "vendorID": 2,
                    "totalAmount": 9.9,
                    "day_of_month": 11,
                    "month_num": 1
                  },
                  {
                    "passengerCount": 1,
                    "day_of_hour": 22,
                    "day_of_week": 6,
                    "tripDistance": 5.13,
                    "vendorID": 2,
                    "totalAmount": 21.8,
                    "day_of_month": 11,
                    "month_num": 1
                  },
                  {
                    "passengerCount": 1,
                    "day_of_hour": 15,
                    "day_of_week": 2,
                    "tripDistance": 0.82,
                    "vendorID": 2,
                    "totalAmount": 9.2,
                    "day_of_month": 14,
                    "month_num": 1
                  },
                  {
                    "passengerCount": 5,
                    "day_of_hour": 13,
                    "day_of_week": 4,
                    "tripDistance": 2.57,
                    "vendorID": 2,
                    "totalAmount": 16.4,
                    "day_of_month": 2,
                    "month_num": 1
                  },
                  {
                    "passengerCount": 1,
                    "day_of_hour": 10,
                    "day_of_week": 3,
                    "tripDistance": 2.61,
                    "vendorID": 2,
                    "totalAmount": 10.8,
                    "day_of_month": 22,
                    "month_num": 1
                  },
                  {
                    "passengerCount": 1,
                    "day_of_hour": 15,
                    "day_of_week": 2,
                    "tripDistance": 0.94,
                    "vendorID": 2,
                    "totalAmount": 6.8,
                    "day_of_month": 21,
                    "month_num": 1
                  },
                  {
                    "passengerCount": 6,
                    "day_of_hour": 17,
                    "day_of_week": 4,
                    "tripDistance": 5.97,
                    "vendorID": 2,
                    "totalAmount": 21.3,
                    "day_of_month": 2,
                    "month_num": 1
                  },
                  {
                    "passengerCount": 1,
                    "day_of_hour": 23,
                    "day_of_week": 3,
                    "tripDistance": 3.75,
                    "vendorID": 2,
                    "totalAmount": 17.76,
                    "day_of_month": 22,
                    "month_num": 1
                  },
                  {
                    "passengerCount": 1,
                    "day_of_hour": 11,
                    "day_of_week": 3,
                    "tripDistance": 3.95,
                    "vendorID": 2,
                    "totalAmount": 24.8,
                    "day_of_month": 29,
                    "month_num": 1
                  },
                  {
                    "passengerCount": 1,
                    "day_of_hour": 18,
                    "day_of_week": 3,
                    "tripDistance": 7.62,
                    "vendorID": 2,
                    "totalAmount": 22.8,
                    "day_of_month": 1,
                    "month_num": 1
                  },
                  {
                    "passengerCount": 1,
                    "day_of_hour": 17,
                    "day_of_week": 4,
                    "tripDistance": 1.03,
                    "vendorID": 2,
                    "totalAmount": 8.8,
                    "day_of_month": 30,
                    "month_num": 1
                  },
                  {
                    "passengerCount": 1,
                    "day_of_hour": 18,
                    "day_of_week": 2,
                    "tripDistance": 4.34,
                    "vendorID": 2,
                    "totalAmount": 24.2,
                    "day_of_month": 7,
                    "month_num": 1
                  },
                  {
                    "passengerCount": 1,
                    "day_of_hour": 20,
                    "day_of_week": 5,
                    "tripDistance": 2.42,
                    "vendorID": 2,
                    "totalAmount": 11.8,
                    "day_of_month": 3,
                    "month_num": 1
                  },
                  {
                    "passengerCount": 1,
                    "day_of_hour": 19,
                    "day_of_week": 4,
                    "tripDistance": 5.04,
                    "vendorID": 2,
                    "totalAmount": 23.92,
                    "day_of_month": 30,
                    "month_num": 1
                  },
                  {
                    "passengerCount": 1,
                    "day_of_hour": 20,
                    "day_of_week": 4,
                    "tripDistance": 0.92,
                    "vendorID": 2,
                    "totalAmount": 7.4,
                    "day_of_month": 16,
                    "month_num": 1
                  },
                  {
                    "passengerCount": 1,
                    "day_of_hour": 14,
                    "day_of_week": 2,
                    "tripDistance": 0.77,
                    "vendorID": 2,
                    "totalAmount": 6.8,
                    "day_of_month": 14,
                    "month_num": 1
                  },
                  {
                    "passengerCount": 1,
                    "day_of_hour": 23,
                    "day_of_week": 1,
                    "tripDistance": 2.47,
                    "vendorID": 2,
                    "totalAmount": 11.3,
                    "day_of_month": 13,
                    "month_num": 1
                  },
                  {
                    "passengerCount": 1,
                    "day_of_hour": 2,
                    "day_of_week": 3,
                    "tripDistance": 1.95,
                    "vendorID": 2,
                    "totalAmount": 21.2,
                    "day_of_month": 1,
                    "month_num": 1
                  },
                  {
                    "passengerCount": 1,
                    "day_of_hour": 13,
                    "day_of_week": 6,
                    "tripDistance": 1.86,
                    "vendorID": 2,
                    "totalAmount": 11.8,
                    "day_of_month": 25,
                    "month_num": 1
                  },
                  {
                    "passengerCount": 2,
                    "day_of_hour": 22,
                    "day_of_week": 6,
                    "tripDistance": 6.23,
                    "vendorID": 2,
                    "totalAmount": 20.5,
                    "day_of_month": 18,
                    "month_num": 1
                  },
                  {
                    "passengerCount": 1,
                    "day_of_hour": 23,
                    "day_of_week": 5,
                    "tripDistance": 6.2,
                    "vendorID": 1,
                    "totalAmount": 29.8,
                    "day_of_month": 10,
                    "month_num": 1
                  },
                  {
                    "passengerCount": 1,
                    "day_of_hour": 17,
                    "day_of_week": 4,
                    "tripDistance": 1.08,
                    "vendorID": 2,
                    "totalAmount": 9.3,
                    "day_of_month": 30,
                    "month_num": 1
                  },
                  {
                    "passengerCount": 1,
                    "day_of_hour": 18,
                    "day_of_week": 2,
                    "tripDistance": 1.1,
                    "vendorID": 1,
                    "totalAmount": 9.3,
                    "day_of_month": 28,
                    "month_num": 1
                  },
                  {
                    "passengerCount": 1,
                    "day_of_hour": 15,
                    "day_of_week": 4,
                    "tripDistance": 1.1,
                    "vendorID": 1,
                    "totalAmount": 8.3,
                    "day_of_month": 16,
                    "month_num": 1
                  },
                  {
                    "passengerCount": 5,
                    "day_of_hour": 23,
                    "day_of_week": 3,
                    "tripDistance": 1.79,
                    "vendorID": 2,
                    "totalAmount": 9.8,
                    "day_of_month": 8,
                    "month_num": 1
                  },
                  {
                    "passengerCount": 1,
                    "day_of_hour": 9,
                    "day_of_week": 3,
                    "tripDistance": 0.51,
                    "vendorID": 2,
                    "totalAmount": 5.3,
                    "day_of_month": 22,
                    "month_num": 1
                  },
                  {
                    "passengerCount": 1,
                    "day_of_hour": 15,
                    "day_of_week": 1,
                    "tripDistance": 1.6,
                    "vendorID": 1,
                    "totalAmount": 8,
                    "day_of_month": 20,
                    "month_num": 1
                  },
                  {
                    "passengerCount": 1,
                    "day_of_hour": 17,
                    "day_of_week": 5,
                    "tripDistance": 1,
                    "vendorID": 1,
                    "totalAmount": 6.8,
                    "day_of_month": 17,
                    "month_num": 1
                  },
                  {
                    "passengerCount": 1,
                    "day_of_hour": 2,
                    "day_of_week": 4,
                    "tripDistance": 1.42,
                    "vendorID": 2,
                    "totalAmount": 7.8,
                    "day_of_month": 2,
                    "month_num": 1
                  },
                  {
                    "passengerCount": 1,
                    "day_of_hour": 9,
                    "day_of_week": 0,
                    "tripDistance": 6.76,
                    "vendorID": 2,
                    "totalAmount": 21.3,
                    "day_of_month": 19,
                    "month_num": 1
                  },
                  {
                    "passengerCount": 1,
                    "day_of_hour": 15,
                    "day_of_week": 1,
                    "tripDistance": 4.01,
                    "vendorID": 2,
                    "totalAmount": 16.3,
                    "day_of_month": 13,
                    "month_num": 1
                  },
                  {
                    "passengerCount": 1,
                    "day_of_hour": 23,
                    "day_of_week": 1,
                    "tripDistance": 5.4,
                    "vendorID": 1,
                    "totalAmount": 24.13,
                    "day_of_month": 20,
                    "month_num": 1
                  },
                  {
                    "passengerCount": 1,
                    "day_of_hour": 17,
                    "day_of_week": 6,
                    "tripDistance": 1.18,
                    "vendorID": 2,
                    "totalAmount": 6.8,
                    "day_of_month": 18,
                    "month_num": 1
                  },
                  {
                    "passengerCount": 6,
                    "day_of_hour": 12,
                    "day_of_week": 5,
                    "tripDistance": 0.93,
                    "vendorID": 2,
                    "totalAmount": 6.3,
                    "day_of_month": 17,
                    "month_num": 1
                  },
                  {
                    "passengerCount": 1,
                    "day_of_hour": 22,
                    "day_of_week": 3,
                    "tripDistance": 1.79,
                    "vendorID": 2,
                    "totalAmount": 11,
                    "day_of_month": 22,
                    "month_num": 1
                  },
                  {
                    "passengerCount": 1,
                    "day_of_hour": 1,
                    "day_of_week": 3,
                    "tripDistance": 1.66,
                    "vendorID": 2,
                    "totalAmount": 9.3,
                    "day_of_month": 1,
                    "month_num": 1
                  },
                  {
                    "passengerCount": 2,
                    "day_of_hour": 22,
                    "day_of_week": 1,
                    "tripDistance": 4.86,
                    "vendorID": 2,
                    "totalAmount": 16.3,
                    "day_of_month": 13,
                    "month_num": 1
                  },
                  {
                    "passengerCount": 2,
                    "day_of_hour": 16,
                    "day_of_week": 5,
                    "tripDistance": 3.11,
                    "vendorID": 2,
                    "totalAmount": 14.3,
                    "day_of_month": 3,
                    "month_num": 1
                  },
                  {
                    "passengerCount": 1,
                    "day_of_hour": 3,
                    "day_of_week": 6,
                    "tripDistance": 1.67,
                    "vendorID": 2,
                    "totalAmount": 9.3,
                    "day_of_month": 4,
                    "month_num": 1
                  },
                  {
                    "passengerCount": 1,
                    "day_of_hour": 8,
                    "day_of_week": 0,
                    "tripDistance": 0.52,
                    "vendorID": 2,
                    "totalAmount": 5.3,
                    "day_of_month": 26,
                    "month_num": 1
                  },
                  {
                    "passengerCount": 1,
                    "day_of_hour": 21,
                    "day_of_week": 5,
                    "tripDistance": 0.6,
                    "vendorID": 1,
                    "totalAmount": 5.8,
                    "day_of_month": 10,
                    "month_num": 1
                  },
                  {
                    "passengerCount": 1,
                    "day_of_hour": 15,
                    "day_of_week": 1,
                    "tripDistance": 0.44,
                    "vendorID": 2,
                    "totalAmount": 4.3,
                    "day_of_month": 6,
                    "month_num": 1
                  },
                  {
                    "passengerCount": 1,
                    "day_of_hour": 18,
                    "day_of_week": 6,
                    "tripDistance": 0.58,
                    "vendorID": 2,
                    "totalAmount": 4.8,
                    "day_of_month": 25,
                    "month_num": 1
                  },
                  {
                    "passengerCount": 1,
                    "day_of_hour": 21,
                    "day_of_week": 4,
                    "tripDistance": 0.34,
                    "vendorID": 2,
                    "totalAmount": 4.8,
                    "day_of_month": 2,
                    "month_num": 1
                  },
                  {
                    "passengerCount": 1,
                    "day_of_hour": 4,
                    "day_of_week": 6,
                    "tripDistance": 12.01,
                    "vendorID": 2,
                    "totalAmount": 44.55,
                    "day_of_month": 18,
                    "month_num": 1
                  },
                  {
                    "passengerCount": 1,
                    "day_of_hour": 22,
                    "day_of_week": 5,
                    "tripDistance": 0.99,
                    "vendorID": 2,
                    "totalAmount": 8.3,
                    "day_of_month": 10,
                    "month_num": 1
                  },
                  {
                    "passengerCount": 1,
                    "day_of_hour": 19,
                    "day_of_week": 1,
                    "tripDistance": 1.19,
                    "vendorID": 2,
                    "totalAmount": 7.8,
                    "day_of_month": 27,
                    "month_num": 1
                  },
                  {
                    "passengerCount": 1,
                    "day_of_hour": 16,
                    "day_of_week": 4,
                    "tripDistance": 1.25,
                    "vendorID": 2,
                    "totalAmount": 12.5,
                    "day_of_month": 16,
                    "month_num": 1
                  },
                  {
                    "passengerCount": 1,
                    "day_of_hour": 20,
                    "day_of_week": 4,
                    "tripDistance": 3.07,
                    "vendorID": 2,
                    "totalAmount": 12.3,
                    "day_of_month": 23,
                    "month_num": 1
                  },
                  {
                    "passengerCount": 1,
                    "day_of_hour": 1,
                    "day_of_week": 6,
                    "tripDistance": 3.1,
                    "vendorID": 2,
                    "totalAmount": 14.8,
                    "day_of_month": 11,
                    "month_num": 1
                  },
                  {
                    "passengerCount": 1,
                    "day_of_hour": 7,
                    "day_of_week": 2,
                    "tripDistance": 1,
                    "vendorID": 1,
                    "totalAmount": 7.8,
                    "day_of_month": 28,
                    "month_num": 1
                  },
                  {
                    "passengerCount": 1,
                    "day_of_hour": 17,
                    "day_of_week": 1,
                    "tripDistance": 0.71,
                    "vendorID": 2,
                    "totalAmount": 7.4,
                    "day_of_month": 27,
                    "month_num": 1
                  },
                  {
                    "passengerCount": 1,
                    "day_of_hour": 4,
                    "day_of_week": 3,
                    "tripDistance": 1.79,
                    "vendorID": 2,
                    "totalAmount": 12.2,
                    "day_of_month": 1,
                    "month_num": 1
                  },
                  {
                    "passengerCount": 1,
                    "day_of_hour": 12,
                    "day_of_week": 5,
                    "tripDistance": 1.14,
                    "vendorID": 2,
                    "totalAmount": 9.25,
                    "day_of_month": 17,
                    "month_num": 1
                  },
                  {
                    "passengerCount": 1,
                    "day_of_hour": 18,
                    "day_of_week": 1,
                    "tripDistance": 1.72,
                    "vendorID": 2,
                    "totalAmount": 12.2,
                    "day_of_month": 13,
                    "month_num": 1
                  },
                  {
                    "passengerCount": 1,
                    "day_of_hour": 18,
                    "day_of_week": 6,
                    "tripDistance": 1.93,
                    "vendorID": 2,
                    "totalAmount": 9.3,
                    "day_of_month": 4,
                    "month_num": 1
                  },
                  {
                    "passengerCount": 1,
                    "day_of_hour": 18,
                    "day_of_week": 6,
                    "tripDistance": 0.58,
                    "vendorID": 2,
                    "totalAmount": 4.8,
                    "day_of_month": 25,
                    "month_num": 1
                  },
                  {
                    "passengerCount": 1,
                    "day_of_hour": 7,
                    "day_of_week": 2,
                    "tripDistance": 11.28,
                    "vendorID": 2,
                    "totalAmount": 48.8,
                    "day_of_month": 21,
                    "month_num": 1
                  },
                  {
                    "passengerCount": 5,
                    "day_of_hour": 18,
                    "day_of_week": 6,
                    "tripDistance": 2.75,
                    "vendorID": 2,
                    "totalAmount": 11.3,
                    "day_of_month": 4,
                    "month_num": 1
                  },
                  {
                    "passengerCount": 1,
                    "day_of_hour": 21,
                    "day_of_week": 4,
                    "tripDistance": 0.4,
                    "vendorID": 1,
                    "totalAmount": 4.8,
                    "day_of_month": 30,
                    "month_num": 1
                  },
                  {
                    "passengerCount": 1,
                    "day_of_hour": 2,
                    "day_of_week": 4,
                    "tripDistance": 4.91,
                    "vendorID": 2,
                    "totalAmount": 16.3,
                    "day_of_month": 2,
                    "month_num": 1
                  },
                  {
                    "passengerCount": 1,
                    "day_of_hour": 13,
                    "day_of_week": 6,
                    "tripDistance": 1.1,
                    "vendorID": 2,
                    "totalAmount": 6.8,
                    "day_of_month": 25,
                    "month_num": 1
                  },
                  {
                    "passengerCount": 1,
                    "day_of_hour": 22,
                    "day_of_week": 1,
                    "tripDistance": 2.3,
                    "vendorID": 2,
                    "totalAmount": 10.8,
                    "day_of_month": 13,
                    "month_num": 1
                  },
                  {
                    "passengerCount": 1,
                    "day_of_hour": 17,
                    "day_of_week": 4,
                    "tripDistance": 6.28,
                    "vendorID": 2,
                    "totalAmount": 30,
                    "day_of_month": 9,
                    "month_num": 1
                  },
                  {
                    "passengerCount": 1,
                    "day_of_hour": 9,
                    "day_of_week": 3,
                    "tripDistance": 3.38,
                    "vendorID": 2,
                    "totalAmount": 14.8,
                    "day_of_month": 22,
                    "month_num": 1
                  },
                  {
                    "passengerCount": 1,
                    "day_of_hour": 22,
                    "day_of_week": 1,
                    "tripDistance": 0.78,
                    "vendorID": 2,
                    "totalAmount": 6.3,
                    "day_of_month": 6,
                    "month_num": 1
                  },
                  {
                    "passengerCount": 1,
                    "day_of_hour": 23,
                    "day_of_week": 5,
                    "tripDistance": 2.53,
                    "vendorID": 2,
                    "totalAmount": 13.8,
                    "day_of_month": 3,
                    "month_num": 1
                  },
                  {
                    "passengerCount": 1,
                    "day_of_hour": 19,
                    "day_of_week": 6,
                    "tripDistance": 1.44,
                    "vendorID": 2,
                    "totalAmount": 11.3,
                    "day_of_month": 11,
                    "month_num": 1
                  },
                  {
                    "passengerCount": 5,
                    "day_of_hour": 13,
                    "day_of_week": 3,
                    "tripDistance": 4.02,
                    "vendorID": 2,
                    "totalAmount": 16.4,
                    "day_of_month": 15,
                    "month_num": 1
                  },
                  {
                    "passengerCount": 5,
                    "day_of_hour": 21,
                    "day_of_week": 6,
                    "tripDistance": 1.35,
                    "vendorID": 2,
                    "totalAmount": 8.9,
                    "day_of_month": 18,
                    "month_num": 1
                  },
                  {
                    "passengerCount": 1,
                    "day_of_hour": 0,
                    "day_of_week": 6,
                    "tripDistance": 7.76,
                    "vendorID": 2,
                    "totalAmount": 28.3,
                    "day_of_month": 18,
                    "month_num": 1
                  },
                  {
                    "passengerCount": 1,
                    "day_of_hour": 8,
                    "day_of_week": 4,
                    "tripDistance": 1.1,
                    "vendorID": 1,
                    "totalAmount": 7.8,
                    "day_of_month": 16,
                    "month_num": 1
                  },
                  {
                    "passengerCount": 1,
                    "day_of_hour": 22,
                    "day_of_week": 0,
                    "tripDistance": 2.63,
                    "vendorID": 2,
                    "totalAmount": 12.8,
                    "day_of_month": 19,
                    "month_num": 1
                  },
                  {
                    "passengerCount": 1,
                    "day_of_hour": 16,
                    "day_of_week": 5,
                    "tripDistance": 3.4,
                    "vendorID": 2,
                    "totalAmount": 20.6,
                    "day_of_month": 10,
                    "month_num": 1
                  },
                  {
                    "passengerCount": 1,
                    "day_of_hour": 10,
                    "day_of_week": 3,
                    "tripDistance": 1.54,
                    "vendorID": 2,
                    "totalAmount": 9.3,
                    "day_of_month": 15,
                    "month_num": 1
                  },
                  {
                    "passengerCount": 1,
                    "day_of_hour": 22,
                    "day_of_week": 5,
                    "tripDistance": 1.81,
                    "vendorID": 2,
                    "totalAmount": 10.4,
                    "day_of_month": 10,
                    "month_num": 1
                  },
                  {
                    "passengerCount": 1,
                    "day_of_hour": 14,
                    "day_of_week": 5,
                    "tripDistance": 2.54,
                    "vendorID": 2,
                    "totalAmount": 10,
                    "day_of_month": 10,
                    "month_num": 1
                  },
                  {
                    "passengerCount": 1,
                    "day_of_hour": 16,
                    "day_of_week": 2,
                    "tripDistance": 5.52,
                    "vendorID": 2,
                    "totalAmount": 27.2,
                    "day_of_month": 21,
                    "month_num": 1
                  },
                  {
                    "passengerCount": 1,
                    "day_of_hour": 19,
                    "day_of_week": 4,
                    "tripDistance": 0.65,
                    "vendorID": 2,
                    "totalAmount": 6.8,
                    "day_of_month": 9,
                    "month_num": 1
                  },
                  {
                    "passengerCount": 4,
                    "day_of_hour": 0,
                    "day_of_week": 3,
                    "tripDistance": 0.9,
                    "vendorID": 1,
                    "totalAmount": 8.5,
                    "day_of_month": 1,
                    "month_num": 1
                  },
                  {
                    "passengerCount": 1,
                    "day_of_hour": 8,
                    "day_of_week": 0,
                    "tripDistance": 1.63,
                    "vendorID": 2,
                    "totalAmount": 11.3,
                    "day_of_month": 12,
                    "month_num": 1
                  },
                  {
                    "passengerCount": 1,
                    "day_of_hour": 20,
                    "day_of_week": 5,
                    "tripDistance": 0.41,
                    "vendorID": 2,
                    "totalAmount": 5.3,
                    "day_of_month": 24,
                    "month_num": 1
                  },
                  {
                    "passengerCount": 1,
                    "day_of_hour": 23,
                    "day_of_week": 1,
                    "tripDistance": 0.6,
                    "vendorID": 1,
                    "totalAmount": 6.35,
                    "day_of_month": 13,
                    "month_num": 1
                  },
                  {
                    "passengerCount": 1,
                    "day_of_hour": 12,
                    "day_of_week": 5,
                    "tripDistance": 2.68,
                    "vendorID": 2,
                    "totalAmount": 12.8,
                    "day_of_month": 17,
                    "month_num": 1
                  },
                  {
                    "passengerCount": 1,
                    "day_of_hour": 15,
                    "day_of_week": 4,
                    "tripDistance": 1.6,
                    "vendorID": 1,
                    "totalAmount": 9.8,
                    "day_of_month": 30,
                    "month_num": 1
                  },
                  {
                    "passengerCount": 1,
                    "day_of_hour": 18,
                    "day_of_week": 3,
                    "tripDistance": 0.78,
                    "vendorID": 2,
                    "totalAmount": 5.8,
                    "day_of_month": 1,
                    "month_num": 1
                  },
                  {
                    "passengerCount": 5,
                    "day_of_hour": 2,
                    "day_of_week": 3,
                    "tripDistance": 0.57,
                    "vendorID": 2,
                    "totalAmount": 5.8,
                    "day_of_month": 15,
                    "month_num": 1
                  },
                  {
                    "passengerCount": 1,
                    "day_of_hour": 21,
                    "day_of_week": 2,
                    "tripDistance": 2.6,
                    "vendorID": 1,
                    "totalAmount": 15.35,
                    "day_of_month": 21,
                    "month_num": 1
                  },
                  {
                    "passengerCount": 1,
                    "day_of_hour": 18,
                    "day_of_week": 5,
                    "tripDistance": 2.96,
                    "vendorID": 2,
                    "totalAmount": 11.5,
                    "day_of_month": 17,
                    "month_num": 1
                  },
                  {
                    "passengerCount": 1,
                    "day_of_hour": 17,
                    "day_of_week": 1,
                    "tripDistance": 1.22,
                    "vendorID": 2,
                    "totalAmount": 8.8,
                    "day_of_month": 6,
                    "month_num": 1
                  },
                  {
                    "passengerCount": 2,
                    "day_of_hour": 7,
                    "day_of_week": 1,
                    "tripDistance": 2.29,
                    "vendorID": 2,
                    "totalAmount": 11.8,
                    "day_of_month": 13,
                    "month_num": 1
                  },
                  {
                    "passengerCount": 1,
                    "day_of_hour": 0,
                    "day_of_week": 4,
                    "tripDistance": 12.1,
                    "vendorID": 1,
                    "totalAmount": 36.3,
                    "day_of_month": 16,
                    "month_num": 1
                  },
                  {
                    "passengerCount": 1,
                    "day_of_hour": 20,
                    "day_of_week": 3,
                    "tripDistance": 4,
                    "vendorID": 1,
                    "totalAmount": 15.8,
                    "day_of_month": 8,
                    "month_num": 1
                  },
                  {
                    "passengerCount": 1,
                    "day_of_hour": 19,
                    "day_of_week": 3,
                    "tripDistance": 0.52,
                    "vendorID": 2,
                    "totalAmount": 7.05,
                    "day_of_month": 29,
                    "month_num": 1
                  },
                  {
                    "passengerCount": 1,
                    "day_of_hour": 23,
                    "day_of_week": 5,
                    "tripDistance": 13.2,
                    "vendorID": 2,
                    "totalAmount": 41.8,
                    "day_of_month": 24,
                    "month_num": 1
                  },
                  {
                    "passengerCount": 1,
                    "day_of_hour": 17,
                    "day_of_week": 6,
                    "tripDistance": 10.85,
                    "vendorID": 2,
                    "totalAmount": 35,
                    "day_of_month": 4,
                    "month_num": 1
                  },
                  {
                    "passengerCount": 1,
                    "day_of_hour": 14,
                    "day_of_week": 3,
                    "tripDistance": 3.89,
                    "vendorID": 2,
                    "totalAmount": 21.96,
                    "day_of_month": 29,
                    "month_num": 1
                  },
                  {
                    "passengerCount": 1,
                    "day_of_hour": 12,
                    "day_of_week": 3,
                    "tripDistance": 3.36,
                    "vendorID": 2,
                    "totalAmount": 15.8,
                    "day_of_month": 29,
                    "month_num": 1
                  },
                  {
                    "passengerCount": 1,
                    "day_of_hour": 18,
                    "day_of_week": 0,
                    "tripDistance": 1.2,
                    "vendorID": 1,
                    "totalAmount": 7.8,
                    "day_of_month": 26,
                    "month_num": 1
                  },
                  {
                    "passengerCount": 1,
                    "day_of_hour": 2,
                    "day_of_week": 1,
                    "tripDistance": 5.91,
                    "vendorID": 2,
                    "totalAmount": 19.8,
                    "day_of_month": 13,
                    "month_num": 1
                  },
                  {
                    "passengerCount": 5,
                    "day_of_hour": 13,
                    "day_of_week": 5,
                    "tripDistance": 20.55,
                    "vendorID": 2,
                    "totalAmount": 73.2,
                    "day_of_month": 10,
                    "month_num": 1
                  },
                  {
                    "passengerCount": 1,
                    "day_of_hour": 13,
                    "day_of_week": 2,
                    "tripDistance": 1.64,
                    "vendorID": 2,
                    "totalAmount": 8.3,
                    "day_of_month": 28,
                    "month_num": 1
                  },
                  {
                    "passengerCount": 1,
                    "day_of_hour": 17,
                    "day_of_week": 2,
                    "tripDistance": 2.42,
                    "vendorID": 2,
                    "totalAmount": 16.42,
                    "day_of_month": 14,
                    "month_num": 1
                  },
                  {
                    "passengerCount": 5,
                    "day_of_hour": 15,
                    "day_of_week": 0,
                    "tripDistance": 2.22,
                    "vendorID": 2,
                    "totalAmount": 14.55,
                    "day_of_month": 12,
                    "month_num": 1
                  },
                  {
                    "passengerCount": 1,
                    "day_of_hour": 8,
                    "day_of_week": 3,
                    "tripDistance": 1.61,
                    "vendorID": 2,
                    "totalAmount": 9.8,
                    "day_of_month": 22,
                    "month_num": 1
                  },
                  {
                    "passengerCount": 1,
                    "day_of_hour": 23,
                    "day_of_week": 4,
                    "tripDistance": 1.66,
                    "vendorID": 2,
                    "totalAmount": 10.3,
                    "day_of_month": 9,
                    "month_num": 1
                  },
                  {
                    "passengerCount": 1,
                    "day_of_hour": 5,
                    "day_of_week": 6,
                    "tripDistance": 3.73,
                    "vendorID": 2,
                    "totalAmount": 14.3,
                    "day_of_month": 25,
                    "month_num": 1
                  },
                  {
                    "passengerCount": 1,
                    "day_of_hour": 19,
                    "day_of_week": 4,
                    "tripDistance": 4.54,
                    "vendorID": 2,
                    "totalAmount": 23.6,
                    "day_of_month": 9,
                    "month_num": 1
                  },
                  {
                    "passengerCount": 1,
                    "day_of_hour": 23,
                    "day_of_week": 3,
                    "tripDistance": 0.63,
                    "vendorID": 2,
                    "totalAmount": 5.3,
                    "day_of_month": 29,
                    "month_num": 1
                  },
                  {
                    "passengerCount": 1,
                    "day_of_hour": 23,
                    "day_of_week": 5,
                    "tripDistance": 1.4,
                    "vendorID": 2,
                    "totalAmount": 9,
                    "day_of_month": 10,
                    "month_num": 1
                  },
                  {
                    "passengerCount": 2,
                    "day_of_hour": 1,
                    "day_of_week": 5,
                    "tripDistance": 1.49,
                    "vendorID": 2,
                    "totalAmount": 8.8,
                    "day_of_month": 3,
                    "month_num": 1
                  },
                  {
                    "passengerCount": 1,
                    "day_of_hour": 1,
                    "day_of_week": 3,
                    "tripDistance": 1.5,
                    "vendorID": 1,
                    "totalAmount": 10.55,
                    "day_of_month": 22,
                    "month_num": 1
                  },
                  {
                    "passengerCount": 1,
                    "day_of_hour": 21,
                    "day_of_week": 5,
                    "tripDistance": 3.3,
                    "vendorID": 1,
                    "totalAmount": 15,
                    "day_of_month": 10,
                    "month_num": 1
                  },
                  {
                    "passengerCount": 1,
                    "day_of_hour": 15,
                    "day_of_week": 2,
                    "tripDistance": 2.66,
                    "vendorID": 2,
                    "totalAmount": 12.3,
                    "day_of_month": 28,
                    "month_num": 1
                  },
                  {
                    "passengerCount": 1,
                    "day_of_hour": 13,
                    "day_of_week": 2,
                    "tripDistance": 4.14,
                    "vendorID": 2,
                    "totalAmount": 14.3,
                    "day_of_month": 21,
                    "month_num": 1
                  },
                  {
                    "passengerCount": 1,
                    "day_of_hour": 18,
                    "day_of_week": 3,
                    "tripDistance": 1.4,
                    "vendorID": 1,
                    "totalAmount": 11.3,
                    "day_of_month": 8,
                    "month_num": 1
                  },
                  {
                    "passengerCount": 1,
                    "day_of_hour": 11,
                    "day_of_week": 3,
                    "tripDistance": 1.82,
                    "vendorID": 2,
                    "totalAmount": 13.4,
                    "day_of_month": 15,
                    "month_num": 1
                  },
                  {
                    "passengerCount": 2,
                    "day_of_hour": 23,
                    "day_of_week": 6,
                    "tripDistance": 1.19,
                    "vendorID": 2,
                    "totalAmount": 9.8,
                    "day_of_month": 18,
                    "month_num": 1
                  },
                  {
                    "passengerCount": 1,
                    "day_of_hour": 11,
                    "day_of_week": 4,
                    "tripDistance": 0.3,
                    "vendorID": 1,
                    "totalAmount": 6,
                    "day_of_month": 9,
                    "month_num": 1
                  },
                  {
                    "passengerCount": 3,
                    "day_of_hour": 21,
                    "day_of_week": 4,
                    "tripDistance": 10.38,
                    "vendorID": 2,
                    "totalAmount": 38,
                    "day_of_month": 16,
                    "month_num": 1
                  },
                  {
                    "passengerCount": 1,
                    "day_of_hour": 16,
                    "day_of_week": 5,
                    "tripDistance": 2.23,
                    "vendorID": 2,
                    "totalAmount": 10.5,
                    "day_of_month": 10,
                    "month_num": 1
                  },
                  {
                    "passengerCount": 1,
                    "day_of_hour": 19,
                    "day_of_week": 2,
                    "tripDistance": 1.31,
                    "vendorID": 2,
                    "totalAmount": 9.8,
                    "day_of_month": 7,
                    "month_num": 1
                  },
                  {
                    "passengerCount": 1,
                    "day_of_hour": 17,
                    "day_of_week": 3,
                    "tripDistance": 0.69,
                    "vendorID": 2,
                    "totalAmount": 6.8,
                    "day_of_month": 29,
                    "month_num": 1
                  },
                  {
                    "passengerCount": 1,
                    "day_of_hour": 7,
                    "day_of_week": 2,
                    "tripDistance": 5.34,
                    "vendorID": 2,
                    "totalAmount": 25.8,
                    "day_of_month": 7,
                    "month_num": 1
                  },
                  {
                    "passengerCount": 1,
                    "day_of_hour": 18,
                    "day_of_week": 2,
                    "tripDistance": 1.1,
                    "vendorID": 2,
                    "totalAmount": 8.3,
                    "day_of_month": 28,
                    "month_num": 1
                  },
                  {
                    "passengerCount": 1,
                    "day_of_hour": 15,
                    "day_of_week": 6,
                    "tripDistance": 2.79,
                    "vendorID": 2,
                    "totalAmount": 11.8,
                    "day_of_month": 4,
                    "month_num": 1
                  },
                  {
                    "passengerCount": 2,
                    "day_of_hour": 14,
                    "day_of_week": 2,
                    "tripDistance": 0.43,
                    "vendorID": 2,
                    "totalAmount": 5,
                    "day_of_month": 14,
                    "month_num": 1
                  },
                  {
                    "passengerCount": 2,
                    "day_of_hour": 16,
                    "day_of_week": 6,
                    "tripDistance": 1.81,
                    "vendorID": 2,
                    "totalAmount": 8.8,
                    "day_of_month": 11,
                    "month_num": 1
                  },
                  {
                    "passengerCount": 6,
                    "day_of_hour": 23,
                    "day_of_week": 5,
                    "tripDistance": 4.66,
                    "vendorID": 2,
                    "totalAmount": 20.3,
                    "day_of_month": 24,
                    "month_num": 1
                  },
                  {
                    "passengerCount": 3,
                    "day_of_hour": 21,
                    "day_of_week": 1,
                    "tripDistance": 1.1,
                    "vendorID": 1,
                    "totalAmount": 7.8,
                    "day_of_month": 20,
                    "month_num": 1
                  },
                  {
                    "passengerCount": 1,
                    "day_of_hour": 23,
                    "day_of_week": 1,
                    "tripDistance": 3.2,
                    "vendorID": 2,
                    "totalAmount": 16.4,
                    "day_of_month": 13,
                    "month_num": 1
                  },
                  {
                    "passengerCount": 1,
                    "day_of_hour": 22,
                    "day_of_week": 2,
                    "tripDistance": 2.16,
                    "vendorID": 2,
                    "totalAmount": 12.3,
                    "day_of_month": 7,
                    "month_num": 1
                  },
                  {
                    "passengerCount": 1,
                    "day_of_hour": 20,
                    "day_of_week": 4,
                    "tripDistance": 1.11,
                    "vendorID": 2,
                    "totalAmount": 8.8,
                    "day_of_month": 30,
                    "month_num": 1
                  },
                  {
                    "passengerCount": 2,
                    "day_of_hour": 16,
                    "day_of_week": 3,
                    "tripDistance": 2.06,
                    "vendorID": 2,
                    "totalAmount": 12.68,
                    "day_of_month": 8,
                    "month_num": 1
                  },
                  {
                    "passengerCount": 1,
                    "day_of_hour": 7,
                    "day_of_week": 4,
                    "tripDistance": 4.5,
                    "vendorID": 1,
                    "totalAmount": 18.8,
                    "day_of_month": 9,
                    "month_num": 1
                  },
                  {
                    "passengerCount": 1,
                    "day_of_hour": 19,
                    "day_of_week": 4,
                    "tripDistance": 0.7,
                    "vendorID": 2,
                    "totalAmount": 10.3,
                    "day_of_month": 9,
                    "month_num": 1
                  },
                  {
                    "passengerCount": 1,
                    "day_of_hour": 19,
                    "day_of_week": 5,
                    "tripDistance": 4.9,
                    "vendorID": 1,
                    "totalAmount": 24.75,
                    "day_of_month": 24,
                    "month_num": 1
                  },
                  {
                    "passengerCount": 2,
                    "day_of_hour": 21,
                    "day_of_week": 5,
                    "tripDistance": 1.68,
                    "vendorID": 2,
                    "totalAmount": 8.8,
                    "day_of_month": 24,
                    "month_num": 1
                  },
                  {
                    "passengerCount": 1,
                    "day_of_hour": 6,
                    "day_of_week": 3,
                    "tripDistance": 3.96,
                    "vendorID": 2,
                    "totalAmount": 20.3,
                    "day_of_month": 15,
                    "month_num": 1
                  },
                  {
                    "passengerCount": 2,
                    "day_of_hour": 22,
                    "day_of_week": 5,
                    "tripDistance": 1.2,
                    "vendorID": 1,
                    "totalAmount": 6.8,
                    "day_of_month": 24,
                    "month_num": 1
                  },
                  {
                    "passengerCount": 1,
                    "day_of_hour": 4,
                    "day_of_week": 2,
                    "tripDistance": 2.15,
                    "vendorID": 2,
                    "totalAmount": 10.8,
                    "day_of_month": 28,
                    "month_num": 1
                  },
                  {
                    "passengerCount": 1,
                    "day_of_hour": 21,
                    "day_of_week": 0,
                    "tripDistance": 2.07,
                    "vendorID": 2,
                    "totalAmount": 10.8,
                    "day_of_month": 5,
                    "month_num": 1
                  },
                  {
                    "passengerCount": 1,
                    "day_of_hour": 11,
                    "day_of_week": 4,
                    "tripDistance": 2.42,
                    "vendorID": 2,
                    "totalAmount": 9.8,
                    "day_of_month": 16,
                    "month_num": 1
                  },
                  {
                    "passengerCount": 1,
                    "day_of_hour": 0,
                    "day_of_week": 5,
                    "tripDistance": 0.47,
                    "vendorID": 2,
                    "totalAmount": 5.8,
                    "day_of_month": 24,
                    "month_num": 1
                  },
                  {
                    "passengerCount": 1,
                    "day_of_hour": 21,
                    "day_of_week": 3,
                    "tripDistance": 1.05,
                    "vendorID": 2,
                    "totalAmount": 6.8,
                    "day_of_month": 15,
                    "month_num": 1
                  },
                  {
                    "passengerCount": 2,
                    "day_of_hour": 17,
                    "day_of_week": 5,
                    "tripDistance": 6.44,
                    "vendorID": 2,
                    "totalAmount": 26.8,
                    "day_of_month": 10,
                    "month_num": 1
                  },
                  {
                    "passengerCount": 2,
                    "day_of_hour": 20,
                    "day_of_week": 2,
                    "tripDistance": 0.89,
                    "vendorID": 2,
                    "totalAmount": 8,
                    "day_of_month": 14,
                    "month_num": 1
                  },
                  {
                    "passengerCount": 1,
                    "day_of_hour": 17,
                    "day_of_week": 4,
                    "tripDistance": 1.53,
                    "vendorID": 2,
                    "totalAmount": 9.8,
                    "day_of_month": 30,
                    "month_num": 1
                  },
                  {
                    "passengerCount": 2,
                    "day_of_hour": 21,
                    "day_of_week": 2,
                    "tripDistance": 0.46,
                    "vendorID": 2,
                    "totalAmount": 5.8,
                    "day_of_month": 28,
                    "month_num": 1
                  },
                  {
                    "passengerCount": 1,
                    "day_of_hour": 15,
                    "day_of_week": 4,
                    "tripDistance": 3.88,
                    "vendorID": 2,
                    "totalAmount": 18.3,
                    "day_of_month": 23,
                    "month_num": 1
                  },
                  {
                    "passengerCount": 2,
                    "day_of_hour": 18,
                    "day_of_week": 0,
                    "tripDistance": 1.81,
                    "vendorID": 2,
                    "totalAmount": 10.3,
                    "day_of_month": 5,
                    "month_num": 1
                  },
                  {
                    "passengerCount": 1,
                    "day_of_hour": 15,
                    "day_of_week": 4,
                    "tripDistance": 1.3,
                    "vendorID": 1,
                    "totalAmount": 8.8,
                    "day_of_month": 16,
                    "month_num": 1
                  },
                  {
                    "passengerCount": 1,
                    "day_of_hour": 19,
                    "day_of_week": 1,
                    "tripDistance": 1.43,
                    "vendorID": 2,
                    "totalAmount": 11,
                    "day_of_month": 20,
                    "month_num": 1
                  },
                  {
                    "passengerCount": 1,
                    "day_of_hour": 17,
                    "day_of_week": 4,
                    "tripDistance": 2.47,
                    "vendorID": 2,
                    "totalAmount": 17.76,
                    "day_of_month": 23,
                    "month_num": 1
                  },
                  {
                    "passengerCount": 1,
                    "day_of_hour": 17,
                    "day_of_week": 6,
                    "tripDistance": 1.59,
                    "vendorID": 2,
                    "totalAmount": 8,
                    "day_of_month": 25,
                    "month_num": 1
                  },
                  {
                    "passengerCount": 1,
                    "day_of_hour": 12,
                    "day_of_week": 2,
                    "tripDistance": 0.4,
                    "vendorID": 1,
                    "totalAmount": 4.3,
                    "day_of_month": 7,
                    "month_num": 1
                  },
                  {
                    "passengerCount": 1,
                    "day_of_hour": 19,
                    "day_of_week": 4,
                    "tripDistance": 0.88,
                    "vendorID": 2,
                    "totalAmount": 7.3,
                    "day_of_month": 9,
                    "month_num": 1
                  },
                  {
                    "passengerCount": 1,
                    "day_of_hour": 9,
                    "day_of_week": 1,
                    "tripDistance": 2.12,
                    "vendorID": 2,
                    "totalAmount": 14.3,
                    "day_of_month": 13,
                    "month_num": 1
                  },
                  {
                    "passengerCount": 1,
                    "day_of_hour": 15,
                    "day_of_week": 3,
                    "tripDistance": 1.47,
                    "vendorID": 2,
                    "totalAmount": 9.3,
                    "day_of_month": 8,
                    "month_num": 1
                  },
                  {
                    "passengerCount": 1,
                    "day_of_hour": 0,
                    "day_of_week": 3,
                    "tripDistance": 1.1,
                    "vendorID": 2,
                    "totalAmount": 8.8,
                    "day_of_month": 1,
                    "month_num": 1
                  },
                  {
                    "passengerCount": 3,
                    "day_of_hour": 2,
                    "day_of_week": 6,
                    "tripDistance": 4.8,
                    "vendorID": 2,
                    "totalAmount": 23.9,
                    "day_of_month": 18,
                    "month_num": 1
                  },
                  {
                    "passengerCount": 1,
                    "day_of_hour": 4,
                    "day_of_week": 3,
                    "tripDistance": 1.1,
                    "vendorID": 2,
                    "totalAmount": 7.3,
                    "day_of_month": 29,
                    "month_num": 1
                  },
                  {
                    "passengerCount": 2,
                    "day_of_hour": 12,
                    "day_of_week": 3,
                    "tripDistance": 4.37,
                    "vendorID": 2,
                    "totalAmount": 23,
                    "day_of_month": 1,
                    "month_num": 1
                  },
                  {
                    "passengerCount": 1,
                    "day_of_hour": 8,
                    "day_of_week": 3,
                    "tripDistance": 3.88,
                    "vendorID": 2,
                    "totalAmount": 18.8,
                    "day_of_month": 15,
                    "month_num": 1
                  },
                  {
                    "passengerCount": 1,
                    "day_of_hour": 15,
                    "day_of_week": 3,
                    "tripDistance": 8.9,
                    "vendorID": 1,
                    "totalAmount": 35.8,
                    "day_of_month": 15,
                    "month_num": 1
                  },
                  {
                    "passengerCount": 1,
                    "day_of_hour": 9,
                    "day_of_week": 2,
                    "tripDistance": 0.49,
                    "vendorID": 2,
                    "totalAmount": 5.3,
                    "day_of_month": 21,
                    "month_num": 1
                  },
                  {
                    "passengerCount": 1,
                    "day_of_hour": 15,
                    "day_of_week": 2,
                    "tripDistance": 2.91,
                    "vendorID": 2,
                    "totalAmount": 17.3,
                    "day_of_month": 21,
                    "month_num": 1
                  },
                  {
                    "passengerCount": 1,
                    "day_of_hour": 14,
                    "day_of_week": 4,
                    "tripDistance": 8.9,
                    "vendorID": 1,
                    "totalAmount": 43.5,
                    "day_of_month": 30,
                    "month_num": 1
                  },
                  {
                    "passengerCount": 1,
                    "day_of_hour": 19,
                    "day_of_week": 6,
                    "tripDistance": 2.6,
                    "vendorID": 1,
                    "totalAmount": 15.95,
                    "day_of_month": 4,
                    "month_num": 1
                  },
                  {
                    "passengerCount": 1,
                    "day_of_hour": 15,
                    "day_of_week": 0,
                    "tripDistance": 2.01,
                    "vendorID": 2,
                    "totalAmount": 10.3,
                    "day_of_month": 5,
                    "month_num": 1
                  },
                  {
                    "passengerCount": 2,
                    "day_of_hour": 8,
                    "day_of_week": 1,
                    "tripDistance": 3.25,
                    "vendorID": 2,
                    "totalAmount": 14.8,
                    "day_of_month": 27,
                    "month_num": 1
                  },
                  {
                    "passengerCount": 1,
                    "day_of_hour": 17,
                    "day_of_week": 5,
                    "tripDistance": 0.99,
                    "vendorID": 2,
                    "totalAmount": 8.3,
                    "day_of_month": 3,
                    "month_num": 1
                  },
                  {
                    "passengerCount": 1,
                    "day_of_hour": 16,
                    "day_of_week": 5,
                    "tripDistance": 1.17,
                    "vendorID": 2,
                    "totalAmount": 7.8,
                    "day_of_month": 10,
                    "month_num": 1
                  },
                  {
                    "passengerCount": 1,
                    "day_of_hour": 19,
                    "day_of_week": 5,
                    "tripDistance": 1.5,
                    "vendorID": 1,
                    "totalAmount": 8.8,
                    "day_of_month": 3,
                    "month_num": 1
                  },
                  {
                    "passengerCount": 1,
                    "day_of_hour": 23,
                    "day_of_week": 6,
                    "tripDistance": 2.04,
                    "vendorID": 2,
                    "totalAmount": 11.3,
                    "day_of_month": 18,
                    "month_num": 1
                  },
                  {
                    "passengerCount": 1,
                    "day_of_hour": 2,
                    "day_of_week": 6,
                    "tripDistance": 9.58,
                    "vendorID": 2,
                    "totalAmount": 43.05,
                    "day_of_month": 11,
                    "month_num": 1
                  },
                  {
                    "passengerCount": 1,
                    "day_of_hour": 8,
                    "day_of_week": 6,
                    "tripDistance": 0.76,
                    "vendorID": 2,
                    "totalAmount": 5.3,
                    "day_of_month": 18,
                    "month_num": 1
                  },
                  {
                    "passengerCount": 5,
                    "day_of_hour": 15,
                    "day_of_week": 1,
                    "tripDistance": 0.58,
                    "vendorID": 2,
                    "totalAmount": 5.3,
                    "day_of_month": 27,
                    "month_num": 1
                  },
                  {
                    "passengerCount": 1,
                    "day_of_hour": 22,
                    "day_of_week": 6,
                    "tripDistance": 2.4,
                    "vendorID": 1,
                    "totalAmount": 14.15,
                    "day_of_month": 11,
                    "month_num": 1
                  },
                  {
                    "passengerCount": 1,
                    "day_of_hour": 17,
                    "day_of_week": 5,
                    "tripDistance": 0.5,
                    "vendorID": 1,
                    "totalAmount": 6.8,
                    "day_of_month": 3,
                    "month_num": 1
                  },
                  {
                    "passengerCount": 2,
                    "day_of_hour": 0,
                    "day_of_week": 6,
                    "tripDistance": 5.2,
                    "vendorID": 2,
                    "totalAmount": 23,
                    "day_of_month": 11,
                    "month_num": 1
                  },
                  {
                    "passengerCount": 2,
                    "day_of_hour": 23,
                    "day_of_week": 6,
                    "tripDistance": 0.9,
                    "vendorID": 1,
                    "totalAmount": 6.8,
                    "day_of_month": 25,
                    "month_num": 1
                  },
                  {
                    "passengerCount": 1,
                    "day_of_hour": 16,
                    "day_of_week": 5,
                    "tripDistance": 1.54,
                    "vendorID": 2,
                    "totalAmount": 8.8,
                    "day_of_month": 17,
                    "month_num": 1
                  },
                  {
                    "passengerCount": 1,
                    "day_of_hour": 8,
                    "day_of_week": 2,
                    "tripDistance": 1.5,
                    "vendorID": 1,
                    "totalAmount": 8.8,
                    "day_of_month": 28,
                    "month_num": 1
                  },
                  {
                    "passengerCount": 1,
                    "day_of_hour": 16,
                    "day_of_week": 4,
                    "tripDistance": 4.5,
                    "vendorID": 1,
                    "totalAmount": 23.1,
                    "day_of_month": 16,
                    "month_num": 1
                  },
                  {
                    "passengerCount": 1,
                    "day_of_hour": 20,
                    "day_of_week": 5,
                    "tripDistance": 0.54,
                    "vendorID": 2,
                    "totalAmount": 8.6,
                    "day_of_month": 10,
                    "month_num": 1
                  },
                  {
                    "passengerCount": 1,
                    "day_of_hour": 22,
                    "day_of_week": 4,
                    "tripDistance": 1.17,
                    "vendorID": 2,
                    "totalAmount": 6.8,
                    "day_of_month": 2,
                    "month_num": 1
                  },
                  {
                    "passengerCount": 1,
                    "day_of_hour": 23,
                    "day_of_week": 5,
                    "tripDistance": 1.68,
                    "vendorID": 2,
                    "totalAmount": 8.3,
                    "day_of_month": 3,
                    "month_num": 1
                  },
                  {
                    "passengerCount": 1,
                    "day_of_hour": 5,
                    "day_of_week": 0,
                    "tripDistance": 5.92,
                    "vendorID": 2,
                    "totalAmount": 24.2,
                    "day_of_month": 5,
                    "month_num": 1
                  },
                  {
                    "passengerCount": 1,
                    "day_of_hour": 15,
                    "day_of_week": 1,
                    "tripDistance": 7.6,
                    "vendorID": 1,
                    "totalAmount": 38.3,
                    "day_of_month": 6,
                    "month_num": 1
                  },
                  {
                    "passengerCount": 1,
                    "day_of_hour": 19,
                    "day_of_week": 4,
                    "tripDistance": 1.88,
                    "vendorID": 2,
                    "totalAmount": 10.3,
                    "day_of_month": 16,
                    "month_num": 1
                  },
                  {
                    "passengerCount": 1,
                    "day_of_hour": 21,
                    "day_of_week": 6,
                    "tripDistance": 2.1,
                    "vendorID": 1,
                    "totalAmount": 12.5,
                    "day_of_month": 25,
                    "month_num": 1
                  },
                  {
                    "passengerCount": 5,
                    "day_of_hour": 21,
                    "day_of_week": 6,
                    "tripDistance": 2.11,
                    "vendorID": 2,
                    "totalAmount": 11.3,
                    "day_of_month": 4,
                    "month_num": 1
                  },
                  {
                    "passengerCount": 1,
                    "day_of_hour": 19,
                    "day_of_week": 5,
                    "tripDistance": 13.35,
                    "vendorID": 2,
                    "totalAmount": 47,
                    "day_of_month": 24,
                    "month_num": 1
                  },
                  {
                    "passengerCount": 1,
                    "day_of_hour": 0,
                    "day_of_week": 3,
                    "tripDistance": 1.63,
                    "vendorID": 2,
                    "totalAmount": 9.3,
                    "day_of_month": 1,
                    "month_num": 1
                  },
                  {
                    "passengerCount": 5,
                    "day_of_hour": 2,
                    "day_of_week": 5,
                    "tripDistance": 11.47,
                    "vendorID": 2,
                    "totalAmount": 33.5,
                    "day_of_month": 10,
                    "month_num": 1
                  },
                  {
                    "passengerCount": 1,
                    "day_of_hour": 18,
                    "day_of_week": 6,
                    "tripDistance": 2.93,
                    "vendorID": 2,
                    "totalAmount": 17,
                    "day_of_month": 11,
                    "month_num": 1
                  },
                  {
                    "passengerCount": 1,
                    "day_of_hour": 18,
                    "day_of_week": 6,
                    "tripDistance": 1.84,
                    "vendorID": 2,
                    "totalAmount": 11.8,
                    "day_of_month": 25,
                    "month_num": 1
                  },
                  {
                    "passengerCount": 3,
                    "day_of_hour": 20,
                    "day_of_week": 5,
                    "tripDistance": 0.3,
                    "vendorID": 1,
                    "totalAmount": 5.3,
                    "day_of_month": 3,
                    "month_num": 1
                  },
                  {
                    "passengerCount": 1,
                    "day_of_hour": 14,
                    "day_of_week": 3,
                    "tripDistance": 0.9,
                    "vendorID": 1,
                    "totalAmount": 7.5,
                    "day_of_month": 29,
                    "month_num": 1
                  },
                  {
                    "passengerCount": 5,
                    "day_of_hour": 19,
                    "day_of_week": 3,
                    "tripDistance": 0.76,
                    "vendorID": 2,
                    "totalAmount": 7.4,
                    "day_of_month": 8,
                    "month_num": 1
                  },
                  {
                    "passengerCount": 1,
                    "day_of_hour": 8,
                    "day_of_week": 4,
                    "tripDistance": 2.2,
                    "vendorID": 1,
                    "totalAmount": 10.8,
                    "day_of_month": 23,
                    "month_num": 1
                  },
                  {
                    "passengerCount": 1,
                    "day_of_hour": 7,
                    "day_of_week": 2,
                    "tripDistance": 1.8,
                    "vendorID": 1,
                    "totalAmount": 10.3,
                    "day_of_month": 7,
                    "month_num": 1
                  },
                  {
                    "passengerCount": 1,
                    "day_of_hour": 8,
                    "day_of_week": 5,
                    "tripDistance": 1.14,
                    "vendorID": 2,
                    "totalAmount": 5.8,
                    "day_of_month": 17,
                    "month_num": 1
                  },
                  {
                    "passengerCount": 1,
                    "day_of_hour": 23,
                    "day_of_week": 2,
                    "tripDistance": 5.33,
                    "vendorID": 2,
                    "totalAmount": 25.8,
                    "day_of_month": 14,
                    "month_num": 1
                  },
                  {
                    "passengerCount": 1,
                    "day_of_hour": 6,
                    "day_of_week": 5,
                    "tripDistance": 4.16,
                    "vendorID": 2,
                    "totalAmount": 18.8,
                    "day_of_month": 3,
                    "month_num": 1
                  },
                  {
                    "passengerCount": 5,
                    "day_of_hour": 15,
                    "day_of_week": 0,
                    "tripDistance": 3.29,
                    "vendorID": 2,
                    "totalAmount": 33.8,
                    "day_of_month": 26,
                    "month_num": 1
                  },
                  {
                    "passengerCount": 1,
                    "day_of_hour": 2,
                    "day_of_week": 1,
                    "tripDistance": 2.43,
                    "vendorID": 2,
                    "totalAmount": 10.8,
                    "day_of_month": 6,
                    "month_num": 1
                  },
                  {
                    "passengerCount": 1,
                    "day_of_hour": 11,
                    "day_of_week": 2,
                    "tripDistance": 7.1,
                    "vendorID": 1,
                    "totalAmount": 27.8,
                    "day_of_month": 28,
                    "month_num": 1
                  },
                  {
                    "passengerCount": 1,
                    "day_of_hour": 11,
                    "day_of_week": 5,
                    "tripDistance": 1.6,
                    "vendorID": 2,
                    "totalAmount": 9.3,
                    "day_of_month": 10,
                    "month_num": 1
                  },
                  {
                    "passengerCount": 1,
                    "day_of_hour": 10,
                    "day_of_week": 3,
                    "tripDistance": 2.5,
                    "vendorID": 2,
                    "totalAmount": 13.5,
                    "day_of_month": 15,
                    "month_num": 1
                  },
                  {
                    "passengerCount": 1,
                    "day_of_hour": 10,
                    "day_of_week": 3,
                    "tripDistance": 2.01,
                    "vendorID": 2,
                    "totalAmount": 10.8,
                    "day_of_month": 29,
                    "month_num": 1
                  },
                  {
                    "passengerCount": 2,
                    "day_of_hour": 19,
                    "day_of_week": 2,
                    "tripDistance": 2.33,
                    "vendorID": 2,
                    "totalAmount": 14.3,
                    "day_of_month": 28,
                    "month_num": 1
                  },
                  {
                    "passengerCount": 1,
                    "day_of_hour": 13,
                    "day_of_week": 3,
                    "tripDistance": 1.42,
                    "vendorID": 2,
                    "totalAmount": 8.3,
                    "day_of_month": 15,
                    "month_num": 1
                  },
                  {
                    "passengerCount": 1,
                    "day_of_hour": 21,
                    "day_of_week": 4,
                    "tripDistance": 1.2,
                    "vendorID": 1,
                    "totalAmount": 7.8,
                    "day_of_month": 23,
                    "month_num": 1
                  },
                  {
                    "passengerCount": 1,
                    "day_of_hour": 9,
                    "day_of_week": 4,
                    "tripDistance": 2.58,
                    "vendorID": 2,
                    "totalAmount": 12.1,
                    "day_of_month": 2,
                    "month_num": 1
                  },
                  {
                    "passengerCount": 1,
                    "day_of_hour": 23,
                    "day_of_week": 6,
                    "tripDistance": 1.35,
                    "vendorID": 2,
                    "totalAmount": 8.3,
                    "day_of_month": 4,
                    "month_num": 1
                  },
                  {
                    "passengerCount": 1,
                    "day_of_hour": 13,
                    "day_of_week": 3,
                    "tripDistance": 4.3,
                    "vendorID": 1,
                    "totalAmount": 23.75,
                    "day_of_month": 15,
                    "month_num": 1
                  },
                  {
                    "passengerCount": 1,
                    "day_of_hour": 12,
                    "day_of_week": 3,
                    "tripDistance": 0.8,
                    "vendorID": 2,
                    "totalAmount": 6.8,
                    "day_of_month": 15,
                    "month_num": 1
                  },
                  {
                    "passengerCount": 1,
                    "day_of_hour": 22,
                    "day_of_week": 5,
                    "tripDistance": 0.34,
                    "vendorID": 2,
                    "totalAmount": 4.8,
                    "day_of_month": 24,
                    "month_num": 1
                  },
                  {
                    "passengerCount": 1,
                    "day_of_hour": 22,
                    "day_of_week": 4,
                    "tripDistance": 2.2,
                    "vendorID": 1,
                    "totalAmount": 10.3,
                    "day_of_month": 30,
                    "month_num": 1
                  },
                  {
                    "passengerCount": 1,
                    "day_of_hour": 23,
                    "day_of_week": 4,
                    "tripDistance": 2.02,
                    "vendorID": 2,
                    "totalAmount": 10.8,
                    "day_of_month": 2,
                    "month_num": 1
                  },
                  {
                    "passengerCount": 1,
                    "day_of_hour": 4,
                    "day_of_week": 3,
                    "tripDistance": 1.1,
                    "vendorID": 2,
                    "totalAmount": 7.3,
                    "day_of_month": 1,
                    "month_num": 1
                  },
                  {
                    "passengerCount": 1,
                    "day_of_hour": 20,
                    "day_of_week": 4,
                    "tripDistance": 3.68,
                    "vendorID": 2,
                    "totalAmount": 15.8,
                    "day_of_month": 2,
                    "month_num": 1
                  },
                  {
                    "passengerCount": 1,
                    "day_of_hour": 22,
                    "day_of_week": 2,
                    "tripDistance": 0.48,
                    "vendorID": 2,
                    "totalAmount": 6.8,
                    "day_of_month": 7,
                    "month_num": 1
                  },
                  {
                    "passengerCount": 1,
                    "day_of_hour": 23,
                    "day_of_week": 4,
                    "tripDistance": 1.68,
                    "vendorID": 2,
                    "totalAmount": 8.3,
                    "day_of_month": 30,
                    "month_num": 1
                  },
                  {
                    "passengerCount": 1,
                    "day_of_hour": 19,
                    "day_of_week": 3,
                    "tripDistance": 1.61,
                    "vendorID": 2,
                    "totalAmount": 12.2,
                    "day_of_month": 22,
                    "month_num": 1
                  },
                  {
                    "passengerCount": 2,
                    "day_of_hour": 11,
                    "day_of_week": 2,
                    "tripDistance": 1.62,
                    "vendorID": 2,
                    "totalAmount": 10.55,
                    "day_of_month": 7,
                    "month_num": 1
                  },
                  {
                    "passengerCount": 2,
                    "day_of_hour": 20,
                    "day_of_week": 0,
                    "tripDistance": 3.8,
                    "vendorID": 2,
                    "totalAmount": 16.3,
                    "day_of_month": 5,
                    "month_num": 1
                  },
                  {
                    "passengerCount": 1,
                    "day_of_hour": 11,
                    "day_of_week": 3,
                    "tripDistance": 3.3,
                    "vendorID": 2,
                    "totalAmount": 15.3,
                    "day_of_month": 15,
                    "month_num": 1
                  },
                  {
                    "passengerCount": 1,
                    "day_of_hour": 16,
                    "day_of_week": 2,
                    "tripDistance": 0.84,
                    "vendorID": 2,
                    "totalAmount": 6.8,
                    "day_of_month": 7,
                    "month_num": 1
                  },
                  {
                    "passengerCount": 1,
                    "day_of_hour": 8,
                    "day_of_week": 0,
                    "tripDistance": 0.49,
                    "vendorID": 2,
                    "totalAmount": 4.3,
                    "day_of_month": 26,
                    "month_num": 1
                  },
                  {
                    "passengerCount": 1,
                    "day_of_hour": 8,
                    "day_of_week": 4,
                    "tripDistance": 1.39,
                    "vendorID": 2,
                    "totalAmount": 9.8,
                    "day_of_month": 16,
                    "month_num": 1
                  },
                  {
                    "passengerCount": 1,
                    "day_of_hour": 0,
                    "day_of_week": 5,
                    "tripDistance": 2.12,
                    "vendorID": 2,
                    "totalAmount": 13.92,
                    "day_of_month": 24,
                    "month_num": 1
                  },
                  {
                    "passengerCount": 1,
                    "day_of_hour": 17,
                    "day_of_week": 4,
                    "tripDistance": 4.1,
                    "vendorID": 2,
                    "totalAmount": 23.3,
                    "day_of_month": 9,
                    "month_num": 1
                  },
                  {
                    "passengerCount": 1,
                    "day_of_hour": 16,
                    "day_of_week": 1,
                    "tripDistance": 1.03,
                    "vendorID": 2,
                    "totalAmount": 7.8,
                    "day_of_month": 20,
                    "month_num": 1
                  },
                  {
                    "passengerCount": 1,
                    "day_of_hour": 13,
                    "day_of_week": 5,
                    "tripDistance": 2.72,
                    "vendorID": 2,
                    "totalAmount": 14.75,
                    "day_of_month": 24,
                    "month_num": 1
                  },
                  {
                    "passengerCount": 1,
                    "day_of_hour": 17,
                    "day_of_week": 4,
                    "tripDistance": 0.55,
                    "vendorID": 2,
                    "totalAmount": 6.3,
                    "day_of_month": 16,
                    "month_num": 1
                  },
                  {
                    "passengerCount": 1,
                    "day_of_hour": 8,
                    "day_of_week": 1,
                    "tripDistance": 3.4,
                    "vendorID": 1,
                    "totalAmount": 17.15,
                    "day_of_month": 13,
                    "month_num": 1
                  },
                  {
                    "passengerCount": 1,
                    "day_of_hour": 21,
                    "day_of_week": 4,
                    "tripDistance": 3.22,
                    "vendorID": 2,
                    "totalAmount": 14.3,
                    "day_of_month": 2,
                    "month_num": 1
                  },
                  {
                    "passengerCount": 1,
                    "day_of_hour": 11,
                    "day_of_week": 6,
                    "tripDistance": 1.7,
                    "vendorID": 1,
                    "totalAmount": 10.75,
                    "day_of_month": 4,
                    "month_num": 1
                  },
                  {
                    "passengerCount": 1,
                    "day_of_hour": 17,
                    "day_of_week": 5,
                    "tripDistance": 4.26,
                    "vendorID": 2,
                    "totalAmount": 17.3,
                    "day_of_month": 10,
                    "month_num": 1
                  },
                  {
                    "passengerCount": 1,
                    "day_of_hour": 10,
                    "day_of_week": 2,
                    "tripDistance": 5.99,
                    "vendorID": 2,
                    "totalAmount": 20.3,
                    "day_of_month": 21,
                    "month_num": 1
                  },
                  {
                    "passengerCount": 1,
                    "day_of_hour": 3,
                    "day_of_week": 6,
                    "tripDistance": 1.26,
                    "vendorID": 2,
                    "totalAmount": 9.2,
                    "day_of_month": 25,
                    "month_num": 1
                  },
                  {
                    "passengerCount": 1,
                    "day_of_hour": 8,
                    "day_of_week": 4,
                    "tripDistance": 1.94,
                    "vendorID": 2,
                    "totalAmount": 18.96,
                    "day_of_month": 23,
                    "month_num": 1
                  },
                  {
                    "passengerCount": 1,
                    "day_of_hour": 17,
                    "day_of_week": 4,
                    "tripDistance": 1.1,
                    "vendorID": 1,
                    "totalAmount": 11.75,
                    "day_of_month": 16,
                    "month_num": 1
                  },
                  {
                    "passengerCount": 1,
                    "day_of_hour": 19,
                    "day_of_week": 6,
                    "tripDistance": 1.66,
                    "vendorID": 2,
                    "totalAmount": 8.8,
                    "day_of_month": 25,
                    "month_num": 1
                  },
                  {
                    "passengerCount": 1,
                    "day_of_hour": 17,
                    "day_of_week": 3,
                    "tripDistance": 3.6,
                    "vendorID": 1,
                    "totalAmount": 17.3,
                    "day_of_month": 15,
                    "month_num": 1
                  },
                  {
                    "passengerCount": 1,
                    "day_of_hour": 9,
                    "day_of_week": 1,
                    "tripDistance": 2.88,
                    "vendorID": 2,
                    "totalAmount": 13.8,
                    "day_of_month": 20,
                    "month_num": 1
                  },
                  {
                    "passengerCount": 1,
                    "day_of_hour": 9,
                    "day_of_week": 2,
                    "tripDistance": 1.63,
                    "vendorID": 2,
                    "totalAmount": 8.8,
                    "day_of_month": 28,
                    "month_num": 1
                  },
                  {
                    "passengerCount": 1,
                    "day_of_hour": 9,
                    "day_of_week": 0,
                    "tripDistance": 10.95,
                    "vendorID": 2,
                    "totalAmount": 38.3,
                    "day_of_month": 26,
                    "month_num": 1
                  },
                  {
                    "passengerCount": 1,
                    "day_of_hour": 1,
                    "day_of_week": 0,
                    "tripDistance": 1.86,
                    "vendorID": 2,
                    "totalAmount": 9.3,
                    "day_of_month": 12,
                    "month_num": 1
                  },
                  {
                    "passengerCount": 1,
                    "day_of_hour": 9,
                    "day_of_week": 4,
                    "tripDistance": 2.63,
                    "vendorID": 2,
                    "totalAmount": 23,
                    "day_of_month": 9,
                    "month_num": 1
                  },
                  {
                    "passengerCount": 1,
                    "day_of_hour": 9,
                    "day_of_week": 0,
                    "tripDistance": 3.9,
                    "vendorID": 1,
                    "totalAmount": 15.3,
                    "day_of_month": 26,
                    "month_num": 1
                  },
                  {
                    "passengerCount": 2,
                    "day_of_hour": 3,
                    "day_of_week": 6,
                    "tripDistance": 4.4,
                    "vendorID": 1,
                    "totalAmount": 19.8,
                    "day_of_month": 11,
                    "month_num": 1
                  },
                  {
                    "passengerCount": 6,
                    "day_of_hour": 16,
                    "day_of_week": 1,
                    "tripDistance": 2.96,
                    "vendorID": 2,
                    "totalAmount": 13.8,
                    "day_of_month": 27,
                    "month_num": 1
                  },
                  {
                    "passengerCount": 1,
                    "day_of_hour": 14,
                    "day_of_week": 5,
                    "tripDistance": 1.55,
                    "vendorID": 2,
                    "totalAmount": 9.8,
                    "day_of_month": 17,
                    "month_num": 1
                  },
                  {
                    "passengerCount": 1,
                    "day_of_hour": 19,
                    "day_of_week": 2,
                    "tripDistance": 1.03,
                    "vendorID": 2,
                    "totalAmount": 8.16,
                    "day_of_month": 28,
                    "month_num": 1
                  },
                  {
                    "passengerCount": 1,
                    "day_of_hour": 17,
                    "day_of_week": 0,
                    "tripDistance": 0.29,
                    "vendorID": 2,
                    "totalAmount": 4.8,
                    "day_of_month": 12,
                    "month_num": 1
                  },
                  {
                    "passengerCount": 1,
                    "day_of_hour": 20,
                    "day_of_week": 4,
                    "tripDistance": 1.38,
                    "vendorID": 2,
                    "totalAmount": 10,
                    "day_of_month": 9,
                    "month_num": 1
                  },
                  {
                    "passengerCount": 1,
                    "day_of_hour": 9,
                    "day_of_week": 0,
                    "tripDistance": 1.74,
                    "vendorID": 2,
                    "totalAmount": 9.3,
                    "day_of_month": 12,
                    "month_num": 1
                  },
                  {
                    "passengerCount": 1,
                    "day_of_hour": 20,
                    "day_of_week": 3,
                    "tripDistance": 2.23,
                    "vendorID": 2,
                    "totalAmount": 12.3,
                    "day_of_month": 22,
                    "month_num": 1
                  },
                  {
                    "passengerCount": 1,
                    "day_of_hour": 18,
                    "day_of_week": 4,
                    "tripDistance": 4.6,
                    "vendorID": 2,
                    "totalAmount": 19.8,
                    "day_of_month": 9,
                    "month_num": 1
                  },
                  {
                    "passengerCount": 1,
                    "day_of_hour": 2,
                    "day_of_week": 0,
                    "tripDistance": 2.86,
                    "vendorID": 2,
                    "totalAmount": 12.8,
                    "day_of_month": 19,
                    "month_num": 1
                  },
                  {
                    "passengerCount": 1,
                    "day_of_hour": 4,
                    "day_of_week": 3,
                    "tripDistance": 14.06,
                    "vendorID": 2,
                    "totalAmount": 47.6,
                    "day_of_month": 15,
                    "month_num": 1
                  },
                  {
                    "passengerCount": 1,
                    "day_of_hour": 22,
                    "day_of_week": 5,
                    "tripDistance": 7.3,
                    "vendorID": 2,
                    "totalAmount": 25.3,
                    "day_of_month": 10,
                    "month_num": 1
                  },
                  {
                    "passengerCount": 1,
                    "day_of_hour": 18,
                    "day_of_week": 5,
                    "tripDistance": 1.17,
                    "vendorID": 2,
                    "totalAmount": 8.6,
                    "day_of_month": 17,
                    "month_num": 1
                  },
                  {
                    "passengerCount": 1,
                    "day_of_hour": 17,
                    "day_of_week": 1,
                    "tripDistance": 7.21,
                    "vendorID": 2,
                    "totalAmount": 32,
                    "day_of_month": 6,
                    "month_num": 1
                  },
                  {
                    "passengerCount": 1,
                    "day_of_hour": 0,
                    "day_of_week": 2,
                    "tripDistance": 1.16,
                    "vendorID": 2,
                    "totalAmount": 7.3,
                    "day_of_month": 14,
                    "month_num": 1
                  },
                  {
                    "passengerCount": 1,
                    "day_of_hour": 12,
                    "day_of_week": 4,
                    "tripDistance": 3.21,
                    "vendorID": 2,
                    "totalAmount": 15.3,
                    "day_of_month": 30,
                    "month_num": 1
                  },
                  {
                    "passengerCount": 1,
                    "day_of_hour": 20,
                    "day_of_week": 5,
                    "tripDistance": 0.73,
                    "vendorID": 2,
                    "totalAmount": 6.8,
                    "day_of_month": 24,
                    "month_num": 1
                  },
                  {
                    "passengerCount": 6,
                    "day_of_hour": 2,
                    "day_of_week": 1,
                    "tripDistance": 2.72,
                    "vendorID": 2,
                    "totalAmount": 12.8,
                    "day_of_month": 13,
                    "month_num": 1
                  },
                  {
                    "passengerCount": 1,
                    "day_of_hour": 6,
                    "day_of_week": 0,
                    "tripDistance": 6.31,
                    "vendorID": 2,
                    "totalAmount": 22.8,
                    "day_of_month": 26,
                    "month_num": 1
                  },
                  {
                    "passengerCount": 1,
                    "day_of_hour": 17,
                    "day_of_week": 0,
                    "tripDistance": 2.3,
                    "vendorID": 1,
                    "totalAmount": 12.3,
                    "day_of_month": 12,
                    "month_num": 1
                  },
                  {
                    "passengerCount": 1,
                    "day_of_hour": 14,
                    "day_of_week": 4,
                    "tripDistance": 5.47,
                    "vendorID": 2,
                    "totalAmount": 24.8,
                    "day_of_month": 23,
                    "month_num": 1
                  },
                  {
                    "passengerCount": 1,
                    "day_of_hour": 1,
                    "day_of_week": 3,
                    "tripDistance": 2.66,
                    "vendorID": 2,
                    "totalAmount": 13.8,
                    "day_of_month": 29,
                    "month_num": 1
                  },
                  {
                    "passengerCount": 2,
                    "day_of_hour": 16,
                    "day_of_week": 2,
                    "tripDistance": 6.9,
                    "vendorID": 1,
                    "totalAmount": 26.3,
                    "day_of_month": 21,
                    "month_num": 1
                  },
                  {
                    "passengerCount": 1,
                    "day_of_hour": 0,
                    "day_of_week": 6,
                    "tripDistance": 3.21,
                    "vendorID": 2,
                    "totalAmount": 13.3,
                    "day_of_month": 18,
                    "month_num": 1
                  },
                  {
                    "passengerCount": 1,
                    "day_of_hour": 8,
                    "day_of_week": 3,
                    "tripDistance": 3.3,
                    "vendorID": 2,
                    "totalAmount": 13.8,
                    "day_of_month": 22,
                    "month_num": 1
                  },
                  {
                    "passengerCount": 1,
                    "day_of_hour": 2,
                    "day_of_week": 6,
                    "tripDistance": 3.92,
                    "vendorID": 2,
                    "totalAmount": 14.3,
                    "day_of_month": 18,
                    "month_num": 1
                  },
                  {
                    "passengerCount": 1,
                    "day_of_hour": 20,
                    "day_of_week": 3,
                    "tripDistance": 0.93,
                    "vendorID": 2,
                    "totalAmount": 6.3,
                    "day_of_month": 1,
                    "month_num": 1
                  },
                  {
                    "passengerCount": 1,
                    "day_of_hour": 16,
                    "day_of_week": 5,
                    "tripDistance": 1.57,
                    "vendorID": 2,
                    "totalAmount": 10.3,
                    "day_of_month": 17,
                    "month_num": 1
                  },
                  {
                    "passengerCount": 2,
                    "day_of_hour": 18,
                    "day_of_week": 4,
                    "tripDistance": 3.6,
                    "vendorID": 1,
                    "totalAmount": 18.8,
                    "day_of_month": 9,
                    "month_num": 1
                  },
                  {
                    "passengerCount": 1,
                    "day_of_hour": 23,
                    "day_of_week": 1,
                    "tripDistance": 2.2,
                    "vendorID": 2,
                    "totalAmount": 12.68,
                    "day_of_month": 6,
                    "month_num": 1
                  },
                  {
                    "passengerCount": 1,
                    "day_of_hour": 16,
                    "day_of_week": 4,
                    "tripDistance": 1.44,
                    "vendorID": 2,
                    "totalAmount": 11.16,
                    "day_of_month": 30,
                    "month_num": 1
                  },
                  {
                    "passengerCount": 1,
                    "day_of_hour": 16,
                    "day_of_week": 5,
                    "tripDistance": 2.4,
                    "vendorID": 1,
                    "totalAmount": 9.3,
                    "day_of_month": 10,
                    "month_num": 1
                  },
                  {
                    "passengerCount": 1,
                    "day_of_hour": 10,
                    "day_of_week": 0,
                    "tripDistance": 1.24,
                    "vendorID": 2,
                    "totalAmount": 6.8,
                    "day_of_month": 12,
                    "month_num": 1
                  },
                  {
                    "passengerCount": 1,
                    "day_of_hour": 20,
                    "day_of_week": 3,
                    "tripDistance": 1.57,
                    "vendorID": 2,
                    "totalAmount": 11.6,
                    "day_of_month": 29,
                    "month_num": 1
                  },
                  {
                    "passengerCount": 1,
                    "day_of_hour": 5,
                    "day_of_week": 4,
                    "tripDistance": 2.82,
                    "vendorID": 2,
                    "totalAmount": 14.76,
                    "day_of_month": 30,
                    "month_num": 1
                  },
                  {
                    "passengerCount": 1,
                    "day_of_hour": 1,
                    "day_of_week": 2,
                    "tripDistance": 6.2,
                    "vendorID": 1,
                    "totalAmount": 24.3,
                    "day_of_month": 28,
                    "month_num": 1
                  },
                  {
                    "passengerCount": 1,
                    "day_of_hour": 3,
                    "day_of_week": 6,
                    "tripDistance": 1.87,
                    "vendorID": 2,
                    "totalAmount": 10.8,
                    "day_of_month": 18,
                    "month_num": 1
                  },
                  {
                    "passengerCount": 2,
                    "day_of_hour": 17,
                    "day_of_week": 3,
                    "tripDistance": 3.9,
                    "vendorID": 1,
                    "totalAmount": 24.95,
                    "day_of_month": 15,
                    "month_num": 1
                  },
                  {
                    "passengerCount": 1,
                    "day_of_hour": 17,
                    "day_of_week": 3,
                    "tripDistance": 1.31,
                    "vendorID": 2,
                    "totalAmount": 8.8,
                    "day_of_month": 22,
                    "month_num": 1
                  },
                  {
                    "passengerCount": 1,
                    "day_of_hour": 19,
                    "day_of_week": 4,
                    "tripDistance": 2.2,
                    "vendorID": 2,
                    "totalAmount": 11.8,
                    "day_of_month": 2,
                    "month_num": 1
                  },
                  {
                    "passengerCount": 1,
                    "day_of_hour": 22,
                    "day_of_week": 1,
                    "tripDistance": 0.79,
                    "vendorID": 2,
                    "totalAmount": 6.8,
                    "day_of_month": 20,
                    "month_num": 1
                  },
                  {
                    "passengerCount": 1,
                    "day_of_hour": 23,
                    "day_of_week": 3,
                    "tripDistance": 0.4,
                    "vendorID": 1,
                    "totalAmount": 6.35,
                    "day_of_month": 15,
                    "month_num": 1
                  },
                  {
                    "passengerCount": 1,
                    "day_of_hour": 17,
                    "day_of_week": 1,
                    "tripDistance": 1.39,
                    "vendorID": 2,
                    "totalAmount": 9.8,
                    "day_of_month": 20,
                    "month_num": 1
                  },
                  {
                    "passengerCount": 1,
                    "day_of_hour": 20,
                    "day_of_week": 5,
                    "tripDistance": 1.4,
                    "vendorID": 1,
                    "totalAmount": 7,
                    "day_of_month": 10,
                    "month_num": 1
                  },
                  {
                    "passengerCount": 2,
                    "day_of_hour": 14,
                    "day_of_week": 3,
                    "tripDistance": 1.81,
                    "vendorID": 2,
                    "totalAmount": 12.8,
                    "day_of_month": 29,
                    "month_num": 1
                  },
                  {
                    "passengerCount": 1,
                    "day_of_hour": 18,
                    "day_of_week": 3,
                    "tripDistance": 1.28,
                    "vendorID": 2,
                    "totalAmount": 10.8,
                    "day_of_month": 29,
                    "month_num": 1
                  },
                  {
                    "passengerCount": 1,
                    "day_of_hour": 14,
                    "day_of_week": 4,
                    "tripDistance": 1.52,
                    "vendorID": 2,
                    "totalAmount": 11.05,
                    "day_of_month": 23,
                    "month_num": 1
                  },
                  {
                    "passengerCount": 1,
                    "day_of_hour": 19,
                    "day_of_week": 6,
                    "tripDistance": 0.67,
                    "vendorID": 2,
                    "totalAmount": 5.8,
                    "day_of_month": 18,
                    "month_num": 1
                  },
                  {
                    "passengerCount": 1,
                    "day_of_hour": 9,
                    "day_of_week": 3,
                    "tripDistance": 0.7,
                    "vendorID": 1,
                    "totalAmount": 6.3,
                    "day_of_month": 8,
                    "month_num": 1
                  },
                  {
                    "passengerCount": 1,
                    "day_of_hour": 10,
                    "day_of_week": 4,
                    "tripDistance": 4.33,
                    "vendorID": 2,
                    "totalAmount": 16.8,
                    "day_of_month": 30,
                    "month_num": 1
                  },
                  {
                    "passengerCount": 2,
                    "day_of_hour": 19,
                    "day_of_week": 5,
                    "tripDistance": 1.2,
                    "vendorID": 1,
                    "totalAmount": 9.35,
                    "day_of_month": 3,
                    "month_num": 1
                  },
                  {
                    "passengerCount": 1,
                    "day_of_hour": 17,
                    "day_of_week": 5,
                    "tripDistance": 3.46,
                    "vendorID": 2,
                    "totalAmount": 15.8,
                    "day_of_month": 24,
                    "month_num": 1
                  },
                  {
                    "passengerCount": 1,
                    "day_of_hour": 19,
                    "day_of_week": 2,
                    "tripDistance": 0.65,
                    "vendorID": 2,
                    "totalAmount": 7.8,
                    "day_of_month": 7,
                    "month_num": 1
                  },
                  {
                    "passengerCount": 1,
                    "day_of_hour": 18,
                    "day_of_week": 2,
                    "tripDistance": 1.46,
                    "vendorID": 2,
                    "totalAmount": 9.8,
                    "day_of_month": 28,
                    "month_num": 1
                  },
                  {
                    "passengerCount": 1,
                    "day_of_hour": 15,
                    "day_of_week": 2,
                    "tripDistance": 4.38,
                    "vendorID": 2,
                    "totalAmount": 18.8,
                    "day_of_month": 7,
                    "month_num": 1
                  },
                  {
                    "passengerCount": 1,
                    "day_of_hour": 20,
                    "day_of_week": 5,
                    "tripDistance": 3.49,
                    "vendorID": 2,
                    "totalAmount": 22.05,
                    "day_of_month": 10,
                    "month_num": 1
                  },
                  {
                    "passengerCount": 6,
                    "day_of_hour": 11,
                    "day_of_week": 5,
                    "tripDistance": 2.4,
                    "vendorID": 2,
                    "totalAmount": 14.6,
                    "day_of_month": 17,
                    "month_num": 1
                  },
                  {
                    "passengerCount": 1,
                    "day_of_hour": 7,
                    "day_of_week": 2,
                    "tripDistance": 2.1,
                    "vendorID": 1,
                    "totalAmount": 13.55,
                    "day_of_month": 28,
                    "month_num": 1
                  },
                  {
                    "passengerCount": 1,
                    "day_of_hour": 16,
                    "day_of_week": 2,
                    "tripDistance": 6.1,
                    "vendorID": 1,
                    "totalAmount": 39.1,
                    "day_of_month": 28,
                    "month_num": 1
                  },
                  {
                    "passengerCount": 1,
                    "day_of_hour": 14,
                    "day_of_week": 3,
                    "tripDistance": 4.39,
                    "vendorID": 2,
                    "totalAmount": 17.6,
                    "day_of_month": 15,
                    "month_num": 1
                  },
                  {
                    "passengerCount": 1,
                    "day_of_hour": 6,
                    "day_of_week": 6,
                    "tripDistance": 6.65,
                    "vendorID": 2,
                    "totalAmount": 28.92,
                    "day_of_month": 11,
                    "month_num": 1
                  },
                  {
                    "passengerCount": 1,
                    "day_of_hour": 9,
                    "day_of_week": 5,
                    "tripDistance": 0.95,
                    "vendorID": 2,
                    "totalAmount": 6.3,
                    "day_of_month": 24,
                    "month_num": 1
                  },
                  {
                    "passengerCount": 1,
                    "day_of_hour": 23,
                    "day_of_week": 1,
                    "tripDistance": 2.53,
                    "vendorID": 2,
                    "totalAmount": 11.8,
                    "day_of_month": 6,
                    "month_num": 1
                  },
                  {
                    "passengerCount": 1,
                    "day_of_hour": 9,
                    "day_of_week": 0,
                    "tripDistance": 1.91,
                    "vendorID": 2,
                    "totalAmount": 10.8,
                    "day_of_month": 26,
                    "month_num": 1
                  },
                  {
                    "passengerCount": 1,
                    "day_of_hour": 12,
                    "day_of_week": 4,
                    "tripDistance": 22.8,
                    "vendorID": 1,
                    "totalAmount": 72,
                    "day_of_month": 2,
                    "month_num": 1
                  },
                  {
                    "passengerCount": 1,
                    "day_of_hour": 20,
                    "day_of_week": 1,
                    "tripDistance": 0.84,
                    "vendorID": 2,
                    "totalAmount": 7.4,
                    "day_of_month": 13,
                    "month_num": 1
                  },
                  {
                    "passengerCount": 1,
                    "day_of_hour": 21,
                    "day_of_week": 3,
                    "tripDistance": 1.3,
                    "vendorID": 1,
                    "totalAmount": 7.8,
                    "day_of_month": 15,
                    "month_num": 1
                  },
                  {
                    "passengerCount": 1,
                    "day_of_hour": 11,
                    "day_of_week": 6,
                    "tripDistance": 1.43,
                    "vendorID": 2,
                    "totalAmount": 8.3,
                    "day_of_month": 4,
                    "month_num": 1
                  },
                  {
                    "passengerCount": 1,
                    "day_of_hour": 19,
                    "day_of_week": 1,
                    "tripDistance": 0.91,
                    "vendorID": 2,
                    "totalAmount": 9.2,
                    "day_of_month": 6,
                    "month_num": 1
                  },
                  {
                    "passengerCount": 1,
                    "day_of_hour": 10,
                    "day_of_week": 5,
                    "tripDistance": 1.51,
                    "vendorID": 2,
                    "totalAmount": 9.3,
                    "day_of_month": 17,
                    "month_num": 1
                  },
                  {
                    "passengerCount": 1,
                    "day_of_hour": 8,
                    "day_of_week": 1,
                    "tripDistance": 8.17,
                    "vendorID": 2,
                    "totalAmount": 27.8,
                    "day_of_month": 13,
                    "month_num": 1
                  },
                  {
                    "passengerCount": 1,
                    "day_of_hour": 20,
                    "day_of_week": 6,
                    "tripDistance": 3.53,
                    "vendorID": 2,
                    "totalAmount": 16.3,
                    "day_of_month": 11,
                    "month_num": 1
                  },
                  {
                    "passengerCount": 1,
                    "day_of_hour": 0,
                    "day_of_week": 4,
                    "tripDistance": 3.4,
                    "vendorID": 1,
                    "totalAmount": 17.25,
                    "day_of_month": 9,
                    "month_num": 1
                  },
                  {
                    "passengerCount": 1,
                    "day_of_hour": 19,
                    "day_of_week": 1,
                    "tripDistance": 1,
                    "vendorID": 1,
                    "totalAmount": 9.35,
                    "day_of_month": 13,
                    "month_num": 1
                  },
                  {
                    "passengerCount": 1,
                    "day_of_hour": 20,
                    "day_of_week": 4,
                    "tripDistance": 1.33,
                    "vendorID": 2,
                    "totalAmount": 9.3,
                    "day_of_month": 16,
                    "month_num": 1
                  },
                  {
                    "passengerCount": 1,
                    "day_of_hour": 2,
                    "day_of_week": 3,
                    "tripDistance": 9.35,
                    "vendorID": 2,
                    "totalAmount": 30.8,
                    "day_of_month": 1,
                    "month_num": 1
                  },
                  {
                    "passengerCount": 1,
                    "day_of_hour": 22,
                    "day_of_week": 5,
                    "tripDistance": 5.28,
                    "vendorID": 2,
                    "totalAmount": 22.3,
                    "day_of_month": 3,
                    "month_num": 1
                  },
                  {
                    "passengerCount": 1,
                    "day_of_hour": 22,
                    "day_of_week": 4,
                    "tripDistance": 0.53,
                    "vendorID": 2,
                    "totalAmount": 5.8,
                    "day_of_month": 16,
                    "month_num": 1
                  },
                  {
                    "passengerCount": 1,
                    "day_of_hour": 6,
                    "day_of_week": 1,
                    "tripDistance": 3.03,
                    "vendorID": 2,
                    "totalAmount": 15.8,
                    "day_of_month": 13,
                    "month_num": 1
                  },
                  {
                    "passengerCount": 1,
                    "day_of_hour": 13,
                    "day_of_week": 4,
                    "tripDistance": 8,
                    "vendorID": 1,
                    "totalAmount": 36.13,
                    "day_of_month": 23,
                    "month_num": 1
                  },
                  {
                    "passengerCount": 1,
                    "day_of_hour": 20,
                    "day_of_week": 3,
                    "tripDistance": 1.09,
                    "vendorID": 2,
                    "totalAmount": 6.8,
                    "day_of_month": 8,
                    "month_num": 1
                  },
                  {
                    "passengerCount": 6,
                    "day_of_hour": 15,
                    "day_of_week": 2,
                    "tripDistance": 2.42,
                    "vendorID": 2,
                    "totalAmount": 12.8,
                    "day_of_month": 7,
                    "month_num": 1
                  },
                  {
                    "passengerCount": 3,
                    "day_of_hour": 14,
                    "day_of_week": 3,
                    "tripDistance": 3.3,
                    "vendorID": 1,
                    "totalAmount": 16.3,
                    "day_of_month": 8,
                    "month_num": 1
                  },
                  {
                    "passengerCount": 1,
                    "day_of_hour": 17,
                    "day_of_week": 2,
                    "tripDistance": 1.02,
                    "vendorID": 2,
                    "totalAmount": 7.8,
                    "day_of_month": 28,
                    "month_num": 1
                  },
                  {
                    "passengerCount": 1,
                    "day_of_hour": 17,
                    "day_of_week": 1,
                    "tripDistance": 2.05,
                    "vendorID": 2,
                    "totalAmount": 14,
                    "day_of_month": 6,
                    "month_num": 1
                  },
                  {
                    "passengerCount": 1,
                    "day_of_hour": 10,
                    "day_of_week": 2,
                    "tripDistance": 3.8,
                    "vendorID": 1,
                    "totalAmount": 16.3,
                    "day_of_month": 28,
                    "month_num": 1
                  },
                  {
                    "passengerCount": 2,
                    "day_of_hour": 21,
                    "day_of_week": 2,
                    "tripDistance": 0.73,
                    "vendorID": 2,
                    "totalAmount": 6.5,
                    "day_of_month": 7,
                    "month_num": 1
                  },
                  {
                    "passengerCount": 1,
                    "day_of_hour": 14,
                    "day_of_week": 2,
                    "tripDistance": 0.6,
                    "vendorID": 1,
                    "totalAmount": 5.3,
                    "day_of_month": 7,
                    "month_num": 1
                  },
                  {
                    "passengerCount": 3,
                    "day_of_hour": 19,
                    "day_of_week": 4,
                    "tripDistance": 3.77,
                    "vendorID": 2,
                    "totalAmount": 17.3,
                    "day_of_month": 23,
                    "month_num": 1
                  },
                  {
                    "passengerCount": 1,
                    "day_of_hour": 18,
                    "day_of_week": 3,
                    "tripDistance": 2.8,
                    "vendorID": 2,
                    "totalAmount": 11.5,
                    "day_of_month": 1,
                    "month_num": 1
                  },
                  {
                    "passengerCount": 1,
                    "day_of_hour": 4,
                    "day_of_week": 6,
                    "tripDistance": 1.04,
                    "vendorID": 2,
                    "totalAmount": 7.3,
                    "day_of_month": 11,
                    "month_num": 1
                  },
                  {
                    "passengerCount": 1,
                    "day_of_hour": 18,
                    "day_of_week": 5,
                    "tripDistance": 2.16,
                    "vendorID": 2,
                    "totalAmount": 10.8,
                    "day_of_month": 3,
                    "month_num": 1
                  },
                  {
                    "passengerCount": 1,
                    "day_of_hour": 16,
                    "day_of_week": 5,
                    "tripDistance": 0.7,
                    "vendorID": 1,
                    "totalAmount": 5.5,
                    "day_of_month": 3,
                    "month_num": 1
                  },
                  {
                    "passengerCount": 1,
                    "day_of_hour": 21,
                    "day_of_week": 2,
                    "tripDistance": 3.2,
                    "vendorID": 2,
                    "totalAmount": 12.5,
                    "day_of_month": 21,
                    "month_num": 1
                  },
                  {
                    "passengerCount": 1,
                    "day_of_hour": 15,
                    "day_of_week": 2,
                    "tripDistance": 1.17,
                    "vendorID": 2,
                    "totalAmount": 6.8,
                    "day_of_month": 7,
                    "month_num": 1
                  },
                  {
                    "passengerCount": 5,
                    "day_of_hour": 22,
                    "day_of_week": 3,
                    "tripDistance": 4.12,
                    "vendorID": 2,
                    "totalAmount": 14.8,
                    "day_of_month": 22,
                    "month_num": 1
                  },
                  {
                    "passengerCount": 1,
                    "day_of_hour": 12,
                    "day_of_week": 0,
                    "tripDistance": 0.49,
                    "vendorID": 2,
                    "totalAmount": 6.65,
                    "day_of_month": 26,
                    "month_num": 1
                  },
                  {
                    "passengerCount": 1,
                    "day_of_hour": 15,
                    "day_of_week": 1,
                    "tripDistance": 0.87,
                    "vendorID": 2,
                    "totalAmount": 6.3,
                    "day_of_month": 13,
                    "month_num": 1
                  },
                  {
                    "passengerCount": 1,
                    "day_of_hour": 22,
                    "day_of_week": 2,
                    "tripDistance": 1.55,
                    "vendorID": 2,
                    "totalAmount": 8.8,
                    "day_of_month": 14,
                    "month_num": 1
                  },
                  {
                    "passengerCount": 4,
                    "day_of_hour": 20,
                    "day_of_week": 5,
                    "tripDistance": 7.87,
                    "vendorID": 2,
                    "totalAmount": 35,
                    "day_of_month": 17,
                    "month_num": 1
                  },
                  {
                    "passengerCount": 5,
                    "day_of_hour": 14,
                    "day_of_week": 4,
                    "tripDistance": 0.65,
                    "vendorID": 2,
                    "totalAmount": 5.8,
                    "day_of_month": 16,
                    "month_num": 1
                  },
                  {
                    "passengerCount": 5,
                    "day_of_hour": 1,
                    "day_of_week": 6,
                    "tripDistance": 3.07,
                    "vendorID": 2,
                    "totalAmount": 12.3,
                    "day_of_month": 4,
                    "month_num": 1
                  },
                  {
                    "passengerCount": 2,
                    "day_of_hour": 3,
                    "day_of_week": 5,
                    "tripDistance": 3.4,
                    "vendorID": 1,
                    "totalAmount": 15.3,
                    "day_of_month": 17,
                    "month_num": 1
                  },
                  {
                    "passengerCount": 1,
                    "day_of_hour": 8,
                    "day_of_week": 1,
                    "tripDistance": 1.28,
                    "vendorID": 2,
                    "totalAmount": 9.7,
                    "day_of_month": 20,
                    "month_num": 1
                  },
                  {
                    "passengerCount": 1,
                    "day_of_hour": 16,
                    "day_of_week": 1,
                    "tripDistance": 0.7,
                    "vendorID": 1,
                    "totalAmount": 7.3,
                    "day_of_month": 27,
                    "month_num": 1
                  },
                  {
                    "passengerCount": 1,
                    "day_of_hour": 23,
                    "day_of_week": 1,
                    "tripDistance": 7.22,
                    "vendorID": 2,
                    "totalAmount": 23.8,
                    "day_of_month": 6,
                    "month_num": 1
                  },
                  {
                    "passengerCount": 1,
                    "day_of_hour": 19,
                    "day_of_week": 6,
                    "tripDistance": 1.3,
                    "vendorID": 2,
                    "totalAmount": 7.8,
                    "day_of_month": 18,
                    "month_num": 1
                  },
                  {
                    "passengerCount": 1,
                    "day_of_hour": 9,
                    "day_of_week": 3,
                    "tripDistance": 0.5,
                    "vendorID": 2,
                    "totalAmount": 6.3,
                    "day_of_month": 29,
                    "month_num": 1
                  },
                  {
                    "passengerCount": 1,
                    "day_of_hour": 22,
                    "day_of_week": 2,
                    "tripDistance": 2.86,
                    "vendorID": 2,
                    "totalAmount": 11.8,
                    "day_of_month": 21,
                    "month_num": 1
                  },
                  {
                    "passengerCount": 1,
                    "day_of_hour": 9,
                    "day_of_week": 2,
                    "tripDistance": 1.34,
                    "vendorID": 2,
                    "totalAmount": 7.8,
                    "day_of_month": 14,
                    "month_num": 1
                  },
                  {
                    "passengerCount": 1,
                    "day_of_hour": 4,
                    "day_of_week": 0,
                    "tripDistance": 0.87,
                    "vendorID": 2,
                    "totalAmount": 6.3,
                    "day_of_month": 19,
                    "month_num": 1
                  },
                  {
                    "passengerCount": 1,
                    "day_of_hour": 8,
                    "day_of_week": 0,
                    "tripDistance": 0.75,
                    "vendorID": 2,
                    "totalAmount": 7.56,
                    "day_of_month": 26,
                    "month_num": 1
                  },
                  {
                    "passengerCount": 2,
                    "day_of_hour": 20,
                    "day_of_week": 0,
                    "tripDistance": 3.93,
                    "vendorID": 2,
                    "totalAmount": 17.8,
                    "day_of_month": 12,
                    "month_num": 1
                  },
                  {
                    "passengerCount": 1,
                    "day_of_hour": 20,
                    "day_of_week": 4,
                    "tripDistance": 1.03,
                    "vendorID": 2,
                    "totalAmount": 8.6,
                    "day_of_month": 9,
                    "month_num": 1
                  },
                  {
                    "passengerCount": 6,
                    "day_of_hour": 2,
                    "day_of_week": 0,
                    "tripDistance": 11.3,
                    "vendorID": 2,
                    "totalAmount": 41.6,
                    "day_of_month": 19,
                    "month_num": 1
                  },
                  {
                    "passengerCount": 1,
                    "day_of_hour": 17,
                    "day_of_week": 4,
                    "tripDistance": 0.3,
                    "vendorID": 1,
                    "totalAmount": 4.8,
                    "day_of_month": 23,
                    "month_num": 1
                  },
                  {
                    "passengerCount": 2,
                    "day_of_hour": 19,
                    "day_of_week": 4,
                    "tripDistance": 2,
                    "vendorID": 1,
                    "totalAmount": 11.8,
                    "day_of_month": 30,
                    "month_num": 1
                  },
                  {
                    "passengerCount": 1,
                    "day_of_hour": 2,
                    "day_of_week": 5,
                    "tripDistance": 0.47,
                    "vendorID": 2,
                    "totalAmount": 6,
                    "day_of_month": 24,
                    "month_num": 1
                  },
                  {
                    "passengerCount": 1,
                    "day_of_hour": 15,
                    "day_of_week": 4,
                    "tripDistance": 1.7,
                    "vendorID": 1,
                    "totalAmount": 9.8,
                    "day_of_month": 30,
                    "month_num": 1
                  },
                  {
                    "passengerCount": 1,
                    "day_of_hour": 22,
                    "day_of_week": 6,
                    "tripDistance": 0.8,
                    "vendorID": 2,
                    "totalAmount": 6.8,
                    "day_of_month": 11,
                    "month_num": 1
                  },
                  {
                    "passengerCount": 1,
                    "day_of_hour": 22,
                    "day_of_week": 4,
                    "tripDistance": 14.61,
                    "vendorID": 2,
                    "totalAmount": 43.3,
                    "day_of_month": 23,
                    "month_num": 1
                  },
                  {
                    "passengerCount": 1,
                    "day_of_hour": 21,
                    "day_of_week": 4,
                    "tripDistance": 0.85,
                    "vendorID": 2,
                    "totalAmount": 7.4,
                    "day_of_month": 30,
                    "month_num": 1
                  },
                  {
                    "passengerCount": 1,
                    "day_of_hour": 10,
                    "day_of_week": 6,
                    "tripDistance": 2.5,
                    "vendorID": 1,
                    "totalAmount": 11.8,
                    "day_of_month": 11,
                    "month_num": 1
                  },
                  {
                    "passengerCount": 1,
                    "day_of_hour": 8,
                    "day_of_week": 2,
                    "tripDistance": 0.8,
                    "vendorID": 2,
                    "totalAmount": 5.8,
                    "day_of_month": 21,
                    "month_num": 1
                  },
                  {
                    "passengerCount": 1,
                    "day_of_hour": 18,
                    "day_of_week": 5,
                    "tripDistance": 2.65,
                    "vendorID": 2,
                    "totalAmount": 13.4,
                    "day_of_month": 17,
                    "month_num": 1
                  },
                  {
                    "passengerCount": 1,
                    "day_of_hour": 1,
                    "day_of_week": 5,
                    "tripDistance": 1.67,
                    "vendorID": 2,
                    "totalAmount": 11.3,
                    "day_of_month": 17,
                    "month_num": 1
                  },
                  {
                    "passengerCount": 1,
                    "day_of_hour": 20,
                    "day_of_week": 6,
                    "tripDistance": 2.2,
                    "vendorID": 1,
                    "totalAmount": 10.3,
                    "day_of_month": 4,
                    "month_num": 1
                  },
                  {
                    "passengerCount": 1,
                    "day_of_hour": 11,
                    "day_of_week": 2,
                    "tripDistance": 3.62,
                    "vendorID": 2,
                    "totalAmount": 14.3,
                    "day_of_month": 7,
                    "month_num": 1
                  },
                  {
                    "passengerCount": 3,
                    "day_of_hour": 18,
                    "day_of_week": 6,
                    "tripDistance": 1.1,
                    "vendorID": 2,
                    "totalAmount": 6.8,
                    "day_of_month": 11,
                    "month_num": 1
                  },
                  {
                    "passengerCount": 1,
                    "day_of_hour": 10,
                    "day_of_week": 6,
                    "tripDistance": 11.15,
                    "vendorID": 2,
                    "totalAmount": 34.8,
                    "day_of_month": 4,
                    "month_num": 1
                  },
                  {
                    "passengerCount": 2,
                    "day_of_hour": 13,
                    "day_of_week": 5,
                    "tripDistance": 0.35,
                    "vendorID": 2,
                    "totalAmount": 5.8,
                    "day_of_month": 17,
                    "month_num": 1
                  },
                  {
                    "passengerCount": 1,
                    "day_of_hour": 21,
                    "day_of_week": 6,
                    "tripDistance": 4.8,
                    "vendorID": 1,
                    "totalAmount": 18.3,
                    "day_of_month": 18,
                    "month_num": 1
                  },
                  {
                    "passengerCount": 1,
                    "day_of_hour": 1,
                    "day_of_week": 6,
                    "tripDistance": 4.13,
                    "vendorID": 2,
                    "totalAmount": 16.8,
                    "day_of_month": 11,
                    "month_num": 1
                  },
                  {
                    "passengerCount": 1,
                    "day_of_hour": 4,
                    "day_of_week": 6,
                    "tripDistance": 10.1,
                    "vendorID": 1,
                    "totalAmount": 32.3,
                    "day_of_month": 4,
                    "month_num": 1
                  },
                  {
                    "passengerCount": 1,
                    "day_of_hour": 10,
                    "day_of_week": 0,
                    "tripDistance": 2.51,
                    "vendorID": 2,
                    "totalAmount": 10,
                    "day_of_month": 26,
                    "month_num": 1
                  },
                  {
                    "passengerCount": 1,
                    "day_of_hour": 14,
                    "day_of_week": 2,
                    "tripDistance": 1.45,
                    "vendorID": 2,
                    "totalAmount": 7.8,
                    "day_of_month": 21,
                    "month_num": 1
                  },
                  {
                    "passengerCount": 1,
                    "day_of_hour": 21,
                    "day_of_week": 5,
                    "tripDistance": 3.32,
                    "vendorID": 2,
                    "totalAmount": 17.05,
                    "day_of_month": 24,
                    "month_num": 1
                  },
                  {
                    "passengerCount": 1,
                    "day_of_hour": 2,
                    "day_of_week": 6,
                    "tripDistance": 3.8,
                    "vendorID": 1,
                    "totalAmount": 18.95,
                    "day_of_month": 25,
                    "month_num": 1
                  },
                  {
                    "passengerCount": 5,
                    "day_of_hour": 15,
                    "day_of_week": 0,
                    "tripDistance": 0.59,
                    "vendorID": 2,
                    "totalAmount": 7.54,
                    "day_of_month": 26,
                    "month_num": 1
                  },
                  {
                    "passengerCount": 6,
                    "day_of_hour": 12,
                    "day_of_week": 0,
                    "tripDistance": 2.14,
                    "vendorID": 2,
                    "totalAmount": 15.3,
                    "day_of_month": 26,
                    "month_num": 1
                  },
                  {
                    "passengerCount": 1,
                    "day_of_hour": 19,
                    "day_of_week": 6,
                    "tripDistance": 1.58,
                    "vendorID": 2,
                    "totalAmount": 8.8,
                    "day_of_month": 4,
                    "month_num": 1
                  },
                  {
                    "passengerCount": 5,
                    "day_of_hour": 0,
                    "day_of_week": 5,
                    "tripDistance": 0.8,
                    "vendorID": 2,
                    "totalAmount": 6.3,
                    "day_of_month": 17,
                    "month_num": 1
                  },
                  {
                    "passengerCount": 1,
                    "day_of_hour": 0,
                    "day_of_week": 5,
                    "tripDistance": 2.7,
                    "vendorID": 1,
                    "totalAmount": 16.3,
                    "day_of_month": 10,
                    "month_num": 1
                  },
                  {
                    "passengerCount": 2,
                    "day_of_hour": 12,
                    "day_of_week": 2,
                    "tripDistance": 8,
                    "vendorID": 1,
                    "totalAmount": 35.35,
                    "day_of_month": 21,
                    "month_num": 1
                  },
                  {
                    "passengerCount": 1,
                    "day_of_hour": 5,
                    "day_of_week": 3,
                    "tripDistance": 2.48,
                    "vendorID": 2,
                    "totalAmount": 10.8,
                    "day_of_month": 8,
                    "month_num": 1
                  },
                  {
                    "passengerCount": 1,
                    "day_of_hour": 13,
                    "day_of_week": 0,
                    "tripDistance": 2.71,
                    "vendorID": 2,
                    "totalAmount": 12.8,
                    "day_of_month": 12,
                    "month_num": 1
                  },
                  {
                    "passengerCount": 2,
                    "day_of_hour": 13,
                    "day_of_week": 0,
                    "tripDistance": 0.4,
                    "vendorID": 2,
                    "totalAmount": 4.8,
                    "day_of_month": 5,
                    "month_num": 1
                  },
                  {
                    "passengerCount": 1,
                    "day_of_hour": 12,
                    "day_of_week": 0,
                    "tripDistance": 2.06,
                    "vendorID": 2,
                    "totalAmount": 11.3,
                    "day_of_month": 12,
                    "month_num": 1
                  },
                  {
                    "passengerCount": 1,
                    "day_of_hour": 0,
                    "day_of_week": 2,
                    "tripDistance": 2.2,
                    "vendorID": 1,
                    "totalAmount": 10.3,
                    "day_of_month": 14,
                    "month_num": 1
                  },
                  {
                    "passengerCount": 1,
                    "day_of_hour": 20,
                    "day_of_week": 2,
                    "tripDistance": 0.82,
                    "vendorID": 2,
                    "totalAmount": 6.5,
                    "day_of_month": 21,
                    "month_num": 1
                  },
                  {
                    "passengerCount": 1,
                    "day_of_hour": 4,
                    "day_of_week": 6,
                    "tripDistance": 7.91,
                    "vendorID": 2,
                    "totalAmount": 27.3,
                    "day_of_month": 25,
                    "month_num": 1
                  },
                  {
                    "passengerCount": 1,
                    "day_of_hour": 16,
                    "day_of_week": 4,
                    "tripDistance": 0.4,
                    "vendorID": 2,
                    "totalAmount": 6.3,
                    "day_of_month": 23,
                    "month_num": 1
                  },
                  {
                    "passengerCount": 1,
                    "day_of_hour": 7,
                    "day_of_week": 1,
                    "tripDistance": 2.02,
                    "vendorID": 2,
                    "totalAmount": 14.55,
                    "day_of_month": 13,
                    "month_num": 1
                  },
                  {
                    "passengerCount": 1,
                    "day_of_hour": 15,
                    "day_of_week": 5,
                    "tripDistance": 0.95,
                    "vendorID": 2,
                    "totalAmount": 8.84,
                    "day_of_month": 24,
                    "month_num": 1
                  },
                  {
                    "passengerCount": 1,
                    "day_of_hour": 0,
                    "day_of_week": 2,
                    "tripDistance": 4.29,
                    "vendorID": 2,
                    "totalAmount": 23,
                    "day_of_month": 14,
                    "month_num": 1
                  },
                  {
                    "passengerCount": 1,
                    "day_of_hour": 16,
                    "day_of_week": 6,
                    "tripDistance": 3.52,
                    "vendorID": 2,
                    "totalAmount": 14,
                    "day_of_month": 11,
                    "month_num": 1
                  },
                  {
                    "passengerCount": 1,
                    "day_of_hour": 5,
                    "day_of_week": 3,
                    "tripDistance": 5.64,
                    "vendorID": 2,
                    "totalAmount": 22.3,
                    "day_of_month": 8,
                    "month_num": 1
                  },
                  {
                    "passengerCount": 1,
                    "day_of_hour": 15,
                    "day_of_week": 0,
                    "tripDistance": 3.23,
                    "vendorID": 2,
                    "totalAmount": 14.3,
                    "day_of_month": 19,
                    "month_num": 1
                  },
                  {
                    "passengerCount": 1,
                    "day_of_hour": 5,
                    "day_of_week": 1,
                    "tripDistance": 0.67,
                    "vendorID": 2,
                    "totalAmount": 6.8,
                    "day_of_month": 20,
                    "month_num": 1
                  },
                  {
                    "passengerCount": 1,
                    "day_of_hour": 16,
                    "day_of_week": 1,
                    "tripDistance": 5.3,
                    "vendorID": 1,
                    "totalAmount": 47.15,
                    "day_of_month": 13,
                    "month_num": 1
                  },
                  {
                    "passengerCount": 2,
                    "day_of_hour": 17,
                    "day_of_week": 3,
                    "tripDistance": 0.9,
                    "vendorID": 1,
                    "totalAmount": 10.8,
                    "day_of_month": 15,
                    "month_num": 1
                  },
                  {
                    "passengerCount": 1,
                    "day_of_hour": 20,
                    "day_of_week": 1,
                    "tripDistance": 6,
                    "vendorID": 2,
                    "totalAmount": 23.3,
                    "day_of_month": 6,
                    "month_num": 1
                  },
                  {
                    "passengerCount": 1,
                    "day_of_hour": 18,
                    "day_of_week": 3,
                    "tripDistance": 1.06,
                    "vendorID": 2,
                    "totalAmount": 8.8,
                    "day_of_month": 8,
                    "month_num": 1
                  },
                  {
                    "passengerCount": 1,
                    "day_of_hour": 21,
                    "day_of_week": 2,
                    "tripDistance": 4,
                    "vendorID": 1,
                    "totalAmount": 19.1,
                    "day_of_month": 7,
                    "month_num": 1
                  },
                  {
                    "passengerCount": 1,
                    "day_of_hour": 20,
                    "day_of_week": 5,
                    "tripDistance": 1.06,
                    "vendorID": 2,
                    "totalAmount": 9.2,
                    "day_of_month": 17,
                    "month_num": 1
                  },
                  {
                    "passengerCount": 1,
                    "day_of_hour": 3,
                    "day_of_week": 5,
                    "tripDistance": 2.97,
                    "vendorID": 2,
                    "totalAmount": 12.3,
                    "day_of_month": 10,
                    "month_num": 1
                  },
                  {
                    "passengerCount": 6,
                    "day_of_hour": 13,
                    "day_of_week": 0,
                    "tripDistance": 11.37,
                    "vendorID": 2,
                    "totalAmount": 38.8,
                    "day_of_month": 5,
                    "month_num": 1
                  },
                  {
                    "passengerCount": 1,
                    "day_of_hour": 18,
                    "day_of_week": 0,
                    "tripDistance": 0.79,
                    "vendorID": 2,
                    "totalAmount": 6.8,
                    "day_of_month": 5,
                    "month_num": 1
                  },
                  {
                    "passengerCount": 1,
                    "day_of_hour": 17,
                    "day_of_week": 3,
                    "tripDistance": 2.94,
                    "vendorID": 2,
                    "totalAmount": 16.3,
                    "day_of_month": 8,
                    "month_num": 1
                  },
                  {
                    "passengerCount": 1,
                    "day_of_hour": 21,
                    "day_of_week": 3,
                    "tripDistance": 2.81,
                    "vendorID": 2,
                    "totalAmount": 11.8,
                    "day_of_month": 29,
                    "month_num": 1
                  },
                  {
                    "passengerCount": 1,
                    "day_of_hour": 11,
                    "day_of_week": 3,
                    "tripDistance": 0.9,
                    "vendorID": 1,
                    "totalAmount": 6.3,
                    "day_of_month": 29,
                    "month_num": 1
                  },
                  {
                    "passengerCount": 2,
                    "day_of_hour": 18,
                    "day_of_week": 5,
                    "tripDistance": 3.49,
                    "vendorID": 2,
                    "totalAmount": 18.36,
                    "day_of_month": 24,
                    "month_num": 1
                  },
                  {
                    "passengerCount": 1,
                    "day_of_hour": 23,
                    "day_of_week": 6,
                    "tripDistance": 2.07,
                    "vendorID": 2,
                    "totalAmount": 9.8,
                    "day_of_month": 18,
                    "month_num": 1
                  },
                  {
                    "passengerCount": 5,
                    "day_of_hour": 10,
                    "day_of_week": 5,
                    "tripDistance": 6.81,
                    "vendorID": 2,
                    "totalAmount": 31.42,
                    "day_of_month": 17,
                    "month_num": 1
                  },
                  {
                    "passengerCount": 2,
                    "day_of_hour": 3,
                    "day_of_week": 5,
                    "tripDistance": 2.5,
                    "vendorID": 1,
                    "totalAmount": 11.3,
                    "day_of_month": 17,
                    "month_num": 1
                  },
                  {
                    "passengerCount": 1,
                    "day_of_hour": 1,
                    "day_of_week": 5,
                    "tripDistance": 0.61,
                    "vendorID": 2,
                    "totalAmount": 5.3,
                    "day_of_month": 24,
                    "month_num": 1
                  },
                  {
                    "passengerCount": 1,
                    "day_of_hour": 18,
                    "day_of_week": 2,
                    "tripDistance": 0.6,
                    "vendorID": 1,
                    "totalAmount": 6.3,
                    "day_of_month": 21,
                    "month_num": 1
                  },
                  {
                    "passengerCount": 1,
                    "day_of_hour": 21,
                    "day_of_week": 1,
                    "tripDistance": 0.76,
                    "vendorID": 2,
                    "totalAmount": 6.8,
                    "day_of_month": 13,
                    "month_num": 1
                  },
                  {
                    "passengerCount": 1,
                    "day_of_hour": 3,
                    "day_of_week": 6,
                    "tripDistance": 0.61,
                    "vendorID": 2,
                    "totalAmount": 6.8,
                    "day_of_month": 18,
                    "month_num": 1
                  },
                  {
                    "passengerCount": 1,
                    "day_of_hour": 7,
                    "day_of_week": 5,
                    "tripDistance": 1.24,
                    "vendorID": 2,
                    "totalAmount": 6.8,
                    "day_of_month": 3,
                    "month_num": 1
                  },
                  {
                    "passengerCount": 1,
                    "day_of_hour": 6,
                    "day_of_week": 5,
                    "tripDistance": 3.03,
                    "vendorID": 2,
                    "totalAmount": 11.3,
                    "day_of_month": 3,
                    "month_num": 1
                  },
                  {
                    "passengerCount": 1,
                    "day_of_hour": 0,
                    "day_of_week": 3,
                    "tripDistance": 1.59,
                    "vendorID": 2,
                    "totalAmount": 11.42,
                    "day_of_month": 1,
                    "month_num": 1
                  },
                  {
                    "passengerCount": 1,
                    "day_of_hour": 6,
                    "day_of_week": 3,
                    "tripDistance": 3.3,
                    "vendorID": 1,
                    "totalAmount": 11.8,
                    "day_of_month": 15,
                    "month_num": 1
                  },
                  {
                    "passengerCount": 1,
                    "day_of_hour": 14,
                    "day_of_week": 4,
                    "tripDistance": 1,
                    "vendorID": 1,
                    "totalAmount": 9.35,
                    "day_of_month": 30,
                    "month_num": 1
                  },
                  {
                    "passengerCount": 1,
                    "day_of_hour": 15,
                    "day_of_week": 0,
                    "tripDistance": 0.5,
                    "vendorID": 1,
                    "totalAmount": 6.95,
                    "day_of_month": 5,
                    "month_num": 1
                  },
                  {
                    "passengerCount": 1,
                    "day_of_hour": 20,
                    "day_of_week": 3,
                    "tripDistance": 0.6,
                    "vendorID": 1,
                    "totalAmount": 5.8,
                    "day_of_month": 15,
                    "month_num": 1
                  },
                  {
                    "passengerCount": 1,
                    "day_of_hour": 0,
                    "day_of_week": 6,
                    "tripDistance": 2.7,
                    "vendorID": 1,
                    "totalAmount": 12.3,
                    "day_of_month": 25,
                    "month_num": 1
                  },
                  {
                    "passengerCount": 1,
                    "day_of_hour": 4,
                    "day_of_week": 3,
                    "tripDistance": 4.88,
                    "vendorID": 2,
                    "totalAmount": 19.8,
                    "day_of_month": 1,
                    "month_num": 1
                  },
                  {
                    "passengerCount": 2,
                    "day_of_hour": 13,
                    "day_of_week": 0,
                    "tripDistance": 3.93,
                    "vendorID": 2,
                    "totalAmount": 18.2,
                    "day_of_month": 19,
                    "month_num": 1
                  },
                  {
                    "passengerCount": 1,
                    "day_of_hour": 14,
                    "day_of_week": 4,
                    "tripDistance": 1.36,
                    "vendorID": 2,
                    "totalAmount": 9.8,
                    "day_of_month": 16,
                    "month_num": 1
                  },
                  {
                    "passengerCount": 4,
                    "day_of_hour": 14,
                    "day_of_week": 1,
                    "tripDistance": 7.6,
                    "vendorID": 1,
                    "totalAmount": 31.3,
                    "day_of_month": 13,
                    "month_num": 1
                  },
                  {
                    "passengerCount": 1,
                    "day_of_hour": 19,
                    "day_of_week": 4,
                    "tripDistance": 5.65,
                    "vendorID": 2,
                    "totalAmount": 21.8,
                    "day_of_month": 16,
                    "month_num": 1
                  },
                  {
                    "passengerCount": 1,
                    "day_of_hour": 21,
                    "day_of_week": 4,
                    "tripDistance": 4.62,
                    "vendorID": 2,
                    "totalAmount": 24.2,
                    "day_of_month": 9,
                    "month_num": 1
                  },
                  {
                    "passengerCount": 2,
                    "day_of_hour": 17,
                    "day_of_week": 3,
                    "tripDistance": 0.61,
                    "vendorID": 2,
                    "totalAmount": 8.3,
                    "day_of_month": 8,
                    "month_num": 1
                  },
                  {
                    "passengerCount": 1,
                    "day_of_hour": 3,
                    "day_of_week": 0,
                    "tripDistance": 1.24,
                    "vendorID": 2,
                    "totalAmount": 7.3,
                    "day_of_month": 19,
                    "month_num": 1
                  },
                  {
                    "passengerCount": 1,
                    "day_of_hour": 23,
                    "day_of_week": 0,
                    "tripDistance": 10.1,
                    "vendorID": 1,
                    "totalAmount": 42.95,
                    "day_of_month": 5,
                    "month_num": 1
                  },
                  {
                    "passengerCount": 1,
                    "day_of_hour": 4,
                    "day_of_week": 6,
                    "tripDistance": 1.43,
                    "vendorID": 2,
                    "totalAmount": 7.8,
                    "day_of_month": 25,
                    "month_num": 1
                  },
                  {
                    "passengerCount": 1,
                    "day_of_hour": 14,
                    "day_of_week": 3,
                    "tripDistance": 1.64,
                    "vendorID": 2,
                    "totalAmount": 10.4,
                    "day_of_month": 22,
                    "month_num": 1
                  },
                  {
                    "passengerCount": 1,
                    "day_of_hour": 22,
                    "day_of_week": 6,
                    "tripDistance": 3.22,
                    "vendorID": 2,
                    "totalAmount": 14.3,
                    "day_of_month": 18,
                    "month_num": 1
                  },
                  {
                    "passengerCount": 1,
                    "day_of_hour": 23,
                    "day_of_week": 4,
                    "tripDistance": 5.46,
                    "vendorID": 2,
                    "totalAmount": 23.8,
                    "day_of_month": 23,
                    "month_num": 1
                  },
                  {
                    "passengerCount": 1,
                    "day_of_hour": 23,
                    "day_of_week": 5,
                    "tripDistance": 2.82,
                    "vendorID": 2,
                    "totalAmount": 16.4,
                    "day_of_month": 17,
                    "month_num": 1
                  },
                  {
                    "passengerCount": 2,
                    "day_of_hour": 3,
                    "day_of_week": 0,
                    "tripDistance": 4.58,
                    "vendorID": 2,
                    "totalAmount": 17.3,
                    "day_of_month": 26,
                    "month_num": 1
                  },
                  {
                    "passengerCount": 1,
                    "day_of_hour": 15,
                    "day_of_week": 3,
                    "tripDistance": 1.75,
                    "vendorID": 2,
                    "totalAmount": 11.42,
                    "day_of_month": 1,
                    "month_num": 1
                  },
                  {
                    "passengerCount": 1,
                    "day_of_hour": 16,
                    "day_of_week": 3,
                    "tripDistance": 4.66,
                    "vendorID": 2,
                    "totalAmount": 15,
                    "day_of_month": 22,
                    "month_num": 1
                  },
                  {
                    "passengerCount": 1,
                    "day_of_hour": 11,
                    "day_of_week": 0,
                    "tripDistance": 5.21,
                    "vendorID": 2,
                    "totalAmount": 20.6,
                    "day_of_month": 12,
                    "month_num": 1
                  },
                  {
                    "passengerCount": 1,
                    "day_of_hour": 22,
                    "day_of_week": 4,
                    "tripDistance": 1.96,
                    "vendorID": 2,
                    "totalAmount": 10.8,
                    "day_of_month": 9,
                    "month_num": 1
                  },
                  {
                    "passengerCount": 1,
                    "day_of_hour": 21,
                    "day_of_week": 3,
                    "tripDistance": 0.8,
                    "vendorID": 2,
                    "totalAmount": 6.3,
                    "day_of_month": 1,
                    "month_num": 1
                  },
                  {
                    "passengerCount": 5,
                    "day_of_hour": 16,
                    "day_of_week": 3,
                    "tripDistance": 0.68,
                    "vendorID": 2,
                    "totalAmount": 6.3,
                    "day_of_month": 22,
                    "month_num": 1
                  },
                  {
                    "passengerCount": 1,
                    "day_of_hour": 19,
                    "day_of_week": 4,
                    "tripDistance": 0.75,
                    "vendorID": 2,
                    "totalAmount": 6,
                    "day_of_month": 9,
                    "month_num": 1
                  },
                  {
                    "passengerCount": 4,
                    "day_of_hour": 19,
                    "day_of_week": 1,
                    "tripDistance": 0.31,
                    "vendorID": 2,
                    "totalAmount": 5.8,
                    "day_of_month": 6,
                    "month_num": 1
                  },
                  {
                    "passengerCount": 1,
                    "day_of_hour": 12,
                    "day_of_week": 0,
                    "tripDistance": 8.12,
                    "vendorID": 2,
                    "totalAmount": 32.68,
                    "day_of_month": 19,
                    "month_num": 1
                  },
                  {
                    "passengerCount": 1,
                    "day_of_hour": 0,
                    "day_of_week": 0,
                    "tripDistance": 2.46,
                    "vendorID": 2,
                    "totalAmount": 10.3,
                    "day_of_month": 19,
                    "month_num": 1
                  },
                  {
                    "passengerCount": 2,
                    "day_of_hour": 15,
                    "day_of_week": 6,
                    "tripDistance": 1.41,
                    "vendorID": 2,
                    "totalAmount": 9.9,
                    "day_of_month": 11,
                    "month_num": 1
                  },
                  {
                    "passengerCount": 6,
                    "day_of_hour": 9,
                    "day_of_week": 2,
                    "tripDistance": 1.07,
                    "vendorID": 2,
                    "totalAmount": 6,
                    "day_of_month": 21,
                    "month_num": 1
                  },
                  {
                    "passengerCount": 1,
                    "day_of_hour": 14,
                    "day_of_week": 3,
                    "tripDistance": 1.39,
                    "vendorID": 2,
                    "totalAmount": 9.8,
                    "day_of_month": 1,
                    "month_num": 1
                  },
                  {
                    "passengerCount": 1,
                    "day_of_hour": 17,
                    "day_of_week": 3,
                    "tripDistance": 4.05,
                    "vendorID": 2,
                    "totalAmount": 25.8,
                    "day_of_month": 8,
                    "month_num": 1
                  },
                  {
                    "passengerCount": 1,
                    "day_of_hour": 7,
                    "day_of_week": 4,
                    "tripDistance": 6.17,
                    "vendorID": 2,
                    "totalAmount": 39.76,
                    "day_of_month": 30,
                    "month_num": 1
                  },
                  {
                    "passengerCount": 1,
                    "day_of_hour": 23,
                    "day_of_week": 2,
                    "tripDistance": 1.74,
                    "vendorID": 2,
                    "totalAmount": 9.8,
                    "day_of_month": 7,
                    "month_num": 1
                  },
                  {
                    "passengerCount": 1,
                    "day_of_hour": 7,
                    "day_of_week": 4,
                    "tripDistance": 0.85,
                    "vendorID": 2,
                    "totalAmount": 6.3,
                    "day_of_month": 30,
                    "month_num": 1
                  },
                  {
                    "passengerCount": 6,
                    "day_of_hour": 19,
                    "day_of_week": 5,
                    "tripDistance": 0.99,
                    "vendorID": 2,
                    "totalAmount": 7.4,
                    "day_of_month": 17,
                    "month_num": 1
                  },
                  {
                    "passengerCount": 1,
                    "day_of_hour": 18,
                    "day_of_week": 1,
                    "tripDistance": 1.72,
                    "vendorID": 2,
                    "totalAmount": 10.8,
                    "day_of_month": 20,
                    "month_num": 1
                  },
                  {
                    "passengerCount": 1,
                    "day_of_hour": 2,
                    "day_of_week": 5,
                    "tripDistance": 0.7,
                    "vendorID": 1,
                    "totalAmount": 5.8,
                    "day_of_month": 3,
                    "month_num": 1
                  },
                  {
                    "passengerCount": 1,
                    "day_of_hour": 9,
                    "day_of_week": 0,
                    "tripDistance": 5.3,
                    "vendorID": 1,
                    "totalAmount": 24.5,
                    "day_of_month": 12,
                    "month_num": 1
                  },
                  {
                    "passengerCount": 1,
                    "day_of_hour": 20,
                    "day_of_week": 4,
                    "tripDistance": 5.84,
                    "vendorID": 2,
                    "totalAmount": 20.3,
                    "day_of_month": 30,
                    "month_num": 1
                  },
                  {
                    "passengerCount": 1,
                    "day_of_hour": 17,
                    "day_of_week": 2,
                    "tripDistance": 0.76,
                    "vendorID": 2,
                    "totalAmount": 9.2,
                    "day_of_month": 7,
                    "month_num": 1
                  },
                  {
                    "passengerCount": 1,
                    "day_of_hour": 19,
                    "day_of_week": 3,
                    "tripDistance": 1.7,
                    "vendorID": 1,
                    "totalAmount": 10.8,
                    "day_of_month": 29,
                    "month_num": 1
                  },
                  {
                    "passengerCount": 1,
                    "day_of_hour": 8,
                    "day_of_week": 4,
                    "tripDistance": 2.04,
                    "vendorID": 2,
                    "totalAmount": 10.8,
                    "day_of_month": 2,
                    "month_num": 1
                  },
                  {
                    "passengerCount": 1,
                    "day_of_hour": 23,
                    "day_of_week": 5,
                    "tripDistance": 6.08,
                    "vendorID": 2,
                    "totalAmount": 25.8,
                    "day_of_month": 10,
                    "month_num": 1
                  },
                  {
                    "passengerCount": 1,
                    "day_of_hour": 15,
                    "day_of_week": 6,
                    "tripDistance": 3.6,
                    "vendorID": 1,
                    "totalAmount": 16.3,
                    "day_of_month": 11,
                    "month_num": 1
                  },
                  {
                    "passengerCount": 1,
                    "day_of_hour": 21,
                    "day_of_week": 4,
                    "tripDistance": 1.29,
                    "vendorID": 2,
                    "totalAmount": 8.8,
                    "day_of_month": 9,
                    "month_num": 1
                  },
                  {
                    "passengerCount": 1,
                    "day_of_hour": 3,
                    "day_of_week": 3,
                    "tripDistance": 2.72,
                    "vendorID": 2,
                    "totalAmount": 12.3,
                    "day_of_month": 1,
                    "month_num": 1
                  },
                  {
                    "passengerCount": 2,
                    "day_of_hour": 5,
                    "day_of_week": 0,
                    "tripDistance": 1.35,
                    "vendorID": 2,
                    "totalAmount": 8.3,
                    "day_of_month": 26,
                    "month_num": 1
                  },
                  {
                    "passengerCount": 1,
                    "day_of_hour": 10,
                    "day_of_week": 6,
                    "tripDistance": 1.33,
                    "vendorID": 2,
                    "totalAmount": 8.3,
                    "day_of_month": 4,
                    "month_num": 1
                  },
                  {
                    "passengerCount": 1,
                    "day_of_hour": 16,
                    "day_of_week": 5,
                    "tripDistance": 1.16,
                    "vendorID": 2,
                    "totalAmount": 7.8,
                    "day_of_month": 17,
                    "month_num": 1
                  },
                  {
                    "passengerCount": 1,
                    "day_of_hour": 18,
                    "day_of_week": 4,
                    "tripDistance": 4.75,
                    "vendorID": 2,
                    "totalAmount": 19.3,
                    "day_of_month": 16,
                    "month_num": 1
                  },
                  {
                    "passengerCount": 1,
                    "day_of_hour": 21,
                    "day_of_week": 0,
                    "tripDistance": 3.56,
                    "vendorID": 2,
                    "totalAmount": 16.3,
                    "day_of_month": 12,
                    "month_num": 1
                  },
                  {
                    "passengerCount": 5,
                    "day_of_hour": 19,
                    "day_of_week": 2,
                    "tripDistance": 0.9,
                    "vendorID": 2,
                    "totalAmount": 7.8,
                    "day_of_month": 28,
                    "month_num": 1
                  },
                  {
                    "passengerCount": 1,
                    "day_of_hour": 2,
                    "day_of_week": 1,
                    "tripDistance": 0.99,
                    "vendorID": 2,
                    "totalAmount": 7,
                    "day_of_month": 13,
                    "month_num": 1
                  },
                  {
                    "passengerCount": 1,
                    "day_of_hour": 13,
                    "day_of_week": 3,
                    "tripDistance": 0.82,
                    "vendorID": 2,
                    "totalAmount": 5.8,
                    "day_of_month": 15,
                    "month_num": 1
                  },
                  {
                    "passengerCount": 2,
                    "day_of_hour": 20,
                    "day_of_week": 5,
                    "tripDistance": 0.5,
                    "vendorID": 1,
                    "totalAmount": 4.8,
                    "day_of_month": 10,
                    "month_num": 1
                  },
                  {
                    "passengerCount": 1,
                    "day_of_hour": 16,
                    "day_of_week": 6,
                    "tripDistance": 2.41,
                    "vendorID": 2,
                    "totalAmount": 10.3,
                    "day_of_month": 25,
                    "month_num": 1
                  },
                  {
                    "passengerCount": 1,
                    "day_of_hour": 1,
                    "day_of_week": 6,
                    "tripDistance": 3.53,
                    "vendorID": 2,
                    "totalAmount": 14.3,
                    "day_of_month": 25,
                    "month_num": 1
                  },
                  {
                    "passengerCount": 1,
                    "day_of_hour": 18,
                    "day_of_week": 4,
                    "tripDistance": 1.5,
                    "vendorID": 1,
                    "totalAmount": 10.55,
                    "day_of_month": 2,
                    "month_num": 1
                  },
                  {
                    "passengerCount": 1,
                    "day_of_hour": 12,
                    "day_of_week": 2,
                    "tripDistance": 1.46,
                    "vendorID": 2,
                    "totalAmount": 11.16,
                    "day_of_month": 28,
                    "month_num": 1
                  },
                  {
                    "passengerCount": 1,
                    "day_of_hour": 9,
                    "day_of_week": 1,
                    "tripDistance": 3.81,
                    "vendorID": 2,
                    "totalAmount": 29.8,
                    "day_of_month": 6,
                    "month_num": 1
                  },
                  {
                    "passengerCount": 1,
                    "day_of_hour": 2,
                    "day_of_week": 2,
                    "tripDistance": 1.04,
                    "vendorID": 2,
                    "totalAmount": 7.3,
                    "day_of_month": 14,
                    "month_num": 1
                  },
                  {
                    "passengerCount": 1,
                    "day_of_hour": 3,
                    "day_of_week": 6,
                    "tripDistance": 2.96,
                    "vendorID": 2,
                    "totalAmount": 12.3,
                    "day_of_month": 25,
                    "month_num": 1
                  },
                  {
                    "passengerCount": 5,
                    "day_of_hour": 21,
                    "day_of_week": 4,
                    "tripDistance": 1.64,
                    "vendorID": 2,
                    "totalAmount": 11,
                    "day_of_month": 23,
                    "month_num": 1
                  },
                  {
                    "passengerCount": 1,
                    "day_of_hour": 19,
                    "day_of_week": 2,
                    "tripDistance": 0.6,
                    "vendorID": 1,
                    "totalAmount": 7.5,
                    "day_of_month": 7,
                    "month_num": 1
                  },
                  {
                    "passengerCount": 1,
                    "day_of_hour": 21,
                    "day_of_week": 4,
                    "tripDistance": 5.8,
                    "vendorID": 2,
                    "totalAmount": 19.8,
                    "day_of_month": 16,
                    "month_num": 1
                  },
                  {
                    "passengerCount": 1,
                    "day_of_hour": 15,
                    "day_of_week": 2,
                    "tripDistance": 0.59,
                    "vendorID": 2,
                    "totalAmount": 5.8,
                    "day_of_month": 7,
                    "month_num": 1
                  },
                  {
                    "passengerCount": 5,
                    "day_of_hour": 3,
                    "day_of_week": 3,
                    "tripDistance": 1.19,
                    "vendorID": 2,
                    "totalAmount": 7.8,
                    "day_of_month": 1,
                    "month_num": 1
                  },
                  {
                    "passengerCount": 1,
                    "day_of_hour": 19,
                    "day_of_week": 4,
                    "tripDistance": 9.8,
                    "vendorID": 2,
                    "totalAmount": 30.3,
                    "day_of_month": 9,
                    "month_num": 1
                  },
                  {
                    "passengerCount": 1,
                    "day_of_hour": 16,
                    "day_of_week": 5,
                    "tripDistance": 0.5,
                    "vendorID": 2,
                    "totalAmount": 5.8,
                    "day_of_month": 17,
                    "month_num": 1
                  },
                  {
                    "passengerCount": 1,
                    "day_of_hour": 9,
                    "day_of_week": 3,
                    "tripDistance": 2.6,
                    "vendorID": 1,
                    "totalAmount": 17.75,
                    "day_of_month": 8,
                    "month_num": 1
                  },
                  {
                    "passengerCount": 1,
                    "day_of_hour": 16,
                    "day_of_week": 1,
                    "tripDistance": 0.7,
                    "vendorID": 1,
                    "totalAmount": 6.3,
                    "day_of_month": 6,
                    "month_num": 1
                  },
                  {
                    "passengerCount": 1,
                    "day_of_hour": 0,
                    "day_of_week": 0,
                    "tripDistance": 0.98,
                    "vendorID": 2,
                    "totalAmount": 8,
                    "day_of_month": 19,
                    "month_num": 1
                  },
                  {
                    "passengerCount": 1,
                    "day_of_hour": 10,
                    "day_of_week": 4,
                    "tripDistance": 4.16,
                    "vendorID": 2,
                    "totalAmount": 16.3,
                    "day_of_month": 2,
                    "month_num": 1
                  },
                  {
                    "passengerCount": 1,
                    "day_of_hour": 17,
                    "day_of_week": 1,
                    "tripDistance": 7.4,
                    "vendorID": 1,
                    "totalAmount": 32.15,
                    "day_of_month": 13,
                    "month_num": 1
                  },
                  {
                    "passengerCount": 1,
                    "day_of_hour": 19,
                    "day_of_week": 4,
                    "tripDistance": 1.74,
                    "vendorID": 2,
                    "totalAmount": 11.3,
                    "day_of_month": 16,
                    "month_num": 1
                  },
                  {
                    "passengerCount": 6,
                    "day_of_hour": 22,
                    "day_of_week": 3,
                    "tripDistance": 1.8,
                    "vendorID": 2,
                    "totalAmount": 9.8,
                    "day_of_month": 8,
                    "month_num": 1
                  },
                  {
                    "passengerCount": 1,
                    "day_of_hour": 23,
                    "day_of_week": 5,
                    "tripDistance": 1.6,
                    "vendorID": 1,
                    "totalAmount": 9.95,
                    "day_of_month": 24,
                    "month_num": 1
                  },
                  {
                    "passengerCount": 1,
                    "day_of_hour": 9,
                    "day_of_week": 6,
                    "tripDistance": 3.9,
                    "vendorID": 1,
                    "totalAmount": 19.8,
                    "day_of_month": 25,
                    "month_num": 1
                  },
                  {
                    "passengerCount": 1,
                    "day_of_hour": 2,
                    "day_of_week": 0,
                    "tripDistance": 3.54,
                    "vendorID": 2,
                    "totalAmount": 13.8,
                    "day_of_month": 26,
                    "month_num": 1
                  },
                  {
                    "passengerCount": 1,
                    "day_of_hour": 22,
                    "day_of_week": 4,
                    "tripDistance": 0.82,
                    "vendorID": 2,
                    "totalAmount": 6.8,
                    "day_of_month": 23,
                    "month_num": 1
                  },
                  {
                    "passengerCount": 1,
                    "day_of_hour": 10,
                    "day_of_week": 4,
                    "tripDistance": 10.9,
                    "vendorID": 1,
                    "totalAmount": 51.3,
                    "day_of_month": 16,
                    "month_num": 1
                  },
                  {
                    "passengerCount": 1,
                    "day_of_hour": 5,
                    "day_of_week": 3,
                    "tripDistance": 2.09,
                    "vendorID": 2,
                    "totalAmount": 10.3,
                    "day_of_month": 22,
                    "month_num": 1
                  },
                  {
                    "passengerCount": 1,
                    "day_of_hour": 21,
                    "day_of_week": 4,
                    "tripDistance": 8.21,
                    "vendorID": 2,
                    "totalAmount": 27.8,
                    "day_of_month": 23,
                    "month_num": 1
                  },
                  {
                    "passengerCount": 1,
                    "day_of_hour": 16,
                    "day_of_week": 5,
                    "tripDistance": 2.1,
                    "vendorID": 1,
                    "totalAmount": 12.8,
                    "day_of_month": 10,
                    "month_num": 1
                  },
                  {
                    "passengerCount": 1,
                    "day_of_hour": 22,
                    "day_of_week": 5,
                    "tripDistance": 3.3,
                    "vendorID": 1,
                    "totalAmount": 20.15,
                    "day_of_month": 17,
                    "month_num": 1
                  },
                  {
                    "passengerCount": 5,
                    "day_of_hour": 10,
                    "day_of_week": 3,
                    "tripDistance": 1.19,
                    "vendorID": 2,
                    "totalAmount": 12.5,
                    "day_of_month": 29,
                    "month_num": 1
                  },
                  {
                    "passengerCount": 2,
                    "day_of_hour": 22,
                    "day_of_week": 0,
                    "tripDistance": 0.71,
                    "vendorID": 2,
                    "totalAmount": 6.8,
                    "day_of_month": 19,
                    "month_num": 1
                  },
                  {
                    "passengerCount": 1,
                    "day_of_hour": 11,
                    "day_of_week": 2,
                    "tripDistance": 3.18,
                    "vendorID": 2,
                    "totalAmount": 13.8,
                    "day_of_month": 21,
                    "month_num": 1
                  },
                  {
                    "passengerCount": 1,
                    "day_of_hour": 11,
                    "day_of_week": 6,
                    "tripDistance": 3,
                    "vendorID": 1,
                    "totalAmount": 14.3,
                    "day_of_month": 25,
                    "month_num": 1
                  },
                  {
                    "passengerCount": 1,
                    "day_of_hour": 23,
                    "day_of_week": 0,
                    "tripDistance": 4.4,
                    "vendorID": 1,
                    "totalAmount": 23.3,
                    "day_of_month": 12,
                    "month_num": 1
                  },
                  {
                    "passengerCount": 1,
                    "day_of_hour": 16,
                    "day_of_week": 6,
                    "tripDistance": 2.75,
                    "vendorID": 2,
                    "totalAmount": 14.3,
                    "day_of_month": 4,
                    "month_num": 1
                  },
                  {
                    "passengerCount": 1,
                    "day_of_hour": 11,
                    "day_of_week": 6,
                    "tripDistance": 1,
                    "vendorID": 2,
                    "totalAmount": 6.3,
                    "day_of_month": 11,
                    "month_num": 1
                  },
                  {
                    "passengerCount": 1,
                    "day_of_hour": 11,
                    "day_of_week": 5,
                    "tripDistance": 1.67,
                    "vendorID": 2,
                    "totalAmount": 9.8,
                    "day_of_month": 10,
                    "month_num": 1
                  },
                  {
                    "passengerCount": 1,
                    "day_of_hour": 16,
                    "day_of_week": 1,
                    "tripDistance": 1,
                    "vendorID": 1,
                    "totalAmount": 8.3,
                    "day_of_month": 13,
                    "month_num": 1
                  },
                  {
                    "passengerCount": 1,
                    "day_of_hour": 20,
                    "day_of_week": 1,
                    "tripDistance": 3.04,
                    "vendorID": 2,
                    "totalAmount": 12.8,
                    "day_of_month": 20,
                    "month_num": 1
                  },
                  {
                    "passengerCount": 1,
                    "day_of_hour": 20,
                    "day_of_week": 1,
                    "tripDistance": 4.41,
                    "vendorID": 2,
                    "totalAmount": 18.3,
                    "day_of_month": 13,
                    "month_num": 1
                  },
                  {
                    "passengerCount": 1,
                    "day_of_hour": 21,
                    "day_of_week": 3,
                    "tripDistance": 2.31,
                    "vendorID": 2,
                    "totalAmount": 12.3,
                    "day_of_month": 29,
                    "month_num": 1
                  },
                  {
                    "passengerCount": 1,
                    "day_of_hour": 9,
                    "day_of_week": 3,
                    "tripDistance": 1.27,
                    "vendorID": 2,
                    "totalAmount": 8.8,
                    "day_of_month": 15,
                    "month_num": 1
                  },
                  {
                    "passengerCount": 1,
                    "day_of_hour": 4,
                    "day_of_week": 5,
                    "tripDistance": 3.57,
                    "vendorID": 2,
                    "totalAmount": 13.8,
                    "day_of_month": 17,
                    "month_num": 1
                  },
                  {
                    "passengerCount": 1,
                    "day_of_hour": 13,
                    "day_of_week": 0,
                    "tripDistance": 0.55,
                    "vendorID": 2,
                    "totalAmount": 5.3,
                    "day_of_month": 12,
                    "month_num": 1
                  },
                  {
                    "passengerCount": 1,
                    "day_of_hour": 23,
                    "day_of_week": 5,
                    "tripDistance": 0.79,
                    "vendorID": 2,
                    "totalAmount": 7.68,
                    "day_of_month": 3,
                    "month_num": 1
                  },
                  {
                    "passengerCount": 1,
                    "day_of_hour": 13,
                    "day_of_week": 2,
                    "tripDistance": 6.9,
                    "vendorID": 1,
                    "totalAmount": 32.63,
                    "day_of_month": 21,
                    "month_num": 1
                  },
                  {
                    "passengerCount": 1,
                    "day_of_hour": 8,
                    "day_of_week": 3,
                    "tripDistance": 1.69,
                    "vendorID": 2,
                    "totalAmount": 8.8,
                    "day_of_month": 15,
                    "month_num": 1
                  },
                  {
                    "passengerCount": 1,
                    "day_of_hour": 19,
                    "day_of_week": 3,
                    "tripDistance": 0.89,
                    "vendorID": 2,
                    "totalAmount": 6.8,
                    "day_of_month": 8,
                    "month_num": 1
                  },
                  {
                    "passengerCount": 1,
                    "day_of_hour": 10,
                    "day_of_week": 6,
                    "tripDistance": 2.28,
                    "vendorID": 2,
                    "totalAmount": 11.3,
                    "day_of_month": 11,
                    "month_num": 1
                  },
                  {
                    "passengerCount": 1,
                    "day_of_hour": 14,
                    "day_of_week": 4,
                    "tripDistance": 1.8,
                    "vendorID": 1,
                    "totalAmount": 14.5,
                    "day_of_month": 16,
                    "month_num": 1
                  },
                  {
                    "passengerCount": 1,
                    "day_of_hour": 13,
                    "day_of_week": 5,
                    "tripDistance": 0.88,
                    "vendorID": 2,
                    "totalAmount": 7.55,
                    "day_of_month": 17,
                    "month_num": 1
                  },
                  {
                    "passengerCount": 1,
                    "day_of_hour": 5,
                    "day_of_week": 6,
                    "tripDistance": 0.4,
                    "vendorID": 1,
                    "totalAmount": 5.3,
                    "day_of_month": 18,
                    "month_num": 1
                  },
                  {
                    "passengerCount": 1,
                    "day_of_hour": 11,
                    "day_of_week": 1,
                    "tripDistance": 1.21,
                    "vendorID": 2,
                    "totalAmount": 11.6,
                    "day_of_month": 20,
                    "month_num": 1
                  },
                  {
                    "passengerCount": 2,
                    "day_of_hour": 8,
                    "day_of_week": 5,
                    "tripDistance": 6.78,
                    "vendorID": 2,
                    "totalAmount": 23.8,
                    "day_of_month": 24,
                    "month_num": 1
                  },
                  {
                    "passengerCount": 1,
                    "day_of_hour": 22,
                    "day_of_week": 3,
                    "tripDistance": 4.4,
                    "vendorID": 1,
                    "totalAmount": 16.8,
                    "day_of_month": 22,
                    "month_num": 1
                  },
                  {
                    "passengerCount": 1,
                    "day_of_hour": 20,
                    "day_of_week": 1,
                    "tripDistance": 1.6,
                    "vendorID": 1,
                    "totalAmount": 9.95,
                    "day_of_month": 20,
                    "month_num": 1
                  },
                  {
                    "passengerCount": 1,
                    "day_of_hour": 10,
                    "day_of_week": 4,
                    "tripDistance": 1.16,
                    "vendorID": 2,
                    "totalAmount": 8.3,
                    "day_of_month": 23,
                    "month_num": 1
                  },
                  {
                    "passengerCount": 1,
                    "day_of_hour": 7,
                    "day_of_week": 3,
                    "tripDistance": 4.16,
                    "vendorID": 2,
                    "totalAmount": 21,
                    "day_of_month": 8,
                    "month_num": 1
                  },
                  {
                    "passengerCount": 1,
                    "day_of_hour": 7,
                    "day_of_week": 1,
                    "tripDistance": 0.92,
                    "vendorID": 2,
                    "totalAmount": 6.8,
                    "day_of_month": 13,
                    "month_num": 1
                  },
                  {
                    "passengerCount": 1,
                    "day_of_hour": 19,
                    "day_of_week": 3,
                    "tripDistance": 3.18,
                    "vendorID": 2,
                    "totalAmount": 16.4,
                    "day_of_month": 1,
                    "month_num": 1
                  },
                  {
                    "passengerCount": 1,
                    "day_of_hour": 21,
                    "day_of_week": 3,
                    "tripDistance": 1.8,
                    "vendorID": 1,
                    "totalAmount": 9.8,
                    "day_of_month": 22,
                    "month_num": 1
                  },
                  {
                    "passengerCount": 5,
                    "day_of_hour": 0,
                    "day_of_week": 0,
                    "tripDistance": 1.82,
                    "vendorID": 2,
                    "totalAmount": 10.3,
                    "day_of_month": 19,
                    "month_num": 1
                  },
                  {
                    "passengerCount": 1,
                    "day_of_hour": 17,
                    "day_of_week": 5,
                    "tripDistance": 1.41,
                    "vendorID": 2,
                    "totalAmount": 8.3,
                    "day_of_month": 17,
                    "month_num": 1
                  },
                  {
                    "passengerCount": 1,
                    "day_of_hour": 22,
                    "day_of_week": 1,
                    "tripDistance": 12.55,
                    "vendorID": 2,
                    "totalAmount": 49.63,
                    "day_of_month": 13,
                    "month_num": 1
                  },
                  {
                    "passengerCount": 1,
                    "day_of_hour": 9,
                    "day_of_week": 2,
                    "tripDistance": 0.58,
                    "vendorID": 2,
                    "totalAmount": 4.8,
                    "day_of_month": 21,
                    "month_num": 1
                  },
                  {
                    "passengerCount": 1,
                    "day_of_hour": 18,
                    "day_of_week": 3,
                    "tripDistance": 3.75,
                    "vendorID": 2,
                    "totalAmount": 20.8,
                    "day_of_month": 8,
                    "month_num": 1
                  },
                  {
                    "passengerCount": 1,
                    "day_of_hour": 22,
                    "day_of_week": 4,
                    "tripDistance": 9.7,
                    "vendorID": 1,
                    "totalAmount": 44.1,
                    "day_of_month": 9,
                    "month_num": 1
                  },
                  {
                    "passengerCount": 1,
                    "day_of_hour": 22,
                    "day_of_week": 5,
                    "tripDistance": 2.37,
                    "vendorID": 2,
                    "totalAmount": 11.3,
                    "day_of_month": 17,
                    "month_num": 1
                  },
                  {
                    "passengerCount": 1,
                    "day_of_hour": 23,
                    "day_of_week": 6,
                    "tripDistance": 0.49,
                    "vendorID": 2,
                    "totalAmount": 6.8,
                    "day_of_month": 4,
                    "month_num": 1
                  },
                  {
                    "passengerCount": 1,
                    "day_of_hour": 17,
                    "day_of_week": 1,
                    "tripDistance": 4.32,
                    "vendorID": 2,
                    "totalAmount": 25.8,
                    "day_of_month": 6,
                    "month_num": 1
                  },
                  {
                    "passengerCount": 1,
                    "day_of_hour": 20,
                    "day_of_week": 1,
                    "tripDistance": 4.78,
                    "vendorID": 2,
                    "totalAmount": 18.3,
                    "day_of_month": 27,
                    "month_num": 1
                  },
                  {
                    "passengerCount": 1,
                    "day_of_hour": 19,
                    "day_of_week": 0,
                    "tripDistance": 3.98,
                    "vendorID": 2,
                    "totalAmount": 17.3,
                    "day_of_month": 12,
                    "month_num": 1
                  },
                  {
                    "passengerCount": 1,
                    "day_of_hour": 23,
                    "day_of_week": 4,
                    "tripDistance": 4.6,
                    "vendorID": 1,
                    "totalAmount": 25.35,
                    "day_of_month": 30,
                    "month_num": 1
                  },
                  {
                    "passengerCount": 1,
                    "day_of_hour": 2,
                    "day_of_week": 5,
                    "tripDistance": 2.91,
                    "vendorID": 2,
                    "totalAmount": 12.8,
                    "day_of_month": 10,
                    "month_num": 1
                  },
                  {
                    "passengerCount": 1,
                    "day_of_hour": 20,
                    "day_of_week": 5,
                    "tripDistance": 11.49,
                    "vendorID": 2,
                    "totalAmount": 44.8,
                    "day_of_month": 3,
                    "month_num": 1
                  },
                  {
                    "passengerCount": 1,
                    "day_of_hour": 22,
                    "day_of_week": 3,
                    "tripDistance": 2.45,
                    "vendorID": 2,
                    "totalAmount": 16,
                    "day_of_month": 22,
                    "month_num": 1
                  },
                  {
                    "passengerCount": 1,
                    "day_of_hour": 16,
                    "day_of_week": 5,
                    "tripDistance": 0.7,
                    "vendorID": 1,
                    "totalAmount": 5.8,
                    "day_of_month": 3,
                    "month_num": 1
                  },
                  {
                    "passengerCount": 1,
                    "day_of_hour": 0,
                    "day_of_week": 3,
                    "tripDistance": 5.18,
                    "vendorID": 2,
                    "totalAmount": 21.8,
                    "day_of_month": 1,
                    "month_num": 1
                  },
                  {
                    "passengerCount": 1,
                    "day_of_hour": 18,
                    "day_of_week": 3,
                    "tripDistance": 2.09,
                    "vendorID": 2,
                    "totalAmount": 12.8,
                    "day_of_month": 15,
                    "month_num": 1
                  },
                  {
                    "passengerCount": 1,
                    "day_of_hour": 18,
                    "day_of_week": 5,
                    "tripDistance": 1.19,
                    "vendorID": 2,
                    "totalAmount": 7.3,
                    "day_of_month": 3,
                    "month_num": 1
                  },
                  {
                    "passengerCount": 1,
                    "day_of_hour": 20,
                    "day_of_week": 5,
                    "tripDistance": 2.7,
                    "vendorID": 2,
                    "totalAmount": 12.3,
                    "day_of_month": 3,
                    "month_num": 1
                  },
                  {
                    "passengerCount": 1,
                    "day_of_hour": 16,
                    "day_of_week": 1,
                    "tripDistance": 4.1,
                    "vendorID": 2,
                    "totalAmount": 15.3,
                    "day_of_month": 6,
                    "month_num": 1
                  },
                  {
                    "passengerCount": 1,
                    "day_of_hour": 12,
                    "day_of_week": 0,
                    "tripDistance": 5.67,
                    "vendorID": 2,
                    "totalAmount": 24.8,
                    "day_of_month": 5,
                    "month_num": 1
                  },
                  {
                    "passengerCount": 1,
                    "day_of_hour": 23,
                    "day_of_week": 3,
                    "tripDistance": 0.6,
                    "vendorID": 1,
                    "totalAmount": 5.3,
                    "day_of_month": 22,
                    "month_num": 1
                  },
                  {
                    "passengerCount": 1,
                    "day_of_hour": 12,
                    "day_of_week": 3,
                    "tripDistance": 1.8,
                    "vendorID": 1,
                    "totalAmount": 9.3,
                    "day_of_month": 29,
                    "month_num": 1
                  },
                  {
                    "passengerCount": 1,
                    "day_of_hour": 9,
                    "day_of_week": 1,
                    "tripDistance": 3.4,
                    "vendorID": 1,
                    "totalAmount": 17.8,
                    "day_of_month": 6,
                    "month_num": 1
                  },
                  {
                    "passengerCount": 1,
                    "day_of_hour": 1,
                    "day_of_week": 3,
                    "tripDistance": 0.99,
                    "vendorID": 2,
                    "totalAmount": 6.3,
                    "day_of_month": 22,
                    "month_num": 1
                  },
                  {
                    "passengerCount": 3,
                    "day_of_hour": 20,
                    "day_of_week": 2,
                    "tripDistance": 5.93,
                    "vendorID": 2,
                    "totalAmount": 27.05,
                    "day_of_month": 7,
                    "month_num": 1
                  },
                  {
                    "passengerCount": 1,
                    "day_of_hour": 11,
                    "day_of_week": 2,
                    "tripDistance": 9.3,
                    "vendorID": 2,
                    "totalAmount": 35.6,
                    "day_of_month": 14,
                    "month_num": 1
                  },
                  {
                    "passengerCount": 1,
                    "day_of_hour": 23,
                    "day_of_week": 5,
                    "tripDistance": 0.72,
                    "vendorID": 2,
                    "totalAmount": 7.7,
                    "day_of_month": 17,
                    "month_num": 1
                  },
                  {
                    "passengerCount": 1,
                    "day_of_hour": 14,
                    "day_of_week": 2,
                    "tripDistance": 3.3,
                    "vendorID": 1,
                    "totalAmount": 16.3,
                    "day_of_month": 14,
                    "month_num": 1
                  },
                  {
                    "passengerCount": 2,
                    "day_of_hour": 14,
                    "day_of_week": 4,
                    "tripDistance": 5,
                    "vendorID": 1,
                    "totalAmount": 41.8,
                    "day_of_month": 16,
                    "month_num": 1
                  },
                  {
                    "passengerCount": 1,
                    "day_of_hour": 15,
                    "day_of_week": 1,
                    "tripDistance": 1.54,
                    "vendorID": 2,
                    "totalAmount": 8.3,
                    "day_of_month": 6,
                    "month_num": 1
                  },
                  {
                    "passengerCount": 1,
                    "day_of_hour": 20,
                    "day_of_week": 3,
                    "tripDistance": 2.64,
                    "vendorID": 2,
                    "totalAmount": 10.8,
                    "day_of_month": 29,
                    "month_num": 1
                  },
                  {
                    "passengerCount": 1,
                    "day_of_hour": 13,
                    "day_of_week": 5,
                    "tripDistance": 2.2,
                    "vendorID": 1,
                    "totalAmount": 11.3,
                    "day_of_month": 17,
                    "month_num": 1
                  },
                  {
                    "passengerCount": 1,
                    "day_of_hour": 22,
                    "day_of_week": 0,
                    "tripDistance": 0.8,
                    "vendorID": 1,
                    "totalAmount": 8.3,
                    "day_of_month": 12,
                    "month_num": 1
                  },
                  {
                    "passengerCount": 1,
                    "day_of_hour": 17,
                    "day_of_week": 0,
                    "tripDistance": 0.97,
                    "vendorID": 2,
                    "totalAmount": 7.3,
                    "day_of_month": 5,
                    "month_num": 1
                  },
                  {
                    "passengerCount": 1,
                    "day_of_hour": 11,
                    "day_of_week": 5,
                    "tripDistance": 1.32,
                    "vendorID": 2,
                    "totalAmount": 7.8,
                    "day_of_month": 3,
                    "month_num": 1
                  },
                  {
                    "passengerCount": 1,
                    "day_of_hour": 11,
                    "day_of_week": 6,
                    "tripDistance": 0.36,
                    "vendorID": 2,
                    "totalAmount": 4.3,
                    "day_of_month": 25,
                    "month_num": 1
                  },
                  {
                    "passengerCount": 1,
                    "day_of_hour": 16,
                    "day_of_week": 2,
                    "tripDistance": 1.7,
                    "vendorID": 1,
                    "totalAmount": 14.1,
                    "day_of_month": 28,
                    "month_num": 1
                  },
                  {
                    "passengerCount": 1,
                    "day_of_hour": 4,
                    "day_of_week": 5,
                    "tripDistance": 0.87,
                    "vendorID": 2,
                    "totalAmount": 6.3,
                    "day_of_month": 3,
                    "month_num": 1
                  },
                  {
                    "passengerCount": 1,
                    "day_of_hour": 20,
                    "day_of_week": 1,
                    "tripDistance": 1.83,
                    "vendorID": 2,
                    "totalAmount": 12.2,
                    "day_of_month": 13,
                    "month_num": 1
                  },
                  {
                    "passengerCount": 1,
                    "day_of_hour": 11,
                    "day_of_week": 4,
                    "tripDistance": 1.05,
                    "vendorID": 2,
                    "totalAmount": 6.8,
                    "day_of_month": 16,
                    "month_num": 1
                  },
                  {
                    "passengerCount": 2,
                    "day_of_hour": 22,
                    "day_of_week": 3,
                    "tripDistance": 10,
                    "vendorID": 1,
                    "totalAmount": 44.3,
                    "day_of_month": 15,
                    "month_num": 1
                  },
                  {
                    "passengerCount": 1,
                    "day_of_hour": 7,
                    "day_of_week": 0,
                    "tripDistance": 1.09,
                    "vendorID": 2,
                    "totalAmount": 6.8,
                    "day_of_month": 5,
                    "month_num": 1
                  },
                  {
                    "passengerCount": 1,
                    "day_of_hour": 14,
                    "day_of_week": 0,
                    "tripDistance": 4.3,
                    "vendorID": 1,
                    "totalAmount": 29.75,
                    "day_of_month": 12,
                    "month_num": 1
                  },
                  {
                    "passengerCount": 1,
                    "day_of_hour": 7,
                    "day_of_week": 2,
                    "tripDistance": 0.87,
                    "vendorID": 2,
                    "totalAmount": 7.4,
                    "day_of_month": 21,
                    "month_num": 1
                  },
                  {
                    "passengerCount": 1,
                    "day_of_hour": 3,
                    "day_of_week": 6,
                    "tripDistance": 4.08,
                    "vendorID": 2,
                    "totalAmount": 17.3,
                    "day_of_month": 4,
                    "month_num": 1
                  },
                  {
                    "passengerCount": 1,
                    "day_of_hour": 18,
                    "day_of_week": 2,
                    "tripDistance": 0.53,
                    "vendorID": 2,
                    "totalAmount": 6.8,
                    "day_of_month": 28,
                    "month_num": 1
                  },
                  {
                    "passengerCount": 6,
                    "day_of_hour": 17,
                    "day_of_week": 2,
                    "tripDistance": 1.25,
                    "vendorID": 2,
                    "totalAmount": 9.8,
                    "day_of_month": 7,
                    "month_num": 1
                  },
                  {
                    "passengerCount": 1,
                    "day_of_hour": 11,
                    "day_of_week": 1,
                    "tripDistance": 7.66,
                    "vendorID": 2,
                    "totalAmount": 34.2,
                    "day_of_month": 6,
                    "month_num": 1
                  },
                  {
                    "passengerCount": 1,
                    "day_of_hour": 18,
                    "day_of_week": 1,
                    "tripDistance": 1.9,
                    "vendorID": 1,
                    "totalAmount": 11.15,
                    "day_of_month": 27,
                    "month_num": 1
                  },
                  {
                    "passengerCount": 1,
                    "day_of_hour": 2,
                    "day_of_week": 2,
                    "tripDistance": 1.2,
                    "vendorID": 2,
                    "totalAmount": 7,
                    "day_of_month": 14,
                    "month_num": 1
                  },
                  {
                    "passengerCount": 1,
                    "day_of_hour": 22,
                    "day_of_week": 5,
                    "tripDistance": 0.6,
                    "vendorID": 2,
                    "totalAmount": 5.8,
                    "day_of_month": 10,
                    "month_num": 1
                  },
                  {
                    "passengerCount": 1,
                    "day_of_hour": 9,
                    "day_of_week": 4,
                    "tripDistance": 4.7,
                    "vendorID": 2,
                    "totalAmount": 26.63,
                    "day_of_month": 30,
                    "month_num": 1
                  },
                  {
                    "passengerCount": 1,
                    "day_of_hour": 21,
                    "day_of_week": 5,
                    "tripDistance": 2.01,
                    "vendorID": 2,
                    "totalAmount": 9.8,
                    "day_of_month": 3,
                    "month_num": 1
                  },
                  {
                    "passengerCount": 1,
                    "day_of_hour": 16,
                    "day_of_week": 0,
                    "tripDistance": 0.9,
                    "vendorID": 1,
                    "totalAmount": 7.3,
                    "day_of_month": 5,
                    "month_num": 1
                  },
                  {
                    "passengerCount": 2,
                    "day_of_hour": 19,
                    "day_of_week": 1,
                    "tripDistance": 0.82,
                    "vendorID": 2,
                    "totalAmount": 7.3,
                    "day_of_month": 13,
                    "month_num": 1
                  },
                  {
                    "passengerCount": 5,
                    "day_of_hour": 21,
                    "day_of_week": 5,
                    "tripDistance": 0.77,
                    "vendorID": 2,
                    "totalAmount": 6.3,
                    "day_of_month": 3,
                    "month_num": 1
                  },
                  {
                    "passengerCount": 1,
                    "day_of_hour": 9,
                    "day_of_week": 4,
                    "tripDistance": 9.12,
                    "vendorID": 2,
                    "totalAmount": 32.3,
                    "day_of_month": 16,
                    "month_num": 1
                  },
                  {
                    "passengerCount": 2,
                    "day_of_hour": 20,
                    "day_of_week": 4,
                    "tripDistance": 0.98,
                    "vendorID": 2,
                    "totalAmount": 6.8,
                    "day_of_month": 16,
                    "month_num": 1
                  },
                  {
                    "passengerCount": 2,
                    "day_of_hour": 10,
                    "day_of_week": 0,
                    "tripDistance": 1.42,
                    "vendorID": 2,
                    "totalAmount": 9.3,
                    "day_of_month": 26,
                    "month_num": 1
                  },
                  {
                    "passengerCount": 1,
                    "day_of_hour": 2,
                    "day_of_week": 6,
                    "tripDistance": 0.74,
                    "vendorID": 2,
                    "totalAmount": 5.8,
                    "day_of_month": 11,
                    "month_num": 1
                  },
                  {
                    "passengerCount": 1,
                    "day_of_hour": 11,
                    "day_of_week": 0,
                    "tripDistance": 2.39,
                    "vendorID": 2,
                    "totalAmount": 14.76,
                    "day_of_month": 26,
                    "month_num": 1
                  },
                  {
                    "passengerCount": 1,
                    "day_of_hour": 18,
                    "day_of_week": 0,
                    "tripDistance": 0.59,
                    "vendorID": 2,
                    "totalAmount": 7.3,
                    "day_of_month": 12,
                    "month_num": 1
                  },
                  {
                    "passengerCount": 1,
                    "day_of_hour": 23,
                    "day_of_week": 1,
                    "tripDistance": 1.7,
                    "vendorID": 1,
                    "totalAmount": 11.15,
                    "day_of_month": 6,
                    "month_num": 1
                  },
                  {
                    "passengerCount": 1,
                    "day_of_hour": 13,
                    "day_of_week": 4,
                    "tripDistance": 0.86,
                    "vendorID": 2,
                    "totalAmount": 8.76,
                    "day_of_month": 30,
                    "month_num": 1
                  },
                  {
                    "passengerCount": 1,
                    "day_of_hour": 21,
                    "day_of_week": 5,
                    "tripDistance": 0.59,
                    "vendorID": 2,
                    "totalAmount": 5.3,
                    "day_of_month": 10,
                    "month_num": 1
                  },
                  {
                    "passengerCount": 1,
                    "day_of_hour": 11,
                    "day_of_week": 5,
                    "tripDistance": 1.01,
                    "vendorID": 2,
                    "totalAmount": 6.3,
                    "day_of_month": 24,
                    "month_num": 1
                  },
                  {
                    "passengerCount": 1,
                    "day_of_hour": 23,
                    "day_of_week": 1,
                    "tripDistance": 0.64,
                    "vendorID": 2,
                    "totalAmount": 5.3,
                    "day_of_month": 6,
                    "month_num": 1
                  },
                  {
                    "passengerCount": 1,
                    "day_of_hour": 16,
                    "day_of_week": 3,
                    "tripDistance": 1.78,
                    "vendorID": 2,
                    "totalAmount": 13.8,
                    "day_of_month": 22,
                    "month_num": 1
                  },
                  {
                    "passengerCount": 1,
                    "day_of_hour": 19,
                    "day_of_week": 4,
                    "tripDistance": 3.77,
                    "vendorID": 2,
                    "totalAmount": 21.3,
                    "day_of_month": 9,
                    "month_num": 1
                  },
                  {
                    "passengerCount": 5,
                    "day_of_hour": 18,
                    "day_of_week": 0,
                    "tripDistance": 0.84,
                    "vendorID": 2,
                    "totalAmount": 8.8,
                    "day_of_month": 26,
                    "month_num": 1
                  },
                  {
                    "passengerCount": 2,
                    "day_of_hour": 11,
                    "day_of_week": 6,
                    "tripDistance": 1.5,
                    "vendorID": 1,
                    "totalAmount": 7.8,
                    "day_of_month": 18,
                    "month_num": 1
                  },
                  {
                    "passengerCount": 1,
                    "day_of_hour": 0,
                    "day_of_week": 3,
                    "tripDistance": 6.82,
                    "vendorID": 2,
                    "totalAmount": 24.3,
                    "day_of_month": 22,
                    "month_num": 1
                  },
                  {
                    "passengerCount": 1,
                    "day_of_hour": 20,
                    "day_of_week": 5,
                    "tripDistance": 0.8,
                    "vendorID": 1,
                    "totalAmount": 6.8,
                    "day_of_month": 10,
                    "month_num": 1
                  },
                  {
                    "passengerCount": 1,
                    "day_of_hour": 18,
                    "day_of_week": 3,
                    "tripDistance": 0.95,
                    "vendorID": 2,
                    "totalAmount": 7.3,
                    "day_of_month": 29,
                    "month_num": 1
                  },
                  {
                    "passengerCount": 1,
                    "day_of_hour": 10,
                    "day_of_week": 4,
                    "tripDistance": 0.82,
                    "vendorID": 2,
                    "totalAmount": 6.8,
                    "day_of_month": 23,
                    "month_num": 1
                  },
                  {
                    "passengerCount": 1,
                    "day_of_hour": 17,
                    "day_of_week": 2,
                    "tripDistance": 15.96,
                    "vendorID": 2,
                    "totalAmount": 53.3,
                    "day_of_month": 28,
                    "month_num": 1
                  },
                  {
                    "passengerCount": 1,
                    "day_of_hour": 5,
                    "day_of_week": 5,
                    "tripDistance": 0.7,
                    "vendorID": 1,
                    "totalAmount": 6.3,
                    "day_of_month": 3,
                    "month_num": 1
                  },
                  {
                    "passengerCount": 1,
                    "day_of_hour": 9,
                    "day_of_week": 6,
                    "tripDistance": 1.97,
                    "vendorID": 2,
                    "totalAmount": 11.42,
                    "day_of_month": 11,
                    "month_num": 1
                  },
                  {
                    "passengerCount": 1,
                    "day_of_hour": 15,
                    "day_of_week": 0,
                    "tripDistance": 1.2,
                    "vendorID": 1,
                    "totalAmount": 9.95,
                    "day_of_month": 12,
                    "month_num": 1
                  },
                  {
                    "passengerCount": 1,
                    "day_of_hour": 1,
                    "day_of_week": 4,
                    "tripDistance": 1.6,
                    "vendorID": 1,
                    "totalAmount": 9.95,
                    "day_of_month": 2,
                    "month_num": 1
                  },
                  {
                    "passengerCount": 1,
                    "day_of_hour": 17,
                    "day_of_week": 5,
                    "tripDistance": 3.6,
                    "vendorID": 1,
                    "totalAmount": 13.3,
                    "day_of_month": 24,
                    "month_num": 1
                  },
                  {
                    "passengerCount": 1,
                    "day_of_hour": 8,
                    "day_of_week": 3,
                    "tripDistance": 0.26,
                    "vendorID": 2,
                    "totalAmount": 4.8,
                    "day_of_month": 8,
                    "month_num": 1
                  },
                  {
                    "passengerCount": 1,
                    "day_of_hour": 0,
                    "day_of_week": 2,
                    "tripDistance": 4.77,
                    "vendorID": 2,
                    "totalAmount": 24.8,
                    "day_of_month": 14,
                    "month_num": 1
                  },
                  {
                    "passengerCount": 1,
                    "day_of_hour": 8,
                    "day_of_week": 6,
                    "tripDistance": 3.1,
                    "vendorID": 1,
                    "totalAmount": 14.15,
                    "day_of_month": 18,
                    "month_num": 1
                  },
                  {
                    "passengerCount": 1,
                    "day_of_hour": 10,
                    "day_of_week": 4,
                    "tripDistance": 2.84,
                    "vendorID": 2,
                    "totalAmount": 13.3,
                    "day_of_month": 2,
                    "month_num": 1
                  },
                  {
                    "passengerCount": 1,
                    "day_of_hour": 22,
                    "day_of_week": 5,
                    "tripDistance": 9.45,
                    "vendorID": 2,
                    "totalAmount": 30.8,
                    "day_of_month": 17,
                    "month_num": 1
                  },
                  {
                    "passengerCount": 6,
                    "day_of_hour": 18,
                    "day_of_week": 5,
                    "tripDistance": 0.66,
                    "vendorID": 2,
                    "totalAmount": 7.05,
                    "day_of_month": 10,
                    "month_num": 1
                  },
                  {
                    "passengerCount": 1,
                    "day_of_hour": 1,
                    "day_of_week": 3,
                    "tripDistance": 4.2,
                    "vendorID": 2,
                    "totalAmount": 21.8,
                    "day_of_month": 1,
                    "month_num": 1
                  },
                  {
                    "passengerCount": 1,
                    "day_of_hour": 1,
                    "day_of_week": 3,
                    "tripDistance": 2.66,
                    "vendorID": 2,
                    "totalAmount": 13.56,
                    "day_of_month": 22,
                    "month_num": 1
                  },
                  {
                    "passengerCount": 1,
                    "day_of_hour": 21,
                    "day_of_week": 6,
                    "tripDistance": 2,
                    "vendorID": 1,
                    "totalAmount": 9.3,
                    "day_of_month": 25,
                    "month_num": 1
                  },
                  {
                    "passengerCount": 1,
                    "day_of_hour": 13,
                    "day_of_week": 6,
                    "tripDistance": 4.58,
                    "vendorID": 2,
                    "totalAmount": 22.05,
                    "day_of_month": 18,
                    "month_num": 1
                  },
                  {
                    "passengerCount": 1,
                    "day_of_hour": 21,
                    "day_of_week": 5,
                    "tripDistance": 2.65,
                    "vendorID": 2,
                    "totalAmount": 11.8,
                    "day_of_month": 10,
                    "month_num": 1
                  },
                  {
                    "passengerCount": 1,
                    "day_of_hour": 8,
                    "day_of_week": 3,
                    "tripDistance": 1.04,
                    "vendorID": 2,
                    "totalAmount": 7.8,
                    "day_of_month": 15,
                    "month_num": 1
                  },
                  {
                    "passengerCount": 1,
                    "day_of_hour": 19,
                    "day_of_week": 1,
                    "tripDistance": 1.63,
                    "vendorID": 2,
                    "totalAmount": 9.3,
                    "day_of_month": 27,
                    "month_num": 1
                  },
                  {
                    "passengerCount": 1,
                    "day_of_hour": 0,
                    "day_of_week": 4,
                    "tripDistance": 2.38,
                    "vendorID": 2,
                    "totalAmount": 11.8,
                    "day_of_month": 9,
                    "month_num": 1
                  },
                  {
                    "passengerCount": 5,
                    "day_of_hour": 4,
                    "day_of_week": 6,
                    "tripDistance": 1.38,
                    "vendorID": 2,
                    "totalAmount": 9.3,
                    "day_of_month": 4,
                    "month_num": 1
                  },
                  {
                    "passengerCount": 1,
                    "day_of_hour": 2,
                    "day_of_week": 3,
                    "tripDistance": 1.48,
                    "vendorID": 2,
                    "totalAmount": 10.8,
                    "day_of_month": 1,
                    "month_num": 1
                  },
                  {
                    "passengerCount": 1,
                    "day_of_hour": 12,
                    "day_of_week": 5,
                    "tripDistance": 0.57,
                    "vendorID": 2,
                    "totalAmount": 4.8,
                    "day_of_month": 10,
                    "month_num": 1
                  },
                  {
                    "passengerCount": 1,
                    "day_of_hour": 23,
                    "day_of_week": 0,
                    "tripDistance": 0.76,
                    "vendorID": 2,
                    "totalAmount": 6.8,
                    "day_of_month": 19,
                    "month_num": 1
                  },
                  {
                    "passengerCount": 1,
                    "day_of_hour": 19,
                    "day_of_week": 2,
                    "tripDistance": 0.48,
                    "vendorID": 2,
                    "totalAmount": 5.8,
                    "day_of_month": 7,
                    "month_num": 1
                  },
                  {
                    "passengerCount": 1,
                    "day_of_hour": 7,
                    "day_of_week": 4,
                    "tripDistance": 1.14,
                    "vendorID": 2,
                    "totalAmount": 8.3,
                    "day_of_month": 16,
                    "month_num": 1
                  },
                  {
                    "passengerCount": 1,
                    "day_of_hour": 23,
                    "day_of_week": 4,
                    "tripDistance": 1.15,
                    "vendorID": 2,
                    "totalAmount": 6.8,
                    "day_of_month": 16,
                    "month_num": 1
                  },
                  {
                    "passengerCount": 2,
                    "day_of_hour": 19,
                    "day_of_week": 5,
                    "tripDistance": 1.9,
                    "vendorID": 2,
                    "totalAmount": 12.2,
                    "day_of_month": 10,
                    "month_num": 1
                  },
                  {
                    "passengerCount": 1,
                    "day_of_hour": 20,
                    "day_of_week": 4,
                    "tripDistance": 2.02,
                    "vendorID": 2,
                    "totalAmount": 9.3,
                    "day_of_month": 16,
                    "month_num": 1
                  },
                  {
                    "passengerCount": 1,
                    "day_of_hour": 17,
                    "day_of_week": 1,
                    "tripDistance": 1.34,
                    "vendorID": 2,
                    "totalAmount": 8.8,
                    "day_of_month": 13,
                    "month_num": 1
                  },
                  {
                    "passengerCount": 1,
                    "day_of_hour": 23,
                    "day_of_week": 4,
                    "tripDistance": 0.59,
                    "vendorID": 2,
                    "totalAmount": 6.8,
                    "day_of_month": 2,
                    "month_num": 1
                  },
                  {
                    "passengerCount": 1,
                    "day_of_hour": 19,
                    "day_of_week": 2,
                    "tripDistance": 2.34,
                    "vendorID": 2,
                    "totalAmount": 13.56,
                    "day_of_month": 21,
                    "month_num": 1
                  },
                  {
                    "passengerCount": 1,
                    "day_of_hour": 11,
                    "day_of_week": 4,
                    "tripDistance": 0.64,
                    "vendorID": 2,
                    "totalAmount": 8.3,
                    "day_of_month": 16,
                    "month_num": 1
                  },
                  {
                    "passengerCount": 1,
                    "day_of_hour": 14,
                    "day_of_week": 0,
                    "tripDistance": 1.73,
                    "vendorID": 2,
                    "totalAmount": 11.8,
                    "day_of_month": 26,
                    "month_num": 1
                  },
                  {
                    "passengerCount": 1,
                    "day_of_hour": 8,
                    "day_of_week": 4,
                    "tripDistance": 3.71,
                    "vendorID": 2,
                    "totalAmount": 15.3,
                    "day_of_month": 16,
                    "month_num": 1
                  },
                  {
                    "passengerCount": 1,
                    "day_of_hour": 3,
                    "day_of_week": 2,
                    "tripDistance": 5.53,
                    "vendorID": 2,
                    "totalAmount": 25.3,
                    "day_of_month": 21,
                    "month_num": 1
                  },
                  {
                    "passengerCount": 2,
                    "day_of_hour": 19,
                    "day_of_week": 4,
                    "tripDistance": 2.42,
                    "vendorID": 2,
                    "totalAmount": 11.8,
                    "day_of_month": 2,
                    "month_num": 1
                  },
                  {
                    "passengerCount": 1,
                    "day_of_hour": 18,
                    "day_of_week": 4,
                    "tripDistance": 0.84,
                    "vendorID": 2,
                    "totalAmount": 8.8,
                    "day_of_month": 16,
                    "month_num": 1
                  },
                  {
                    "passengerCount": 1,
                    "day_of_hour": 13,
                    "day_of_week": 3,
                    "tripDistance": 0.92,
                    "vendorID": 2,
                    "totalAmount": 6.8,
                    "day_of_month": 22,
                    "month_num": 1
                  },
                  {
                    "passengerCount": 2,
                    "day_of_hour": 23,
                    "day_of_week": 0,
                    "tripDistance": 0.92,
                    "vendorID": 2,
                    "totalAmount": 6.3,
                    "day_of_month": 5,
                    "month_num": 1
                  },
                  {
                    "passengerCount": 1,
                    "day_of_hour": 13,
                    "day_of_week": 3,
                    "tripDistance": 1.4,
                    "vendorID": 1,
                    "totalAmount": 7.8,
                    "day_of_month": 22,
                    "month_num": 1
                  },
                  {
                    "passengerCount": 1,
                    "day_of_hour": 16,
                    "day_of_week": 5,
                    "tripDistance": 15.1,
                    "vendorID": 1,
                    "totalAmount": 35.33,
                    "day_of_month": 3,
                    "month_num": 1
                  },
                  {
                    "passengerCount": 1,
                    "day_of_hour": 15,
                    "day_of_week": 0,
                    "tripDistance": 5.08,
                    "vendorID": 2,
                    "totalAmount": 20.3,
                    "day_of_month": 26,
                    "month_num": 1
                  },
                  {
                    "passengerCount": 1,
                    "day_of_hour": 20,
                    "day_of_week": 5,
                    "tripDistance": 1.22,
                    "vendorID": 2,
                    "totalAmount": 10.3,
                    "day_of_month": 17,
                    "month_num": 1
                  },
                  {
                    "passengerCount": 1,
                    "day_of_hour": 19,
                    "day_of_week": 3,
                    "tripDistance": 0.74,
                    "vendorID": 2,
                    "totalAmount": 6.8,
                    "day_of_month": 15,
                    "month_num": 1
                  },
                  {
                    "passengerCount": 1,
                    "day_of_hour": 12,
                    "day_of_week": 4,
                    "tripDistance": 1.14,
                    "vendorID": 2,
                    "totalAmount": 8.6,
                    "day_of_month": 9,
                    "month_num": 1
                  },
                  {
                    "passengerCount": 1,
                    "day_of_hour": 15,
                    "day_of_week": 0,
                    "tripDistance": 0.9,
                    "vendorID": 1,
                    "totalAmount": 7.55,
                    "day_of_month": 19,
                    "month_num": 1
                  },
                  {
                    "passengerCount": 1,
                    "day_of_hour": 0,
                    "day_of_week": 6,
                    "tripDistance": 0.74,
                    "vendorID": 2,
                    "totalAmount": 6.3,
                    "day_of_month": 25,
                    "month_num": 1
                  },
                  {
                    "passengerCount": 6,
                    "day_of_hour": 16,
                    "day_of_week": 1,
                    "tripDistance": 2.38,
                    "vendorID": 2,
                    "totalAmount": 13.3,
                    "day_of_month": 20,
                    "month_num": 1
                  },
                  {
                    "passengerCount": 1,
                    "day_of_hour": 15,
                    "day_of_week": 1,
                    "tripDistance": 3.5,
                    "vendorID": 1,
                    "totalAmount": 19.55,
                    "day_of_month": 6,
                    "month_num": 1
                  },
                  {
                    "passengerCount": 1,
                    "day_of_hour": 12,
                    "day_of_week": 5,
                    "tripDistance": 3.13,
                    "vendorID": 2,
                    "totalAmount": 14.8,
                    "day_of_month": 24,
                    "month_num": 1
                  },
                  {
                    "passengerCount": 1,
                    "day_of_hour": 12,
                    "day_of_week": 0,
                    "tripDistance": 0.28,
                    "vendorID": 2,
                    "totalAmount": 4.3,
                    "day_of_month": 5,
                    "month_num": 1
                  },
                  {
                    "passengerCount": 1,
                    "day_of_hour": 10,
                    "day_of_week": 2,
                    "tripDistance": 2.34,
                    "vendorID": 2,
                    "totalAmount": 10.8,
                    "day_of_month": 21,
                    "month_num": 1
                  },
                  {
                    "passengerCount": 2,
                    "day_of_hour": 0,
                    "day_of_week": 3,
                    "tripDistance": 5.45,
                    "vendorID": 2,
                    "totalAmount": 17.8,
                    "day_of_month": 15,
                    "month_num": 1
                  },
                  {
                    "passengerCount": 1,
                    "day_of_hour": 18,
                    "day_of_week": 0,
                    "tripDistance": 1.7,
                    "vendorID": 1,
                    "totalAmount": 10.55,
                    "day_of_month": 5,
                    "month_num": 1
                  },
                  {
                    "passengerCount": 1,
                    "day_of_hour": 20,
                    "day_of_week": 0,
                    "tripDistance": 1.01,
                    "vendorID": 2,
                    "totalAmount": 7.3,
                    "day_of_month": 5,
                    "month_num": 1
                  },
                  {
                    "passengerCount": 1,
                    "day_of_hour": 13,
                    "day_of_week": 6,
                    "tripDistance": 0.7,
                    "vendorID": 2,
                    "totalAmount": 5.3,
                    "day_of_month": 18,
                    "month_num": 1
                  },
                  {
                    "passengerCount": 5,
                    "day_of_hour": 4,
                    "day_of_week": 0,
                    "tripDistance": 1.17,
                    "vendorID": 2,
                    "totalAmount": 7.8,
                    "day_of_month": 19,
                    "month_num": 1
                  },
                  {
                    "passengerCount": 1,
                    "day_of_hour": 8,
                    "day_of_week": 0,
                    "tripDistance": 1.46,
                    "vendorID": 2,
                    "totalAmount": 9.96,
                    "day_of_month": 26,
                    "month_num": 1
                  },
                  {
                    "passengerCount": 1,
                    "day_of_hour": 9,
                    "day_of_week": 4,
                    "tripDistance": 0.6,
                    "vendorID": 1,
                    "totalAmount": 6.3,
                    "day_of_month": 16,
                    "month_num": 1
                  },
                  {
                    "passengerCount": 1,
                    "day_of_hour": 23,
                    "day_of_week": 6,
                    "tripDistance": 1.76,
                    "vendorID": 2,
                    "totalAmount": 10.3,
                    "day_of_month": 4,
                    "month_num": 1
                  },
                  {
                    "passengerCount": 1,
                    "day_of_hour": 18,
                    "day_of_week": 5,
                    "tripDistance": 3.45,
                    "vendorID": 2,
                    "totalAmount": 15.3,
                    "day_of_month": 24,
                    "month_num": 1
                  },
                  {
                    "passengerCount": 1,
                    "day_of_hour": 0,
                    "day_of_week": 6,
                    "tripDistance": 2.31,
                    "vendorID": 2,
                    "totalAmount": 11.8,
                    "day_of_month": 11,
                    "month_num": 1
                  },
                  {
                    "passengerCount": 1,
                    "day_of_hour": 9,
                    "day_of_week": 3,
                    "tripDistance": 2.9,
                    "vendorID": 2,
                    "totalAmount": 14.8,
                    "day_of_month": 15,
                    "month_num": 1
                  },
                  {
                    "passengerCount": 1,
                    "day_of_hour": 19,
                    "day_of_week": 6,
                    "tripDistance": 2.86,
                    "vendorID": 2,
                    "totalAmount": 17.05,
                    "day_of_month": 4,
                    "month_num": 1
                  },
                  {
                    "passengerCount": 1,
                    "day_of_hour": 19,
                    "day_of_week": 3,
                    "tripDistance": 1.98,
                    "vendorID": 2,
                    "totalAmount": 12.3,
                    "day_of_month": 22,
                    "month_num": 1
                  },
                  {
                    "passengerCount": 1,
                    "day_of_hour": 10,
                    "day_of_week": 3,
                    "tripDistance": 4.94,
                    "vendorID": 2,
                    "totalAmount": 17.8,
                    "day_of_month": 29,
                    "month_num": 1
                  },
                  {
                    "passengerCount": 2,
                    "day_of_hour": 13,
                    "day_of_week": 1,
                    "tripDistance": 4.6,
                    "vendorID": 1,
                    "totalAmount": 18.3,
                    "day_of_month": 20,
                    "month_num": 1
                  },
                  {
                    "passengerCount": 4,
                    "day_of_hour": 23,
                    "day_of_week": 5,
                    "tripDistance": 0.69,
                    "vendorID": 2,
                    "totalAmount": 8.92,
                    "day_of_month": 24,
                    "month_num": 1
                  },
                  {
                    "passengerCount": 1,
                    "day_of_hour": 23,
                    "day_of_week": 2,
                    "tripDistance": 0.88,
                    "vendorID": 2,
                    "totalAmount": 6.8,
                    "day_of_month": 7,
                    "month_num": 1
                  },
                  {
                    "passengerCount": 1,
                    "day_of_hour": 18,
                    "day_of_week": 1,
                    "tripDistance": 1.69,
                    "vendorID": 2,
                    "totalAmount": 10.3,
                    "day_of_month": 13,
                    "month_num": 1
                  },
                  {
                    "passengerCount": 1,
                    "day_of_hour": 1,
                    "day_of_week": 5,
                    "tripDistance": 2.71,
                    "vendorID": 2,
                    "totalAmount": 13.3,
                    "day_of_month": 3,
                    "month_num": 1
                  },
                  {
                    "passengerCount": 1,
                    "day_of_hour": 13,
                    "day_of_week": 3,
                    "tripDistance": 3.74,
                    "vendorID": 2,
                    "totalAmount": 17.3,
                    "day_of_month": 8,
                    "month_num": 1
                  },
                  {
                    "passengerCount": 1,
                    "day_of_hour": 18,
                    "day_of_week": 4,
                    "tripDistance": 4.42,
                    "vendorID": 2,
                    "totalAmount": 33.6,
                    "day_of_month": 23,
                    "month_num": 1
                  },
                  {
                    "passengerCount": 6,
                    "day_of_hour": 9,
                    "day_of_week": 1,
                    "tripDistance": 4.87,
                    "vendorID": 2,
                    "totalAmount": 17.3,
                    "day_of_month": 6,
                    "month_num": 1
                  },
                  {
                    "passengerCount": 1,
                    "day_of_hour": 22,
                    "day_of_week": 4,
                    "tripDistance": 1.35,
                    "vendorID": 2,
                    "totalAmount": 10,
                    "day_of_month": 30,
                    "month_num": 1
                  },
                  {
                    "passengerCount": 1,
                    "day_of_hour": 22,
                    "day_of_week": 5,
                    "tripDistance": 3.23,
                    "vendorID": 2,
                    "totalAmount": 18.2,
                    "day_of_month": 24,
                    "month_num": 1
                  },
                  {
                    "passengerCount": 1,
                    "day_of_hour": 19,
                    "day_of_week": 4,
                    "tripDistance": 0.86,
                    "vendorID": 2,
                    "totalAmount": 6.3,
                    "day_of_month": 23,
                    "month_num": 1
                  },
                  {
                    "passengerCount": 2,
                    "day_of_hour": 17,
                    "day_of_week": 2,
                    "tripDistance": 2.34,
                    "vendorID": 2,
                    "totalAmount": 12.8,
                    "day_of_month": 28,
                    "month_num": 1
                  },
                  {
                    "passengerCount": 5,
                    "day_of_hour": 15,
                    "day_of_week": 3,
                    "tripDistance": 1.15,
                    "vendorID": 2,
                    "totalAmount": 8.3,
                    "day_of_month": 29,
                    "month_num": 1
                  },
                  {
                    "passengerCount": 1,
                    "day_of_hour": 11,
                    "day_of_week": 4,
                    "tripDistance": 0.85,
                    "vendorID": 2,
                    "totalAmount": 5.3,
                    "day_of_month": 2,
                    "month_num": 1
                  },
                  {
                    "passengerCount": 2,
                    "day_of_hour": 0,
                    "day_of_week": 4,
                    "tripDistance": 4.2,
                    "vendorID": 1,
                    "totalAmount": 16.3,
                    "day_of_month": 16,
                    "month_num": 1
                  },
                  {
                    "passengerCount": 1,
                    "day_of_hour": 14,
                    "day_of_week": 0,
                    "tripDistance": 1.38,
                    "vendorID": 2,
                    "totalAmount": 9.3,
                    "day_of_month": 12,
                    "month_num": 1
                  },
                  {
                    "passengerCount": 1,
                    "day_of_hour": 9,
                    "day_of_week": 3,
                    "tripDistance": 4.68,
                    "vendorID": 2,
                    "totalAmount": 19.3,
                    "day_of_month": 8,
                    "month_num": 1
                  },
                  {
                    "passengerCount": 1,
                    "day_of_hour": 1,
                    "day_of_week": 4,
                    "tripDistance": 1.2,
                    "vendorID": 1,
                    "totalAmount": 7.3,
                    "day_of_month": 9,
                    "month_num": 1
                  },
                  {
                    "passengerCount": 1,
                    "day_of_hour": 17,
                    "day_of_week": 4,
                    "tripDistance": 1.56,
                    "vendorID": 2,
                    "totalAmount": 11.62,
                    "day_of_month": 23,
                    "month_num": 1
                  },
                  {
                    "passengerCount": 1,
                    "day_of_hour": 1,
                    "day_of_week": 5,
                    "tripDistance": 1.56,
                    "vendorID": 2,
                    "totalAmount": 11.62,
                    "day_of_month": 24,
                    "month_num": 1
                  },
                  {
                    "passengerCount": 1,
                    "day_of_hour": 11,
                    "day_of_week": 0,
                    "tripDistance": 1.89,
                    "vendorID": 2,
                    "totalAmount": 12.8,
                    "day_of_month": 12,
                    "month_num": 1
                  },
                  {
                    "passengerCount": 1,
                    "day_of_hour": 16,
                    "day_of_week": 0,
                    "tripDistance": 1.2,
                    "vendorID": 1,
                    "totalAmount": 8.3,
                    "day_of_month": 5,
                    "month_num": 1
                  },
                  {
                    "passengerCount": 1,
                    "day_of_hour": 21,
                    "day_of_week": 6,
                    "tripDistance": 0.69,
                    "vendorID": 2,
                    "totalAmount": 6.8,
                    "day_of_month": 4,
                    "month_num": 1
                  },
                  {
                    "passengerCount": 1,
                    "day_of_hour": 11,
                    "day_of_week": 5,
                    "tripDistance": 1.69,
                    "vendorID": 2,
                    "totalAmount": 9.3,
                    "day_of_month": 24,
                    "month_num": 1
                  },
                  {
                    "passengerCount": 1,
                    "day_of_hour": 19,
                    "day_of_week": 1,
                    "tripDistance": 1.36,
                    "vendorID": 2,
                    "totalAmount": 10.8,
                    "day_of_month": 6,
                    "month_num": 1
                  },
                  {
                    "passengerCount": 1,
                    "day_of_hour": 19,
                    "day_of_week": 5,
                    "tripDistance": 8.76,
                    "vendorID": 2,
                    "totalAmount": 28.8,
                    "day_of_month": 10,
                    "month_num": 1
                  },
                  {
                    "passengerCount": 1,
                    "day_of_hour": 19,
                    "day_of_week": 6,
                    "tripDistance": 8.83,
                    "vendorID": 2,
                    "totalAmount": 30.96,
                    "day_of_month": 25,
                    "month_num": 1
                  },
                  {
                    "passengerCount": 1,
                    "day_of_hour": 10,
                    "day_of_week": 5,
                    "tripDistance": 3.85,
                    "vendorID": 2,
                    "totalAmount": 19.8,
                    "day_of_month": 10,
                    "month_num": 1
                  },
                  {
                    "passengerCount": 5,
                    "day_of_hour": 12,
                    "day_of_week": 1,
                    "tripDistance": 2.31,
                    "vendorID": 2,
                    "totalAmount": 12.5,
                    "day_of_month": 20,
                    "month_num": 1
                  },
                  {
                    "passengerCount": 1,
                    "day_of_hour": 14,
                    "day_of_week": 0,
                    "tripDistance": 0.36,
                    "vendorID": 2,
                    "totalAmount": 4.3,
                    "day_of_month": 19,
                    "month_num": 1
                  },
                  {
                    "passengerCount": 1,
                    "day_of_hour": 17,
                    "day_of_week": 5,
                    "tripDistance": 2.53,
                    "vendorID": 2,
                    "totalAmount": 11.8,
                    "day_of_month": 17,
                    "month_num": 1
                  },
                  {
                    "passengerCount": 1,
                    "day_of_hour": 18,
                    "day_of_week": 2,
                    "tripDistance": 1.15,
                    "vendorID": 2,
                    "totalAmount": 8.8,
                    "day_of_month": 21,
                    "month_num": 1
                  },
                  {
                    "passengerCount": 1,
                    "day_of_hour": 23,
                    "day_of_week": 4,
                    "tripDistance": 1.45,
                    "vendorID": 2,
                    "totalAmount": 11.2,
                    "day_of_month": 23,
                    "month_num": 1
                  },
                  {
                    "passengerCount": 1,
                    "day_of_hour": 11,
                    "day_of_week": 0,
                    "tripDistance": 1.74,
                    "vendorID": 2,
                    "totalAmount": 9.3,
                    "day_of_month": 12,
                    "month_num": 1
                  },
                  {
                    "passengerCount": 1,
                    "day_of_hour": 3,
                    "day_of_week": 5,
                    "tripDistance": 4.77,
                    "vendorID": 2,
                    "totalAmount": 17.8,
                    "day_of_month": 24,
                    "month_num": 1
                  },
                  {
                    "passengerCount": 2,
                    "day_of_hour": 16,
                    "day_of_week": 1,
                    "tripDistance": 3.3,
                    "vendorID": 1,
                    "totalAmount": 14.8,
                    "day_of_month": 13,
                    "month_num": 1
                  },
                  {
                    "passengerCount": 1,
                    "day_of_hour": 9,
                    "day_of_week": 0,
                    "tripDistance": 2.7,
                    "vendorID": 1,
                    "totalAmount": 17.25,
                    "day_of_month": 12,
                    "month_num": 1
                  },
                  {
                    "passengerCount": 1,
                    "day_of_hour": 23,
                    "day_of_week": 6,
                    "tripDistance": 1.57,
                    "vendorID": 2,
                    "totalAmount": 8.8,
                    "day_of_month": 18,
                    "month_num": 1
                  },
                  {
                    "passengerCount": 1,
                    "day_of_hour": 7,
                    "day_of_week": 0,
                    "tripDistance": 5.17,
                    "vendorID": 2,
                    "totalAmount": 24.3,
                    "day_of_month": 12,
                    "month_num": 1
                  },
                  {
                    "passengerCount": 1,
                    "day_of_hour": 19,
                    "day_of_week": 5,
                    "tripDistance": 1.24,
                    "vendorID": 2,
                    "totalAmount": 8.3,
                    "day_of_month": 17,
                    "month_num": 1
                  },
                  {
                    "passengerCount": 1,
                    "day_of_hour": 19,
                    "day_of_week": 0,
                    "tripDistance": 1.25,
                    "vendorID": 2,
                    "totalAmount": 7.8,
                    "day_of_month": 5,
                    "month_num": 1
                  },
                  {
                    "passengerCount": 1,
                    "day_of_hour": 19,
                    "day_of_week": 4,
                    "tripDistance": 1.41,
                    "vendorID": 2,
                    "totalAmount": 9.8,
                    "day_of_month": 16,
                    "month_num": 1
                  },
                  {
                    "passengerCount": 1,
                    "day_of_hour": 1,
                    "day_of_week": 5,
                    "tripDistance": 0.67,
                    "vendorID": 2,
                    "totalAmount": 5.8,
                    "day_of_month": 10,
                    "month_num": 1
                  },
                  {
                    "passengerCount": 1,
                    "day_of_hour": 3,
                    "day_of_week": 6,
                    "tripDistance": 1.12,
                    "vendorID": 2,
                    "totalAmount": 7.3,
                    "day_of_month": 25,
                    "month_num": 1
                  },
                  {
                    "passengerCount": 2,
                    "day_of_hour": 15,
                    "day_of_week": 4,
                    "tripDistance": 3.12,
                    "vendorID": 2,
                    "totalAmount": 15.8,
                    "day_of_month": 30,
                    "month_num": 1
                  },
                  {
                    "passengerCount": 1,
                    "day_of_hour": 20,
                    "day_of_week": 6,
                    "tripDistance": 0.48,
                    "vendorID": 2,
                    "totalAmount": 4.8,
                    "day_of_month": 4,
                    "month_num": 1
                  },
                  {
                    "passengerCount": 1,
                    "day_of_hour": 1,
                    "day_of_week": 3,
                    "tripDistance": 1.16,
                    "vendorID": 2,
                    "totalAmount": 7.8,
                    "day_of_month": 1,
                    "month_num": 1
                  },
                  {
                    "passengerCount": 1,
                    "day_of_hour": 6,
                    "day_of_week": 3,
                    "tripDistance": 3.54,
                    "vendorID": 2,
                    "totalAmount": 23.55,
                    "day_of_month": 15,
                    "month_num": 1
                  },
                  {
                    "passengerCount": 2,
                    "day_of_hour": 22,
                    "day_of_week": 1,
                    "tripDistance": 1.06,
                    "vendorID": 2,
                    "totalAmount": 6.8,
                    "day_of_month": 6,
                    "month_num": 1
                  },
                  {
                    "passengerCount": 1,
                    "day_of_hour": 15,
                    "day_of_week": 4,
                    "tripDistance": 2.63,
                    "vendorID": 2,
                    "totalAmount": 12.3,
                    "day_of_month": 2,
                    "month_num": 1
                  },
                  {
                    "passengerCount": 1,
                    "day_of_hour": 10,
                    "day_of_week": 4,
                    "tripDistance": 5.35,
                    "vendorID": 2,
                    "totalAmount": 26.3,
                    "day_of_month": 16,
                    "month_num": 1
                  },
                  {
                    "passengerCount": 3,
                    "day_of_hour": 0,
                    "day_of_week": 3,
                    "tripDistance": 2.8,
                    "vendorID": 1,
                    "totalAmount": 14.8,
                    "day_of_month": 1,
                    "month_num": 1
                  },
                  {
                    "passengerCount": 2,
                    "day_of_hour": 15,
                    "day_of_week": 1,
                    "tripDistance": 0.5,
                    "vendorID": 1,
                    "totalAmount": 5.8,
                    "day_of_month": 6,
                    "month_num": 1
                  },
                  {
                    "passengerCount": 1,
                    "day_of_hour": 22,
                    "day_of_week": 3,
                    "tripDistance": 8.43,
                    "vendorID": 2,
                    "totalAmount": 32.3,
                    "day_of_month": 15,
                    "month_num": 1
                  },
                  {
                    "passengerCount": 1,
                    "day_of_hour": 21,
                    "day_of_week": 5,
                    "tripDistance": 3.95,
                    "vendorID": 2,
                    "totalAmount": 20,
                    "day_of_month": 10,
                    "month_num": 1
                  },
                  {
                    "passengerCount": 1,
                    "day_of_hour": 21,
                    "day_of_week": 2,
                    "tripDistance": 7.42,
                    "vendorID": 2,
                    "totalAmount": 24.8,
                    "day_of_month": 14,
                    "month_num": 1
                  },
                  {
                    "passengerCount": 1,
                    "day_of_hour": 1,
                    "day_of_week": 5,
                    "tripDistance": 2.18,
                    "vendorID": 2,
                    "totalAmount": 14.76,
                    "day_of_month": 24,
                    "month_num": 1
                  },
                  {
                    "passengerCount": 1,
                    "day_of_hour": 12,
                    "day_of_week": 3,
                    "tripDistance": 1.8,
                    "vendorID": 1,
                    "totalAmount": 11.8,
                    "day_of_month": 8,
                    "month_num": 1
                  },
                  {
                    "passengerCount": 1,
                    "day_of_hour": 18,
                    "day_of_week": 5,
                    "tripDistance": 0.87,
                    "vendorID": 2,
                    "totalAmount": 5.3,
                    "day_of_month": 10,
                    "month_num": 1
                  },
                  {
                    "passengerCount": 1,
                    "day_of_hour": 22,
                    "day_of_week": 2,
                    "tripDistance": 9.6,
                    "vendorID": 1,
                    "totalAmount": 28.8,
                    "day_of_month": 21,
                    "month_num": 1
                  },
                  {
                    "passengerCount": 3,
                    "day_of_hour": 13,
                    "day_of_week": 6,
                    "tripDistance": 1.73,
                    "vendorID": 2,
                    "totalAmount": 10.8,
                    "day_of_month": 11,
                    "month_num": 1
                  },
                  {
                    "passengerCount": 1,
                    "day_of_hour": 17,
                    "day_of_week": 4,
                    "tripDistance": 1.11,
                    "vendorID": 2,
                    "totalAmount": 13.8,
                    "day_of_month": 30,
                    "month_num": 1
                  },
                  {
                    "passengerCount": 5,
                    "day_of_hour": 21,
                    "day_of_week": 5,
                    "tripDistance": 2.07,
                    "vendorID": 2,
                    "totalAmount": 12.96,
                    "day_of_month": 24,
                    "month_num": 1
                  },
                  {
                    "passengerCount": 1,
                    "day_of_hour": 23,
                    "day_of_week": 5,
                    "tripDistance": 1.85,
                    "vendorID": 2,
                    "totalAmount": 12.2,
                    "day_of_month": 10,
                    "month_num": 1
                  },
                  {
                    "passengerCount": 1,
                    "day_of_hour": 21,
                    "day_of_week": 1,
                    "tripDistance": 2.08,
                    "vendorID": 2,
                    "totalAmount": 12.2,
                    "day_of_month": 20,
                    "month_num": 1
                  },
                  {
                    "passengerCount": 1,
                    "day_of_hour": 7,
                    "day_of_week": 0,
                    "tripDistance": 10.76,
                    "vendorID": 2,
                    "totalAmount": 36.8,
                    "day_of_month": 12,
                    "month_num": 1
                  },
                  {
                    "passengerCount": 1,
                    "day_of_hour": 7,
                    "day_of_week": 5,
                    "tripDistance": 3.9,
                    "vendorID": 1,
                    "totalAmount": 14.8,
                    "day_of_month": 3,
                    "month_num": 1
                  },
                  {
                    "passengerCount": 1,
                    "day_of_hour": 17,
                    "day_of_week": 0,
                    "tripDistance": 1.19,
                    "vendorID": 2,
                    "totalAmount": 9.3,
                    "day_of_month": 12,
                    "month_num": 1
                  },
                  {
                    "passengerCount": 2,
                    "day_of_hour": 11,
                    "day_of_week": 0,
                    "tripDistance": 1.5,
                    "vendorID": 1,
                    "totalAmount": 7.8,
                    "day_of_month": 26,
                    "month_num": 1
                  },
                  {
                    "passengerCount": 1,
                    "day_of_hour": 23,
                    "day_of_week": 4,
                    "tripDistance": 1.8,
                    "vendorID": 2,
                    "totalAmount": 12.3,
                    "day_of_month": 16,
                    "month_num": 1
                  },
                  {
                    "passengerCount": 1,
                    "day_of_hour": 17,
                    "day_of_week": 2,
                    "tripDistance": 7.24,
                    "vendorID": 2,
                    "totalAmount": 32,
                    "day_of_month": 7,
                    "month_num": 1
                  },
                  {
                    "passengerCount": 1,
                    "day_of_hour": 12,
                    "day_of_week": 3,
                    "tripDistance": 2.64,
                    "vendorID": 2,
                    "totalAmount": 14.16,
                    "day_of_month": 29,
                    "month_num": 1
                  },
                  {
                    "passengerCount": 1,
                    "day_of_hour": 16,
                    "day_of_week": 3,
                    "tripDistance": 1.94,
                    "vendorID": 2,
                    "totalAmount": 11.8,
                    "day_of_month": 8,
                    "month_num": 1
                  },
                  {
                    "passengerCount": 1,
                    "day_of_hour": 20,
                    "day_of_week": 3,
                    "tripDistance": 15.71,
                    "vendorID": 2,
                    "totalAmount": 55.56,
                    "day_of_month": 29,
                    "month_num": 1
                  },
                  {
                    "passengerCount": 1,
                    "day_of_hour": 18,
                    "day_of_week": 3,
                    "tripDistance": 1.35,
                    "vendorID": 2,
                    "totalAmount": 10.3,
                    "day_of_month": 29,
                    "month_num": 1
                  },
                  {
                    "passengerCount": 1,
                    "day_of_hour": 10,
                    "day_of_week": 4,
                    "tripDistance": 1.7,
                    "vendorID": 2,
                    "totalAmount": 9.79,
                    "day_of_month": 30,
                    "month_num": 1
                  },
                  {
                    "passengerCount": 1,
                    "day_of_hour": 17,
                    "day_of_week": 4,
                    "tripDistance": 1.94,
                    "vendorID": 2,
                    "totalAmount": 11.3,
                    "day_of_month": 9,
                    "month_num": 1
                  },
                  {
                    "passengerCount": 1,
                    "day_of_hour": 18,
                    "day_of_week": 0,
                    "tripDistance": 0.74,
                    "vendorID": 2,
                    "totalAmount": 6.8,
                    "day_of_month": 5,
                    "month_num": 1
                  },
                  {
                    "passengerCount": 1,
                    "day_of_hour": 10,
                    "day_of_week": 3,
                    "tripDistance": 16.41,
                    "vendorID": 2,
                    "totalAmount": 48,
                    "day_of_month": 8,
                    "month_num": 1
                  },
                  {
                    "passengerCount": 1,
                    "day_of_hour": 15,
                    "day_of_week": 4,
                    "tripDistance": 1.6,
                    "vendorID": 1,
                    "totalAmount": 12.85,
                    "day_of_month": 16,
                    "month_num": 1
                  },
                  {
                    "passengerCount": 1,
                    "day_of_hour": 15,
                    "day_of_week": 4,
                    "tripDistance": 6.36,
                    "vendorID": 2,
                    "totalAmount": 19.3,
                    "day_of_month": 2,
                    "month_num": 1
                  },
                  {
                    "passengerCount": 1,
                    "day_of_hour": 1,
                    "day_of_week": 5,
                    "tripDistance": 0.3,
                    "vendorID": 1,
                    "totalAmount": 4.8,
                    "day_of_month": 17,
                    "month_num": 1
                  },
                  {
                    "passengerCount": 5,
                    "day_of_hour": 7,
                    "day_of_week": 3,
                    "tripDistance": 4.51,
                    "vendorID": 2,
                    "totalAmount": 20,
                    "day_of_month": 1,
                    "month_num": 1
                  },
                  {
                    "passengerCount": 1,
                    "day_of_hour": 22,
                    "day_of_week": 1,
                    "tripDistance": 3.8,
                    "vendorID": 1,
                    "totalAmount": 21.15,
                    "day_of_month": 6,
                    "month_num": 1
                  },
                  {
                    "passengerCount": 1,
                    "day_of_hour": 8,
                    "day_of_week": 3,
                    "tripDistance": 0.5,
                    "vendorID": 2,
                    "totalAmount": 5.3,
                    "day_of_month": 8,
                    "month_num": 1
                  },
                  {
                    "passengerCount": 1,
                    "day_of_hour": 13,
                    "day_of_week": 5,
                    "tripDistance": 1.3,
                    "vendorID": 1,
                    "totalAmount": 4.3,
                    "day_of_month": 3,
                    "month_num": 1
                  },
                  {
                    "passengerCount": 2,
                    "day_of_hour": 23,
                    "day_of_week": 0,
                    "tripDistance": 2.12,
                    "vendorID": 2,
                    "totalAmount": 11.8,
                    "day_of_month": 5,
                    "month_num": 1
                  },
                  {
                    "passengerCount": 6,
                    "day_of_hour": 12,
                    "day_of_week": 0,
                    "tripDistance": 1.32,
                    "vendorID": 2,
                    "totalAmount": 8.8,
                    "day_of_month": 19,
                    "month_num": 1
                  },
                  {
                    "passengerCount": 2,
                    "day_of_hour": 0,
                    "day_of_week": 6,
                    "tripDistance": 3.39,
                    "vendorID": 2,
                    "totalAmount": 16.4,
                    "day_of_month": 18,
                    "month_num": 1
                  },
                  {
                    "passengerCount": 1,
                    "day_of_hour": 1,
                    "day_of_week": 4,
                    "tripDistance": 0.5,
                    "vendorID": 1,
                    "totalAmount": 5.3,
                    "day_of_month": 23,
                    "month_num": 1
                  },
                  {
                    "passengerCount": 1,
                    "day_of_hour": 15,
                    "day_of_week": 1,
                    "tripDistance": 9.23,
                    "vendorID": 2,
                    "totalAmount": 39.2,
                    "day_of_month": 20,
                    "month_num": 1
                  },
                  {
                    "passengerCount": 1,
                    "day_of_hour": 15,
                    "day_of_week": 5,
                    "tripDistance": 1.63,
                    "vendorID": 2,
                    "totalAmount": 8.3,
                    "day_of_month": 24,
                    "month_num": 1
                  },
                  {
                    "passengerCount": 1,
                    "day_of_hour": 3,
                    "day_of_week": 5,
                    "tripDistance": 5.92,
                    "vendorID": 2,
                    "totalAmount": 39.6,
                    "day_of_month": 10,
                    "month_num": 1
                  },
                  {
                    "passengerCount": 2,
                    "day_of_hour": 22,
                    "day_of_week": 5,
                    "tripDistance": 2.1,
                    "vendorID": 1,
                    "totalAmount": 14.15,
                    "day_of_month": 17,
                    "month_num": 1
                  },
                  {
                    "passengerCount": 1,
                    "day_of_hour": 16,
                    "day_of_week": 4,
                    "tripDistance": 2.06,
                    "vendorID": 2,
                    "totalAmount": 14.76,
                    "day_of_month": 23,
                    "month_num": 1
                  },
                  {
                    "passengerCount": 1,
                    "day_of_hour": 20,
                    "day_of_week": 4,
                    "tripDistance": 1.3,
                    "vendorID": 1,
                    "totalAmount": 8.3,
                    "day_of_month": 2,
                    "month_num": 1
                  },
                  {
                    "passengerCount": 1,
                    "day_of_hour": 23,
                    "day_of_week": 5,
                    "tripDistance": 0.6,
                    "vendorID": 1,
                    "totalAmount": 5.8,
                    "day_of_month": 24,
                    "month_num": 1
                  },
                  {
                    "passengerCount": 1,
                    "day_of_hour": 21,
                    "day_of_week": 1,
                    "tripDistance": 1.31,
                    "vendorID": 2,
                    "totalAmount": 8.8,
                    "day_of_month": 13,
                    "month_num": 1
                  },
                  {
                    "passengerCount": 1,
                    "day_of_hour": 21,
                    "day_of_week": 4,
                    "tripDistance": 1.73,
                    "vendorID": 2,
                    "totalAmount": 9.8,
                    "day_of_month": 16,
                    "month_num": 1
                  },
                  {
                    "passengerCount": 1,
                    "day_of_hour": 20,
                    "day_of_week": 3,
                    "tripDistance": 3.38,
                    "vendorID": 2,
                    "totalAmount": 14.3,
                    "day_of_month": 15,
                    "month_num": 1
                  },
                  {
                    "passengerCount": 1,
                    "day_of_hour": 10,
                    "day_of_week": 3,
                    "tripDistance": 2.84,
                    "vendorID": 2,
                    "totalAmount": 18.8,
                    "day_of_month": 15,
                    "month_num": 1
                  },
                  {
                    "passengerCount": 2,
                    "day_of_hour": 12,
                    "day_of_week": 0,
                    "tripDistance": 2.26,
                    "vendorID": 2,
                    "totalAmount": 15.2,
                    "day_of_month": 19,
                    "month_num": 1
                  },
                  {
                    "passengerCount": 1,
                    "day_of_hour": 1,
                    "day_of_week": 5,
                    "tripDistance": 3.34,
                    "vendorID": 2,
                    "totalAmount": 15.2,
                    "day_of_month": 3,
                    "month_num": 1
                  },
                  {
                    "passengerCount": 1,
                    "day_of_hour": 22,
                    "day_of_week": 4,
                    "tripDistance": 2.1,
                    "vendorID": 2,
                    "totalAmount": 11.6,
                    "day_of_month": 2,
                    "month_num": 1
                  },
                  {
                    "passengerCount": 1,
                    "day_of_hour": 5,
                    "day_of_week": 4,
                    "tripDistance": 2.73,
                    "vendorID": 2,
                    "totalAmount": 13.8,
                    "day_of_month": 2,
                    "month_num": 1
                  },
                  {
                    "passengerCount": 1,
                    "day_of_hour": 19,
                    "day_of_week": 4,
                    "tripDistance": 1.28,
                    "vendorID": 2,
                    "totalAmount": 8.3,
                    "day_of_month": 9,
                    "month_num": 1
                  },
                  {
                    "passengerCount": 1,
                    "day_of_hour": 16,
                    "day_of_week": 0,
                    "tripDistance": 0.72,
                    "vendorID": 2,
                    "totalAmount": 5.3,
                    "day_of_month": 19,
                    "month_num": 1
                  },
                  {
                    "passengerCount": 1,
                    "day_of_hour": 21,
                    "day_of_week": 4,
                    "tripDistance": 2.01,
                    "vendorID": 2,
                    "totalAmount": 11.3,
                    "day_of_month": 9,
                    "month_num": 1
                  },
                  {
                    "passengerCount": 1,
                    "day_of_hour": 10,
                    "day_of_week": 0,
                    "tripDistance": 3.52,
                    "vendorID": 2,
                    "totalAmount": 19.55,
                    "day_of_month": 19,
                    "month_num": 1
                  },
                  {
                    "passengerCount": 1,
                    "day_of_hour": 18,
                    "day_of_week": 3,
                    "tripDistance": 1.11,
                    "vendorID": 2,
                    "totalAmount": 10.3,
                    "day_of_month": 22,
                    "month_num": 1
                  },
                  {
                    "passengerCount": 5,
                    "day_of_hour": 9,
                    "day_of_week": 6,
                    "tripDistance": 5.11,
                    "vendorID": 2,
                    "totalAmount": 23,
                    "day_of_month": 25,
                    "month_num": 1
                  },
                  {
                    "passengerCount": 1,
                    "day_of_hour": 18,
                    "day_of_week": 4,
                    "tripDistance": 1.81,
                    "vendorID": 2,
                    "totalAmount": 14,
                    "day_of_month": 9,
                    "month_num": 1
                  },
                  {
                    "passengerCount": 1,
                    "day_of_hour": 15,
                    "day_of_week": 4,
                    "tripDistance": 6.23,
                    "vendorID": 2,
                    "totalAmount": 26.3,
                    "day_of_month": 16,
                    "month_num": 1
                  },
                  {
                    "passengerCount": 1,
                    "day_of_hour": 13,
                    "day_of_week": 6,
                    "tripDistance": 4.01,
                    "vendorID": 2,
                    "totalAmount": 17.8,
                    "day_of_month": 4,
                    "month_num": 1
                  },
                  {
                    "passengerCount": 1,
                    "day_of_hour": 19,
                    "day_of_week": 2,
                    "tripDistance": 1.06,
                    "vendorID": 2,
                    "totalAmount": 8.9,
                    "day_of_month": 21,
                    "month_num": 1
                  },
                  {
                    "passengerCount": 1,
                    "day_of_hour": 17,
                    "day_of_week": 2,
                    "tripDistance": 0.48,
                    "vendorID": 2,
                    "totalAmount": 5.3,
                    "day_of_month": 21,
                    "month_num": 1
                  },
                  {
                    "passengerCount": 1,
                    "day_of_hour": 19,
                    "day_of_week": 5,
                    "tripDistance": 0.84,
                    "vendorID": 2,
                    "totalAmount": 5.8,
                    "day_of_month": 10,
                    "month_num": 1
                  },
                  {
                    "passengerCount": 1,
                    "day_of_hour": 22,
                    "day_of_week": 3,
                    "tripDistance": 2.86,
                    "vendorID": 2,
                    "totalAmount": 13.8,
                    "day_of_month": 22,
                    "month_num": 1
                  },
                  {
                    "passengerCount": 4,
                    "day_of_hour": 19,
                    "day_of_week": 6,
                    "tripDistance": 5.48,
                    "vendorID": 2,
                    "totalAmount": 23.3,
                    "day_of_month": 4,
                    "month_num": 1
                  },
                  {
                    "passengerCount": 1,
                    "day_of_hour": 20,
                    "day_of_week": 4,
                    "tripDistance": 0.97,
                    "vendorID": 2,
                    "totalAmount": 9.96,
                    "day_of_month": 23,
                    "month_num": 1
                  },
                  {
                    "passengerCount": 1,
                    "day_of_hour": 4,
                    "day_of_week": 3,
                    "tripDistance": 4.9,
                    "vendorID": 1,
                    "totalAmount": 17.3,
                    "day_of_month": 29,
                    "month_num": 1
                  },
                  {
                    "passengerCount": 1,
                    "day_of_hour": 7,
                    "day_of_week": 2,
                    "tripDistance": 9.47,
                    "vendorID": 2,
                    "totalAmount": 30.8,
                    "day_of_month": 28,
                    "month_num": 1
                  },
                  {
                    "passengerCount": 1,
                    "day_of_hour": 8,
                    "day_of_week": 0,
                    "tripDistance": 1.17,
                    "vendorID": 2,
                    "totalAmount": 8.3,
                    "day_of_month": 12,
                    "month_num": 1
                  },
                  {
                    "passengerCount": 3,
                    "day_of_hour": 17,
                    "day_of_week": 4,
                    "tripDistance": 1.75,
                    "vendorID": 2,
                    "totalAmount": 13.92,
                    "day_of_month": 30,
                    "month_num": 1
                  },
                  {
                    "passengerCount": 1,
                    "day_of_hour": 15,
                    "day_of_week": 6,
                    "tripDistance": 3.34,
                    "vendorID": 2,
                    "totalAmount": 11.8,
                    "day_of_month": 25,
                    "month_num": 1
                  },
                  {
                    "passengerCount": 1,
                    "day_of_hour": 15,
                    "day_of_week": 2,
                    "tripDistance": 0.9,
                    "vendorID": 1,
                    "totalAmount": 6.8,
                    "day_of_month": 14,
                    "month_num": 1
                  },
                  {
                    "passengerCount": 1,
                    "day_of_hour": 18,
                    "day_of_week": 4,
                    "tripDistance": 3.73,
                    "vendorID": 2,
                    "totalAmount": 30.05,
                    "day_of_month": 30,
                    "month_num": 1
                  },
                  {
                    "passengerCount": 1,
                    "day_of_hour": 3,
                    "day_of_week": 3,
                    "tripDistance": 1.5,
                    "vendorID": 1,
                    "totalAmount": 9.3,
                    "day_of_month": 1,
                    "month_num": 1
                  },
                  {
                    "passengerCount": 1,
                    "day_of_hour": 17,
                    "day_of_week": 4,
                    "tripDistance": 0.57,
                    "vendorID": 2,
                    "totalAmount": 7.8,
                    "day_of_month": 9,
                    "month_num": 1
                  },
                  {
                    "passengerCount": 1,
                    "day_of_hour": 21,
                    "day_of_week": 1,
                    "tripDistance": 0.71,
                    "vendorID": 2,
                    "totalAmount": 7.4,
                    "day_of_month": 6,
                    "month_num": 1
                  },
                  {
                    "passengerCount": 1,
                    "day_of_hour": 23,
                    "day_of_week": 4,
                    "tripDistance": 7.8,
                    "vendorID": 1,
                    "totalAmount": 29.15,
                    "day_of_month": 23,
                    "month_num": 1
                  }
                ],
                "schema": {
                  "vendorID": "bigint",
                  "passengerCount": "bigint",
                  "tripDistance": "double",
                  "totalAmount": "double",
                  "month_num": "bigint",
                  "day_of_month": "bigint",
                  "day_of_week": "bigint",
                  "day_of_hour": "bigint"
                }
              },
              "isSummary": false,
              "language": "scala"
            }
          },
          "execution_count": 12,
          "metadata": {}
        }
      ],
      "metadata": {
        "diagram": {
          "activateDiagramType": 1,
          "chartConfig": {
            "category": "bar",
            "keys": [
              "passengerCount"
            ],
            "values": [
              "vendorID"
            ],
            "yLabel": "vendorID",
            "xLabel": "passengerCount",
            "aggregation": "SUM",
            "aggByBackend": false
          },
          "aggData": {
            "vendorID": {
              "1": 1489,
              "2": 130,
              "3": 26,
              "4": 15,
              "5": 80,
              "6": 40
            }
          },
          "isSummary": false,
          "previewData": {
            "filter": null
          },
          "isSql": false
        }
      },
      "source": [
        "display(final_df)"
      ],
      "attachments": {}
    },
    {
      "cell_type": "markdown",
      "metadata": {},
      "source": [
        "## AutoML setup and running experiment\n",
        ""
      ],
      "attachments": {}
    },
    {
      "cell_type": "code",
      "execution_count": 13,
      "outputs": [],
      "metadata": {},
      "source": [
        "import azureml.core\n",
        "import logging\n",
        "from azureml.core.workspace import Workspace\n",
        "from azureml.core import Workspace\n",
        "from azureml.core.experiment import Experiment\n",
        "from azureml.train.automl import AutoMLConfig\n",
        "import os\n",
        "\n",
        "subscription_id = os.getenv(\"SUBSCRIPTION_ID\", default=\"<subscription id>\")\n",
        "resource_group = os.getenv(\"RESOURCE_GROUP\", default=\"<resource group>\")\n",
        "workspace_name = os.getenv(\"WORKSPACE_NAME\", default=\"<AML workspace name>\")\n",
        "workspace_region = os.getenv(\"WORKSPACE_REGION\", default=\"<Region>\")\n",
        "\n",
        "ws = Workspace(subscription_id = subscription_id, resource_group = resource_group, workspace_name = workspace_name)\n",
        "ws.write_config()"
      ],
      "attachments": {}
    },
    {
      "cell_type": "code",
      "execution_count": 14,
      "outputs": [],
      "metadata": {},
      "source": [
        "from sklearn.model_selection import train_test_split\r\n",
        "\r\n",
        "y_df = final_df.pop(\"totalAmount\")\r\n",
        "x_df = final_df\r\n",
        "\r\n",
        "x_train, x_test, y_train, y_test = train_test_split(x_df, y_df, test_size=0.2, random_state=223)"
      ]
    },
    {
      "cell_type": "code",
      "execution_count": 15,
      "outputs": [],
      "metadata": {},
      "source": [
        "import logging\n",
        "\n",
        "automl_settings = {\n",
        "    \"iteration_timeout_minutes\": 2,\n",
        "    \"iterations\": 5,\n",
        "    \"primary_metric\": 'spearman_correlation',\n",
        "    \"preprocess\": True,\n",
        "    \"verbosity\": logging.INFO,\n",
        "    \"n_cross_validations\": 2\n",
        "}"
      ]
    },
    {
      "cell_type": "code",
      "execution_count": 16,
      "outputs": [],
      "metadata": {},
      "source": [
        "from azureml.train.automl import AutoMLConfig\n",
        "\n",
        "label = \"totalAmount\"\n",
        "\n",
        "automl_config = AutoMLConfig(task='regression',\n",
        "                             debug_log='automl_errors_5.log',\n",
        "#                             compute_target = AMLCompute,\n",
        "                             X=x_train,\n",
        "                             y=y_train,\n",
        "#                             label_column_name = label,\n",
        "                             enable_onnx_compatible_models=True,\n",
        "                             **automl_settings)"
      ]
    },
    {
      "cell_type": "code",
      "execution_count": 17,
      "outputs": [
        {
          "output_type": "execute_result",
          "data": {
            "text/plain": "Running on local machine\nParent Run ID: AutoML_53e22dfc-ee81-4ac2-928b-44842721f960\n\n\rCurrent status: DatasetEvaluation. Gathering dataset statistics.\n\rCurrent status: FeaturesGeneration. Generating features for the dataset.\n\rCurrent status: DatasetFeaturization. Beginning to fit featurizers and featurize the dataset.\n\rCurrent status: DatasetFeaturizationCompleted. Completed fit featurizers and featurizing the dataset.\n\rCurrent status: DatasetCrossValidationSplit. Generating individually featurized CV splits.\n\n****************************************************************************************************\nDATA GUARDRAILS: \n\nTYPE:         High cardinality feature detection\nSTATUS:       PASSED\nDESCRIPTION:  Your inputs were analyzed, and no high cardinality features were detected.\n              Learn more about high cardinality feature handling: https://aka.ms/AutomatedMLFeaturization\n\n****************************************************************************************************\n\rCurrent status: ModelSelection. Beginning model selection.\n\n****************************************************************************************************\nITERATION: The iteration being evaluated.\nPIPELINE: A summary description of the pipeline being evaluated.\nDURATION: Time taken for the current iteration.\nMETRIC: The result of computing score on the fitted pipeline.\nBEST: The best observed score thus far.\n****************************************************************************************************\n\n ITERATION   PIPELINE                                       DURATION      METRIC      BEST\n         0   MaxAbsScaler LightGBM                          0:00:15       0.9403    0.9403\n         1   StandardScalerWrapper RandomForest             0:00:32       0.8817    0.9403\n         2   StandardScalerWrapper LightGBM                 0:00:21       0.9395    0.9403\n         3   MaxAbsScaler RandomForest                      0:00:33       0.9421    0.9421\n         4   VotingEnsemble                                 0:00:24       0.9436    0.9436\n****************************************************************************************************\n\rCurrent status: BestRunExplainModel. Best run model explanations started\n\rCurrent status: ModelExplanationDataSetSetup. Model explanations data setup completed\n\rCurrent status: PickSurrogateModel. Choosing LightGBM as the surrogate model for explanations\n\rCurrent status: EngineeredFeatureExplanations. Computation of engineered features started\n\rCurrent status: EngineeredFeatureExplanations. Computation of engineered features completed\n\rCurrent status: BestRunExplainModel. Best run model explanations completed\n****************************************************************************************************"
          },
          "execution_count": 17,
          "metadata": {}
        }
      ],
      "metadata": {},
      "source": [
        "from azureml.core.experiment import Experiment\n",
        "experiment = Experiment(ws, \"greentaxi-experiment1\")\n",
        "local_run = experiment.submit(automl_config, show_output=True)"
      ]
    },
    {
      "cell_type": "markdown",
      "metadata": {},
      "source": [
        "### Retrieve the best onnx model\n",
        ""
      ],
      "attachments": {}
    },
    {
      "cell_type": "code",
      "execution_count": 18,
      "outputs": [],
      "metadata": {},
      "source": [
        "best_run, onnx_mdl = local_run.get_output(return_onnx_model=True) "
      ]
    },
    {
      "cell_type": "code",
      "execution_count": 19,
      "outputs": [],
      "metadata": {},
      "source": [
        "from azureml.automl.runtime.onnx_convert.onnx_converter import OnnxConverter\n",
        "onnx_fl_path = \"./taxi_best_model.onnx\"\n",
        "OnnxConverter.save_onnx_model(onnx_mdl, onnx_fl_path) #save the best onnx model"
      ]
    },
    {
      "cell_type": "code",
      "execution_count": 20,
      "outputs": [
        {
          "output_type": "execute_result",
          "data": {
            "text/plain": "1604695"
          },
          "execution_count": 20,
          "metadata": {}
        }
      ],
      "metadata": {},
      "source": [
        "with open(\"taxi_best_model.onnx\", \"wb\") as f:\n",
        "    f.write(onnx_mdl.SerializeToString())"
      ],
      "attachments": {}
    },
    {
      "cell_type": "markdown",
      "metadata": {},
      "source": [
        "### Export ONNX model\n",
        ""
      ],
      "attachments": {}
    },
    {
      "cell_type": "code",
      "execution_count": 21,
      "outputs": [
        {
          "output_type": "execute_result",
          "data": {
            "text/plain": "{'etag': '\"0x8D838E4F321357F\"', 'last_modified': datetime.datetime(2020, 8, 5, 2, 12, 5, tzinfo=datetime.timezone.utc), 'content_md5': bytearray(b'>\\xea\\xf0<\\xb33\\xc1\\x88n\\xb5\\xe8\\xabz\\xce\\xc7\\xae'), 'client_request_id': '0ed3f72e-d6c1-11ea-af5a-000d3ac3c2f6', 'request_id': '8266be62-801e-008a-1bcd-6a2a6c000000', 'version': '2019-07-07', 'date': datetime.datetime(2020, 8, 5, 2, 12, 4, tzinfo=datetime.timezone.utc), 'request_server_encrypted': True, 'encryption_key_sha256': None, 'encryption_scope': None, 'error_code': None}"
          },
          "execution_count": 21,
          "metadata": {}
        }
      ],
      "metadata": {},
      "source": [
        "from azure.storage.blob import BlobServiceClient\n",
        "from azure.storage.blob import BlobClient\n",
        "\n",
        "connection_string = \"DefaultEndpointsProtocol=https;AccountName=<storage_account_name>;AccountKey=<key>;EndpointSuffix=core.windows.net\"\n",
        "service = BlobServiceClient.from_connection_string(conn_str=connection_string)\n",
        "\n",
        "blob = BlobClient.from_connection_string(conn_str=connection_string, container_name=\"<container_name>\", blob_name=\"<folder_name>/taxi_best_model.onnx\")\n",
        "\n",
        "with open(\"./taxi_best_model.onnx\", \"rb\") as data:\n",
        "    blob.upload_blob(data,overwrite=True)"
      ],
      "attachments": {}
    }
  ]
}